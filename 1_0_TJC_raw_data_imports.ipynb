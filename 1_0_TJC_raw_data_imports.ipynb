{
  "nbformat": 4,
  "nbformat_minor": 0,
  "metadata": {
    "colab": {
      "name": "1.0-TJC-raw-data-imports.ipynb",
      "version": "0.3.2",
      "provenance": [],
      "collapsed_sections": [],
      "toc_visible": true,
      "include_colab_link": true
    },
    "kernelspec": {
      "name": "python3",
      "display_name": "Python 3"
    }
  },
  "cells": [
    {
      "cell_type": "markdown",
      "metadata": {
        "id": "view-in-github",
        "colab_type": "text"
      },
      "source": [
        "<a href=\"https://colab.research.google.com/github/tcardlab/optimus_bind_sample/blob/master/1_0_TJC_raw_data_imports.ipynb\" target=\"_parent\"><img src=\"https://colab.research.google.com/assets/colab-badge.svg\" alt=\"Open In Colab\"/></a>"
      ]
    },
    {
      "cell_type": "markdown",
      "metadata": {
        "id": "X0jGhvmR58ye",
        "colab_type": "text"
      },
      "source": [
        "# Overview\n",
        "\n",
        "These are practice scripts to get the latest version of SKEMPI, parse data, and import relevent protein models"
      ]
    },
    {
      "cell_type": "markdown",
      "metadata": {
        "id": "-xNzzDKf5rw5",
        "colab_type": "text"
      },
      "source": [
        "# Scrape for Download links"
      ]
    },
    {
      "cell_type": "markdown",
      "metadata": {
        "id": "qQMVtEv24xwY",
        "colab_type": "text"
      },
      "source": [
        "## Package Install and imports"
      ]
    },
    {
      "cell_type": "code",
      "metadata": {
        "id": "mgFrwNpa4ppr",
        "colab_type": "code",
        "outputId": "9e6d1fe5-f946-4ee5-baf5-57e9ab700166",
        "colab": {
          "base_uri": "https://localhost:8080/",
          "height": 139
        }
      },
      "source": [
        "'''Package Installs'''\n",
        "\n",
        "!pip install requests\n",
        "!pip install beautifulsoup4"
      ],
      "execution_count": 0,
      "outputs": [
        {
          "output_type": "stream",
          "text": [
            "Requirement already satisfied: requests in /usr/local/lib/python3.6/dist-packages (2.21.0)\n",
            "Requirement already satisfied: certifi>=2017.4.17 in /usr/local/lib/python3.6/dist-packages (from requests) (2019.6.16)\n",
            "Requirement already satisfied: chardet<3.1.0,>=3.0.2 in /usr/local/lib/python3.6/dist-packages (from requests) (3.0.4)\n",
            "Requirement already satisfied: idna<2.9,>=2.5 in /usr/local/lib/python3.6/dist-packages (from requests) (2.8)\n",
            "Requirement already satisfied: urllib3<1.25,>=1.21.1 in /usr/local/lib/python3.6/dist-packages (from requests) (1.24.3)\n",
            "Requirement already satisfied: beautifulsoup4 in /usr/local/lib/python3.6/dist-packages (4.6.3)\n"
          ],
          "name": "stdout"
        }
      ]
    },
    {
      "cell_type": "code",
      "metadata": {
        "id": "os0cN6eo4aeb",
        "colab_type": "code",
        "colab": {}
      },
      "source": [
        "'''Package Imports'''\n",
        "\n",
        "#Get HTML\n",
        "import requests\n",
        "import bs4\n",
        "\n",
        "#Parsering – https://www.crummy.com/software/BeautifulSoup/bs4/doc/#installing-a-parser\n",
        "import lxml.etree as xml \n",
        "import re\n",
        "\n",
        "#Populate Dataframe\n",
        "import numpy as np\n",
        "import pandas as pd"
      ],
      "execution_count": 0,
      "outputs": []
    },
    {
      "cell_type": "markdown",
      "metadata": {
        "id": "CQYNfIcm6PKD",
        "colab_type": "text"
      },
      "source": [
        "## Scraper"
      ]
    },
    {
      "cell_type": "markdown",
      "metadata": {
        "colab_type": "text",
        "id": "v5F9Jb-25eMQ"
      },
      "source": [
        "**Learn to scrape here: **\n",
        "\n",
        "https://colab.research.google.com/drive/15AEaOsAKWgikKY7BEOWxUlKsjjBjRD6R#scrollTo=dJTEYuhp4CBN\n"
      ]
    },
    {
      "cell_type": "code",
      "metadata": {
        "id": "DHpaqnzP5t0n",
        "colab_type": "code",
        "colab": {}
      },
      "source": [
        "#URLs\n",
        "home= 'https://life.bsc.es'\n",
        "URL = home+'/pid/skempi2/database/index'\n",
        "\n",
        "\n",
        "#Get HTML:\n",
        "#https://www.scrapehero.com/how-to-prevent-getting-blacklisted-while-scraping/\n",
        "webPage = bs4.BeautifulSoup(requests.get(\n",
        "    URL, \n",
        "    headers={\"UserAgent\": \"Mozilla/5.0 (X11; Linux x86_64) AppleWebKit/537.36 (KHTML, like Gecko) Chrome/65.0.3325.183 Safari/537.36\"}).text, \n",
        "    \"lxml\")\n",
        "\n",
        "\n",
        "#Exctract potential download links:\n",
        "links = webPage.findAll(name='a', \n",
        "                attrs={\"href\": re.compile(\".csv|tgz\")})\n",
        "#print(*_, sep = \"\\n\")\n",
        "\n",
        "\n",
        "#Find most recent verion:\n",
        "download = dict() #format = {ver:[csv link, pdb link], ...}\n",
        "for a in links:\n",
        "  ver = eval(re.match('SKEMPI v[.]?(\\d+\\.\\d+)', a.text)[1]);\n",
        "  href = a.get('href')\n",
        "  if ver not in download: download[ver]=[None, None]\n",
        "  download[ver]['tgz' in href] = home+href if href[0]=='/' else href\n",
        "#print(download)\n",
        "current=max(download.keys())"
      ],
      "execution_count": 0,
      "outputs": []
    },
    {
      "cell_type": "markdown",
      "metadata": {
        "id": "TvaQ8Ej0T-4S",
        "colab_type": "text"
      },
      "source": [
        "# Download and Dataframe\n",
        "\n"
      ]
    },
    {
      "cell_type": "code",
      "metadata": {
        "id": "if08Fv5q5-LN",
        "colab_type": "code",
        "colab": {}
      },
      "source": [
        "data = pd.read_csv(download[current][0], sep=';')"
      ],
      "execution_count": 0,
      "outputs": []
    },
    {
      "cell_type": "code",
      "metadata": {
        "id": "R2tKLT_nXlcm",
        "colab_type": "code",
        "outputId": "bae36964-3c04-47c2-8ced-d1525884dfcb",
        "colab": {
          "base_uri": "https://localhost:8080/",
          "height": 612
        }
      },
      "source": [
        "print(data.info())\n",
        "#print(*data.columns, sep='\\n')\n",
        "#print(data.iloc[0]) #get row"
      ],
      "execution_count": 0,
      "outputs": [
        {
          "output_type": "stream",
          "text": [
            "<class 'pandas.core.frame.DataFrame'>\n",
            "RangeIndex: 7085 entries, 0 to 7084\n",
            "Data columns (total 29 columns):\n",
            "#Pdb                            7085 non-null object\n",
            "Mutation(s)_PDB                 7085 non-null object\n",
            "Mutation(s)_cleaned             7085 non-null object\n",
            "iMutation_Location(s)           7085 non-null object\n",
            "Hold_out_type                   3311 non-null object\n",
            "Hold_out_proteins               7085 non-null object\n",
            "Affinity_mut (M)                7085 non-null object\n",
            "Affinity_mut_parsed             6800 non-null float64\n",
            "Affinity_wt (M)                 7085 non-null object\n",
            "Affinity_wt_parsed              7083 non-null float64\n",
            "Reference                       7085 non-null object\n",
            "Protein 1                       7085 non-null object\n",
            "Protein 2                       7085 non-null object\n",
            "Temperature                     7081 non-null object\n",
            "kon_mut (M^(-1)s^(-1))          1844 non-null float64\n",
            "kon_mut_parsed                  1844 non-null float64\n",
            "kon_wt (M^(-1)s^(-1))           1853 non-null float64\n",
            "kon_wt_parsed                   1853 non-null float64\n",
            "koff_mut (s^(-1))               1844 non-null object\n",
            "koff_mut_parsed                 1844 non-null float64\n",
            "koff_wt (s^(-1))                1860 non-null object\n",
            "koff_wt_parsed                  1860 non-null float64\n",
            "dH_mut (kcal mol^(-1))          443 non-null float64\n",
            "dH_wt (kcal mol^(-1))           443 non-null float64\n",
            "dS_mut (cal mol^(-1) K^(-1))    443 non-null float64\n",
            "dS_wt (cal mol^(-1) K^(-1))     443 non-null float64\n",
            "Notes                           3062 non-null object\n",
            "Method                          7085 non-null object\n",
            "SKEMPI version                  7085 non-null int64\n",
            "dtypes: float64(12), int64(1), object(16)\n",
            "memory usage: 1.6+ MB\n",
            "None\n"
          ],
          "name": "stdout"
        }
      ]
    },
    {
      "cell_type": "markdown",
      "metadata": {
        "id": "t83W2cB_7_Bj",
        "colab_type": "text"
      },
      "source": [
        "##**Index descriptions**\n",
        "\n",
        "Source – https://life.bsc.es/pid/skempi2/info/faq_and_help\n",
        "\n",
        "---\n",
        "\n",
        "\n",
        "\n",
        "0.   <strong>'#Pdb' – </strong>\n",
        "The PDB entry for the complex, followed by the chain identifiers for the two subunits. The first chain(s) correspond to protein 1 (column 10) and the second chain(s) correspond to protein 2 (column 11). Following this link will lead you to the relevant page in the protein databank.\n",
        "\n",
        "0.   <strong>'Mutation(s)_PDB' – </strong>\n",
        "The mutation(s) corresponding to the residue numbering found in the protein databank. The first character is the one letter amino acid code for the original residue, the second character is the chain identifier, the third to penultimate characters indicate the residue number, followed by the residue insertion code where applicable, and the final character indicates the mutant amino acid. Where multiple mutations are present, they are separated by commas.\n",
        "\n",
        "0.  <strong>'Mutation(s)_cleaned' – </strong>\n",
        "The mutation(s) corresponding to the residue numbering in the 'cleaned' pdb files, in the same format as for column 2.\n",
        "\n",
        "0.   <strong>'iMutation_Location(s)' – </strong>\n",
        "The locations of the mutations(s) in or away from the binding site, as defined in \"A simple definition of structural regions in proteins and its use in analyzing interface evolution\", ED Levy, J Mol Biol. 2010, 403(4):660-70.\n",
        "\n",
        "0.   <strong>'Hold_out_type' – </strong>\n",
        "Some of the complexes are classified as protease-inhibitor (Pr/PI), antibody-antigen (AB/AG) or pMHC-TCR (TCR/pMHC). This classification was introduced to aid in the cross-validation of empirical models trained using the data in the SKEMPI database, so that proteins of a similar type can be simultaneously held out during a cross-validation.\n",
        "\n",
        "0.   <strong>'Hold_out_proteins' – </strong>\n",
        "This column contains the PDB identifiers (in column 1) and/or hold-out types (column 5) for all the protein complexes which may be excluded from the training when cross-validating an empirical model trained on this data, so as to avoid contaminating the training set with information pertaining to the binding site being evaluated.\n",
        "\n",
        "0.   <strong>'Affinity_mut (M)' – </strong>\n",
        "The affinity of the mutant form (M).\n",
        "\n",
        "0.   <strong>'Affinity_mut_parsed' – </strong>\n",
        "The affinity of the mutant form (M).\n",
        "\n",
        "0.   <strong>'Affinity_wt (M)' – </strong>\n",
        "The affinity of the wild-type form, or form in the PDB structure (M).\n",
        "\n",
        "0.    <strong>'Affinity_wt_parsed' – </strong>\n",
        "The affinity of the wild-type form, or form in the PDB structure (M).\n",
        "\n",
        "0.    <strong>'Reference' – </strong>\n",
        "The reference for the affinities, as well as any further kinetic or thermodynamic information. Where available, the pubmed ID is given with a link to the relevant entry in pubmed, otherwise the whole reference is given.\n",
        "\n",
        "0.    <strong>'Protein 1' – </strong>\n",
        "This is the name of the protein which corresponds to the first chain(s) given in column 1.\n",
        "\n",
        "0.   <strong>'Protein 2' – </strong>\n",
        "This is the name of the protein which corresponds to the second chain(s) given in column 1.\n",
        "\n",
        "0.   <strong>'Temperature' – </strong>\n",
        "The temperature at which the experiment was performed.\n",
        "\n",
        "0.   <strong>'kon_mut (M^(-1)s^(-1))' – </strong>\n",
        "The association rate for the mutant protein, where available (M^(-1)s^(-1)).\n",
        "\n",
        "0.   <strong>'kon_mut_parsed' – </strong>\n",
        "The association rate for the mutant protein, where available (M^(-1)s^(-1)).\n",
        "\n",
        "0.   <strong>'kon_wt (M^(-1)s^(-1))' – </strong>\n",
        "The association rate for the wild-type protein or protein in the crystal structure, where available (M^(-1)S^(-1)).\n",
        "\n",
        "0.   <strong>'kon_wt_parsed' – </strong>\n",
        "The association rate for the wild-type protein or protein in the crystal structure, where available (M^(-1)S^(-1)).\n",
        "\n",
        "0.   <strong>'koff_mut (s^(-1))' – </strong>\n",
        "The dissociation rate for the mutant protein, where available (s^(-1)).\n",
        "\n",
        "0.   <strong>'koff_mut_parsed' – </strong>\n",
        "The dissociation rate for the mutant protein, where available (s^(-1)).\n",
        "\n",
        "0.   <strong>'koff_wt (s^(-1))' – </strong>\n",
        "The dissociation rate for the wild-type protein or protein in the crystal structure, where available (s^(-1)).\n",
        "\n",
        "0.   <strong>'koff_wt_parsed' – </strong>\n",
        "The dissociation rate for the wild-type protein or protein in the crystal structure, where available (s^(-1)).\n",
        "\n",
        "0.   <strong>'dH_mut (kcal mol^(-1))' – </strong>\n",
        "The enthalpy of association for the mutant protein, where available (kcal mol^(-1)).\n",
        "\n",
        "0.   <strong>'dH_wt (kcal mol^(-1))' – </strong>\n",
        "The enthalpy of association for the wild-type protein or protein in the crystal structure, where available (kcal mol^(-1)).\n",
        "\n",
        "0.   <strong>'dS_mut (cal mol^(-1) K^(-1))' – </strong>\n",
        "The entropy of association for the mutant protein, where available (cal mol^(-1) K^(-1)).\n",
        "\n",
        "0.   <strong>'dS_wt (cal mol^(-1) K^(-1))' – </strong>\n",
        "The entropy of association for the wild-type protein or protein in the crystal structure, where available (cal mol^(-1) K^(-1)).\n",
        "\n",
        "0.   <strong>'Notes' – </strong>\n",
        "Notes regarding the entry.\n",
        "\n",
        "0.   <strong>'Method' – </strong>\n",
        "The experimental method used to measure the affinities.\n",
        "\n",
        "0.   <strong>'SKEMPI version' – </strong>\n",
        "The SKEMPI version number."
      ]
    },
    {
      "cell_type": "markdown",
      "metadata": {
        "id": "8nnQG6Cj0Wv5",
        "colab_type": "text"
      },
      "source": [
        "## Some Calculations"
      ]
    },
    {
      "cell_type": "markdown",
      "metadata": {
        "id": "L03UsE9Z24vo",
        "colab_type": "text"
      },
      "source": [
        "**Q. I don't see any ΔG or ΔΔG values in the table. How do I calculate these?**\n",
        "\n",
        "The affinities (Kd) of the wild-type complexes are in the column 'affinity_wt' \n",
        "and the affinities of the mutant are in the column 'affinity_mut'. These can be \n",
        "converted to ΔG values by the relationship ΔG = R*T*ln(Kd); at room temperature \n",
        "this is ΔG = (8.314/4184) * (273.15 + 25.0) * ln(wt), where ln() is the natural \n",
        "logarithm. The changes in affinity upon mutation is calculated as \n",
        "ΔΔG = ΔGmut-ΔGwt\n",
        "\n",
        "Source – https://life.bsc.es/pid/skempi2/info/faq_and_help"
      ]
    },
    {
      "cell_type": "code",
      "metadata": {
        "id": "zwLbA0gIy7KP",
        "colab_type": "code",
        "outputId": "71f7e3b9-d064-4c98-cfb1-2c75998c3c06",
        "colab": {
          "base_uri": "https://localhost:8080/",
          "height": 51
        }
      },
      "source": [
        "#Sorted PDB#s\n",
        "#print(data.iloc[:,0].sort_values())\n",
        "\n",
        "row = 1 # for testing purposes\n",
        "affinMuT = data.loc[row, 'Affinity_mut_parsed']\n",
        "affinWiT = data.loc[row, 'Affinity_wt_parsed']\n",
        "\n",
        "#ΔG = R*T*ln(Kd)\n",
        "def gibbsEq(Kd):\n",
        "  ΔG = (8.314/4184) * (273.15 + 25.0) * np.log(Kd) #log is ln in np\n",
        "  return ΔG\n",
        "\n",
        "print(gibbsEq(affinMuT),gibbsEq(affinWiT))\n",
        "\n",
        "ΔΔG=gibbsEq(affinMuT)-gibbsEq(affinWiT)\n",
        "print('ΔΔG =', ΔΔG)"
      ],
      "execution_count": 0,
      "outputs": [
        {
          "output_type": "stream",
          "text": [
            "-15.1141359632168 -16.30291146867832\n",
            "ΔΔG = 1.1887755054615212\n"
          ],
          "name": "stdout"
        }
      ]
    },
    {
      "cell_type": "markdown",
      "metadata": {
        "id": "EDfaoCerWEhg",
        "colab_type": "text"
      },
      "source": [
        "##Testing Class Creation"
      ]
    },
    {
      "cell_type": "code",
      "metadata": {
        "id": "cET4i0OyUGNs",
        "colab_type": "code",
        "outputId": "68375dde-58d3-4a9e-f810-47ceec8cc4d4",
        "colab": {
          "base_uri": "https://localhost:8080/",
          "height": 51
        }
      },
      "source": [
        "'''\n",
        "LI38G - Leucine 38 on chain I to Glycine\n",
        "'''\n",
        "#print(data['Mutation(s)_cleaned']) # see mutation(s) location\n",
        "test_mutation=\"RI48A,RI46A\"\n",
        "\n",
        "mutations = test_mutation.split(',')\n",
        "for mut in mutations:\n",
        "  initAA, chain, loc, mutAA = re.findall('(\\d+|.)', mut)\n",
        "  print(initAA, chain, loc, mutAA)"
      ],
      "execution_count": 0,
      "outputs": [
        {
          "output_type": "stream",
          "text": [
            "R I 48 A\n",
            "R I 46 A\n"
          ],
          "name": "stdout"
        }
      ]
    },
    {
      "cell_type": "markdown",
      "metadata": {
        "id": "_1uZIn4UDwvr",
        "colab_type": "text"
      },
      "source": [
        "**Basics:**\n",
        "\n",
        "* https://www.w3schools.com/python/python_inheritance.asp\n",
        "\n",
        "* https://pybit.es/python-subclasses.html\n",
        "\n",
        "**Pandas specifics:**\n",
        "\n",
        "* https://stackoverflow.com/questions/22155951/how-to-subclass-pandas-dataframe\n",
        "\n",
        "**downside of subclassing? (Note: date is old)**\n",
        "\n",
        "* https://stackoverflow.com/questions/24504756/pandas-dataframe-object-inheritance-or-object-use\n"
      ]
    },
    {
      "cell_type": "code",
      "metadata": {
        "id": "sjju1iNoG0Ye",
        "colab_type": "code",
        "outputId": "4c06678c-6613-49df-ef72-4f83cdcea13e",
        "colab": {
          "base_uri": "https://localhost:8080/",
          "height": 85
        }
      },
      "source": [
        "'''\n",
        "pd.DataFrame subclass/inheritence\n",
        "Successful parsing of mutation code \n",
        "'''\n",
        "class Test(pd.DataFrame):\n",
        "  def mutation(self, row):\n",
        "    keys = ['initAA', 'chain', 'loc', 'mutAA']  # code key\n",
        "    mut_codes = self.loc[row]['Mutation(s)_cleaned'].split(',')\n",
        "    unzip_code = zip(*[re.findall('(\\d+|.)', mut) for mut in mut_codes])\n",
        "    mutations = dict(zip(keys, unzip_code))\n",
        "    return mutations\n",
        "\n",
        "  @property\n",
        "  def _constructor(self):\n",
        "    return Test\n",
        "\n",
        "test = Test(data)\n",
        "test.mutation(19)  # .values()"
      ],
      "execution_count": 110,
      "outputs": [
        {
          "output_type": "execute_result",
          "data": {
            "text/plain": [
              "{'chain': ('I', 'I'),\n",
              " 'initAA': ('R', 'R'),\n",
              " 'loc': ('48', '46'),\n",
              " 'mutAA': ('A', 'A')}"
            ]
          },
          "metadata": {
            "tags": []
          },
          "execution_count": 110
        }
      ]
    },
    {
      "cell_type": "markdown",
      "metadata": {
        "id": "wNDw81Ka0IOO",
        "colab_type": "text"
      },
      "source": [
        "# Import PDBs"
      ]
    },
    {
      "cell_type": "markdown",
      "metadata": {
        "id": "r8p-q6Q62XzZ",
        "colab_type": "text"
      },
      "source": [
        "## SKEMPI v?"
      ]
    },
    {
      "cell_type": "markdown",
      "metadata": {
        "colab_type": "text",
        "id": "1MqkFOsL5d3C"
      },
      "source": [
        "*– Citation –*\n",
        "\n",
        "\"SKEMPI 2.0: An updated benchmark of changes in protein-protein binding energy, kinetics and thermodynamics upon mutation\". \n",
        "Justina Jankauskaitė, Brian Jiménez-García, Justas Dapkūnas, Juan Fernández-Recio, Iain H Moal \n",
        "Bioinformatics (2018), bty635, https://doi.org/10.1093/bioinformatics/bty635\n"
      ]
    },
    {
      "cell_type": "code",
      "metadata": {
        "id": "WfhapCf2wWcc",
        "colab_type": "code",
        "colab": {}
      },
      "source": [
        "#Download current SKEMPI PDBs\n",
        "LINK = download[current][1]\n",
        "!wget $LINK"
      ],
      "execution_count": 0,
      "outputs": []
    },
    {
      "cell_type": "code",
      "metadata": {
        "id": "ZM34dcPuxp38",
        "colab_type": "code",
        "colab": {}
      },
      "source": [
        "#Extract Data from copressed file\n",
        "#takes like 5 mins for folder to show... be patient \n",
        "!tar -xvzf SKEMPI2_PDBs.tgz"
      ],
      "execution_count": 0,
      "outputs": []
    },
    {
      "cell_type": "markdown",
      "metadata": {
        "id": "rLwYa2Rx2knS",
        "colab_type": "text"
      },
      "source": [
        "## ZEMu"
      ]
    },
    {
      "cell_type": "code",
      "metadata": {
        "id": "82husUOyMIxl",
        "colab_type": "code",
        "colab": {}
      },
      "source": [
        "#ZEMu\n",
        "\n",
        "#Download ZEMu PDBs\n",
        "LINK = 'https://files.slack.com/files-pri/THK7D0M9N-FHRPP4CQ1/download/zemu_pdbs.tar?pub_secret=20bb6acac1' \n",
        "!wget $LINK -O zemu_pdbs.tar\n",
        "\n",
        "#NOTE: if pub_secret exprires or something...\n",
        "#copy url from this publick link, paste as LINK\n",
        "#https://slack-files.com/THK7D0M9N-FHRPP4CQ1-20bb6acac1"
      ],
      "execution_count": 0,
      "outputs": []
    },
    {
      "cell_type": "code",
      "metadata": {
        "id": "mboULxL20RmO",
        "colab_type": "code",
        "colab": {}
      },
      "source": [
        "#Extract Data from copressed file\n",
        "!tar -xvf zemu_pdbs.tar\n",
        "#takes like 5 mins for folder to show... be patient "
      ],
      "execution_count": 0,
      "outputs": []
    },
    {
      "cell_type": "code",
      "metadata": {
        "id": "EEyGO9vz0235",
        "colab_type": "code",
        "colab": {}
      },
      "source": [
        ""
      ],
      "execution_count": 0,
      "outputs": []
    }
  ]
}