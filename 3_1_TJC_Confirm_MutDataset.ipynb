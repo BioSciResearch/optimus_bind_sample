{
  "nbformat": 4,
  "nbformat_minor": 0,
  "metadata": {
    "colab": {
      "name": "3.1-TJC-Confirm-MutDataset.ipynb",
      "version": "0.3.2",
      "provenance": [],
      "collapsed_sections": [
        "Jl_rwWq2AxnP",
        "EgOGx_RkVd0B",
        "MWY5f7DPz_Db",
        "SCwq6SZyV7ui",
        "7h771nJtW9jZ",
        "7lFknZbXv4E_"
      ],
      "include_colab_link": true
    },
    "kernelspec": {
      "name": "python3",
      "display_name": "Python 3"
    }
  },
  "cells": [
    {
      "cell_type": "markdown",
      "metadata": {
        "id": "view-in-github",
        "colab_type": "text"
      },
      "source": [
        "<a href=\"https://colab.research.google.com/github/tcardlab/optimus_bind_sample/blob/develop/3_1_TJC_Confirm_MutDataset.ipynb\" target=\"_parent\"><img src=\"https://colab.research.google.com/assets/colab-badge.svg\" alt=\"Open In Colab\"/></a>"
      ]
    },
    {
      "cell_type": "markdown",
      "metadata": {
        "id": "Gm6Pmc8gTs3m",
        "colab_type": "text"
      },
      "source": [
        "Due to an error in the origional Skempi_import, empty temperatures did not default to 298K. After I fixed it in 3.0, Outputs DDG median calculation changed. I wish to confirm that this change is correct by manual reproduction. This issue has two facets, values changing (confirmed correct by *Manual Reproduction*) and values effecting groups and duplicates(Explained in *Temp in drop, not in Groupby*)."
      ]
    },
    {
      "cell_type": "markdown",
      "metadata": {
        "id": "Jl_rwWq2AxnP",
        "colab_type": "text"
      },
      "source": [
        "#Import Dataset"
      ]
    },
    {
      "cell_type": "code",
      "metadata": {
        "id": "3hx0oTB-S0Jn",
        "colab_type": "code",
        "colab": {
          "base_uri": "https://localhost:8080/",
          "height": 204
        },
        "outputId": "53271c85-ef19-44d0-9bbc-05901ea6d88f"
      },
      "source": [
        "import pandas as pd\n",
        "import numpy as np\n",
        "import re\n",
        "\n",
        "csv_link = 'https://life.bsc.es/pid/skempi2/database/download/skempi_v2.csv'\n",
        "!wget $csv_link -O skempi_v2.0.csv #-O to rename\n",
        "skempi = pd.read_csv('skempi_v2.0.csv', sep=';')"
      ],
      "execution_count": 45,
      "outputs": [
        {
          "output_type": "stream",
          "text": [
            "--2019-09-11 04:10:12--  https://life.bsc.es/pid/skempi2/database/download/skempi_v2.csv\n",
            "Resolving life.bsc.es (life.bsc.es)... 84.88.52.107\n",
            "Connecting to life.bsc.es (life.bsc.es)|84.88.52.107|:443... connected.\n",
            "HTTP request sent, awaiting response... 200 OK\n",
            "Length: 1602208 (1.5M) [text/csv]\n",
            "Saving to: ‘skempi_v2.0.csv’\n",
            "\n",
            "skempi_v2.0.csv     100%[===================>]   1.53M   445KB/s    in 3.5s    \n",
            "\n",
            "2019-09-11 04:10:16 (445 KB/s) - ‘skempi_v2.0.csv’ saved [1602208/1602208]\n",
            "\n"
          ],
          "name": "stdout"
        }
      ]
    },
    {
      "cell_type": "markdown",
      "metadata": {
        "id": "EgOGx_RkVd0B",
        "colab_type": "text"
      },
      "source": [
        "#Original "
      ]
    },
    {
      "cell_type": "code",
      "metadata": {
        "id": "_7cjW2xIVdeI",
        "colab_type": "code",
        "colab": {
          "base_uri": "https://localhost:8080/",
          "height": 119
        },
        "outputId": "72613897-7d59-4ad2-fd23-5e0123211776"
      },
      "source": [
        "def SKEMPItoPandas(SKEMPI_loc):\n",
        "    #fix this\n",
        "    pd.options.mode.chained_assignment = None  # default='warn'\n",
        "    \n",
        "    #Constants\n",
        "    R=1.9872036e-3 #Ideal Gas Constant in kcal\n",
        "    \n",
        "    SKEMPI_df = pd.read_csv(SKEMPI_loc,sep=';')\n",
        "   \n",
        "    #Convert non numeric temperature comments to numeric values. Default is 298 K \n",
        "    ConvertTemp = lambda x: int(re.search(r'\\d+', x).group(0) or 298)\n",
        "    BadTemps=SKEMPI_df.Temperature.str.isnumeric()==0\n",
        "    SKEMPI_df['Temperature'].loc[BadTemps]=SKEMPI_df['Temperature'].loc[BadTemps].map(ConvertTemp)\n",
        "    SKEMPI_df['Temperature']=pd.to_numeric(SKEMPI_df['Temperature'], errors='coerce')\n",
        "    print(skempi[6665:6669][['#Pdb','Mutation(s)_cleaned', 'Temperature']])\n",
        "    \n",
        "    #Drop missing values\n",
        "    SKEMPI_df.dropna(subset=['Affinity_wt_parsed'], inplace=True)\n",
        "    SKEMPI_df.dropna(subset=['Affinity_mut_parsed'], inplace=True)\n",
        "    \n",
        "    #Calculate free energies\n",
        "    SKEMPI_df['dgWT']=-R*SKEMPI_df['Temperature']*np.log(SKEMPI_df['Affinity_wt_parsed'])\n",
        "    SKEMPI_df['dgMut']=-R*SKEMPI_df['Temperature']*np.log(SKEMPI_df['Affinity_mut_parsed'])\n",
        "    SKEMPI_df['ddG']=SKEMPI_df['dgWT']-SKEMPI_df['dgMut']\n",
        "    \n",
        "    #Create a key for unique mutations based on PDB and \n",
        "    SKEMPI_df['MutKey']=SKEMPI_df['#Pdb']+'_'+SKEMPI_df['Mutation(s)_PDB']\n",
        "    #Replace multiple measurements of the same mutation with the group mean\n",
        "    #May consider grouping by experimental method as well            \n",
        "    SKEMPI_df['ddgMedian'] = SKEMPI_df.groupby('MutKey')['ddG'].transform('median')        \n",
        "    SKEMPI_df=SKEMPI_df.drop_duplicates(subset=['MutKey','Temperature'], keep='first', inplace=False)\n",
        "    \n",
        "    #Flag multiple mutations in the same protein\n",
        "    SKEMPI_df['NumMutations']=SKEMPI_df['Mutation(s)_PDB'].str.count(',')+1 \n",
        "    \n",
        "    #Extract Chains and remove cross chain mutations. Chain is the second position in the mutation code\n",
        "    SKEMPI_df['Prot1Chain']=SKEMPI_df['#Pdb'].str.split('_').str[1]\n",
        "    SKEMPI_df['Prot2Chain']=SKEMPI_df['#Pdb'].str.split('_').str[2]\n",
        "    SKEMPI_df['MutSplit']=SKEMPI_df['Mutation(s)_PDB'].str.split(',')\n",
        "    def ChainCheck(df):\n",
        "        if df['NumMutations'] == 1:\n",
        "            CrossChain= False\n",
        "            return CrossChain\n",
        "        else:\n",
        "            Chain= df['MutSplit'][0][1]\n",
        "            if Chain in df['Prot1Chain']:\n",
        "                ChainSet=df['Prot1Chain']\n",
        "            elif Chain in df['Prot2Chain']:\n",
        "                ChainSet=df['Prot2Chain']\n",
        "            for i in range(len(df['MutSplit'])):\n",
        "                Chain= df['MutSplit'][i][1]\n",
        "                if Chain in ChainSet:\n",
        "                    CrossChain= False\n",
        "                else:\n",
        "                    CrossChain= True\n",
        "                    break\n",
        "        return CrossChain\n",
        "    SKEMPI_df['CrossChain']=SKEMPI_df.apply(ChainCheck, axis=1)        \n",
        "    SKEMPI_SingleSided=SKEMPI_df[SKEMPI_df.CrossChain == False]        \n",
        "    \n",
        "    NumProteins=SKEMPI_SingleSided['#Pdb'].nunique()\n",
        "    NumMutations=SKEMPI_SingleSided['#Pdb'].count()\n",
        "    print(\"There are %s unique single sided mutations in %s proteins\" % (NumMutations, NumProteins))             \n",
        "    return SKEMPI_SingleSided\n",
        "  \n",
        "skempi_og = SKEMPItoPandas('skempi_v2.0.csv')"
      ],
      "execution_count": 90,
      "outputs": [
        {
          "output_type": "stream",
          "text": [
            "          #Pdb Mutation(s)_cleaned Temperature\n",
            "6665  4G0N_A_B               DA38A         NaN\n",
            "6666  1C1Y_A_B               DA38A         NaN\n",
            "6667  1LFD_A_B               DB38A         NaN\n",
            "6668  1LFD_A_B               YB32W         NaN\n",
            "There are 5454 unique single sided mutations in 343 proteins\n"
          ],
          "name": "stdout"
        }
      ]
    },
    {
      "cell_type": "markdown",
      "metadata": {
        "id": "MWY5f7DPz_Db",
        "colab_type": "text"
      },
      "source": [
        "#New"
      ]
    },
    {
      "cell_type": "code",
      "metadata": {
        "id": "XeqDCVQwVprO",
        "colab_type": "code",
        "colab": {}
      },
      "source": [
        "class MutantDataset(pd.DataFrame):\n",
        "    '''<Subclassed Pandsas DataFrame>\n",
        "        Given the potential of multiple sources for mutant datasets,\n",
        "        this calss serves to improve clarity, debugging, and reusability\n",
        "\n",
        "        Needs repr\n",
        "    '''\n",
        "    def __init__(self, data, sep=',', index=None, columns=None, dtype=None,\n",
        "                 copy=True,):\n",
        "        '''Initialize subclass from DataFrame instance or csv path.'''\n",
        "        if type(data) == str:\n",
        "            data = pd.read_csv(data, sep=sep)\n",
        "        super(MutantDataset, self).__init__(data=data,\n",
        "                                            index=index,\n",
        "                                            columns=columns,\n",
        "                                            dtype=dtype,\n",
        "                                            copy=copy)\n",
        "\n",
        "    def Mutations(self, row):\n",
        "        '''Returns dictionary of mutation identifiers.'''\n",
        "        keys = ['initAA', 'chain', 'loc', 'mutAA']  # code key\n",
        "        mut_codes = self.loc[row]['Mutation(s)_cleaned'].split(',')\n",
        "        unzip_code = zip(*[re.findall('(\\d+|.)', mut) for mut in mut_codes])\n",
        "        mut_dct = dict(zip(keys, unzip_code))\n",
        "        return mut_dct\n",
        "\n",
        "    def to_numeric(self, keys):\n",
        "        '''converts column of single or list of keys to numeric'''\n",
        "        self[keys] = self[keys].apply(pd.to_numeric, errors='coerce')\n",
        "        return self[keys]\n",
        "\n",
        "    def gibbsEq(self, Kd_key, tmp_key='Temperature'):\n",
        "        '''Gibbs Free Energy = -R * Temp * ln(kd)'''\n",
        "        R = 1.9872036e-3  # Ideal Gas Constant in kcal\n",
        "        ΔG = -R * self[tmp_key] * np.log(self[Kd_key])  # log is ln in np\n",
        "        return ΔG\n",
        "\n",
        "    def solve_ddG(self, wild, mutant, tmp_key='Temperature'):\n",
        "        '''ddG is the changes in affinity upon mutation:\n",
        "              ddG = dG_Mutant-dG_wild_Type\n",
        "        '''\n",
        "        self['dgWT'] = self.gibbsEq(wild, tmp_key)\n",
        "        self['dgMut'] = self.gibbsEq(mutant, tmp_key)\n",
        "        self['ddG'] = self['dgWT']-self['dgMut']\n",
        "        return self\n",
        "\n",
        "    def _ChainCheck(self, df):\n",
        "        '''Utalizes subtracted sets to identify if\n",
        "           mutated chains are unique to a single protein\n",
        "        '''\n",
        "        mutated_chains = set(i[1] for i in df['MutSplit'])\n",
        "        prot1, prot2 = set(df['Prot1Chain']), set(df['Prot2Chain'])\n",
        "        if df['NumMutations'] == 1 or len(mutated_chains)==1:\n",
        "            # Single mutant is unique to one protien, not cross chain\n",
        "            return False\n",
        "        elif bool(mutated_chains-prot1) != bool(mutated_chains-prot2):\n",
        "            # given bool normalization this functions as xor\n",
        "            # A chain remains after subrtaction,\n",
        "            # mutations not unique to single protein, cross chain\n",
        "            return False\n",
        "        else:\n",
        "            # Mutated chains are specific to one protein\n",
        "            return True\n",
        "\n",
        "    def find_cross_chains(self):\n",
        "        '''checks if mutation occur on more than one protein'''\n",
        "        self['Prot1Chain'] = self['#Pdb'].str.split('_').str[1]\n",
        "        self['Prot2Chain'] = self['#Pdb'].str.split('_').str[2]\n",
        "        crossChain = self.apply(self._ChainCheck, axis=1)\n",
        "        return crossChain\n",
        "\n",
        "    @property\n",
        "    def _constructor(self):\n",
        "        return MutantDataset  # Class Name\n",
        "\n",
        "\n",
        "def Clean_Skempi(path):\n",
        "    '''\n",
        "    Purpose:\n",
        "        1. Loads SKEMPI CSV file.\n",
        "        2. Calculates ddG\n",
        "        3. For multiple measurements, keeps the median value\n",
        "        4. Eliminates entries with mutations on both sides of the interface\n",
        "    Input:\n",
        "        path : Location of SKEMPI CSV file\n",
        "    Output:\n",
        "        SKEMPI_SingleSided : MutantDataset(pd.DataFrame)\n",
        "    Note:\n",
        "        Content and order subject to change with additional datasets.\n",
        "        It is foreseeable that some steps may occur post combination.\n",
        "    '''\n",
        "  # Initialize class\n",
        "    skempi = MutantDataset(path, sep=';')\n",
        "\n",
        "  # Convert 'Temperature' comments/str's to numeric values. Default is 298\n",
        "    skempi['Temperature'] = skempi['Temperature'].str.extract(r'(\\d+)')\n",
        "    skempi['Temperature'] = skempi.to_numeric('Temperature')\n",
        "    skempi['Temperature'].fillna(value=298, inplace=True)  # 6665-6668 blank\n",
        "    print(skempi[6665:6669][['#Pdb','Mutation(s)_cleaned','Temperature']])\n",
        "\n",
        "  # Calculate free energies\n",
        "    dropna_lst = ['Affinity_wt_parsed', 'Affinity_mut_parsed']\n",
        "    skempi.dropna(subset=dropna_lst, inplace=True)\n",
        "    skempi = skempi.solve_ddG('Affinity_wt_parsed', 'Affinity_mut_parsed')\n",
        "    print(skempi[6665:6669][['#Pdb','Mutation(s)_cleaned', 'Temperature']])\n",
        "  \n",
        "  # Median and duplicate ddG/tmp values\n",
        "    group_keys = ['#Pdb', 'Mutation(s)_cleaned']\n",
        "    skempi['ddgMedian'] = skempi.groupby(group_keys)['ddG'].transform('median')\n",
        "    skempi.drop_duplicates(subset=[*group_keys, 'Temperature'],\n",
        "                                    keep='first', inplace=True)\n",
        "    print(skempi[6665:6669][['#Pdb','Mutation(s)_cleaned', 'Temperature']])\n",
        "\n",
        "  # Flag multiple mutations in the same protein\n",
        "    skempi['MutSplit'] = skempi['Mutation(s)_cleaned'].str.split(',')\n",
        "    skempi['NumMutations'] = skempi['MutSplit'].apply(len)\n",
        "\n",
        "  # Extract Chains and remove cross chain mutations.\n",
        "    skempi['CrossChain'] = skempi.find_cross_chains()\n",
        "    SKEMPI_SingleSided = skempi[skempi.CrossChain == False]\n",
        "    return SKEMPI_SingleSided"
      ],
      "execution_count": 0,
      "outputs": []
    },
    {
      "cell_type": "code",
      "metadata": {
        "id": "S5apUItzV3Fj",
        "colab_type": "code",
        "colab": {
          "base_uri": "https://localhost:8080/",
          "height": 204
        },
        "outputId": "d3bf6c1a-c4a4-465b-d100-be8210f05fa7"
      },
      "source": [
        "skempi_final = Clean_Skempi('skempi_v2.0.csv')\n",
        "NumProteins = skempi_final['#Pdb'].nunique()\n",
        "NumMutations = skempi_final['#Pdb'].count()\n",
        "print(f'There are {NumMutations} unique single sided'\n",
        "      f'mutations in {NumProteins} proteins')"
      ],
      "execution_count": 92,
      "outputs": [
        {
          "output_type": "stream",
          "text": [
            "          #Pdb Mutation(s)_cleaned  Temperature\n",
            "6665  4G0N_A_B               DA38A        298.0\n",
            "6666  1C1Y_A_B               DA38A        298.0\n",
            "6667  1LFD_A_B               DB38A        298.0\n",
            "6668  1LFD_A_B               YB32W        298.0\n",
            "          #Pdb Mutation(s)_cleaned  Temperature\n",
            "6947  1KBH_A_B      YB1172W,LA903A        298.0\n",
            "6948  1KBH_A_B      YB1172W,LA909A        298.0\n",
            "6949  1KBH_A_B      YB1172W,LA910A        298.0\n",
            "6950  1KBH_A_B      YB1172W,AA915G        298.0\n",
            "There are 5454 unique single sidedmutations in 343 proteins\n"
          ],
          "name": "stdout"
        }
      ]
    },
    {
      "cell_type": "markdown",
      "metadata": {
        "id": "SCwq6SZyV7ui",
        "colab_type": "text"
      },
      "source": [
        "#comparison"
      ]
    },
    {
      "cell_type": "markdown",
      "metadata": {
        "id": "mAfnrZBDZUYN",
        "colab_type": "text"
      },
      "source": [
        "**key = 'ddG'**\n",
        "\n",
        "We see New == OG except for the for blanks to be fixed.\n",
        "\n",
        "This  is the expected output and ensures equivalence before differentiating step.\n",
        "<details>\n",
        "  <summary> See supporting data</summary>\n",
        "\n",
        "6665\n",
        "- 4G0N_A_B  –  DA38A\n",
        "- nan | 2.534409601550072 \n",
        "\n",
        "6666\n",
        "- 1C1Y_A_B  –  DA38A\n",
        "- nan | 2.619152014020517\n",
        "\n",
        "6667\n",
        "- 1LFD_A_B  –  DB38A\n",
        "- nan | 2.7271204101180446\n",
        "\n",
        "6668\n",
        "- 1LFD_A_B  –  YB32W\n",
        "- nan | -0.21121814832220487\n",
        "</details>\n",
        "<br>\n",
        "\n",
        "**key = 'ddgMedian'**\n",
        "\n",
        "We see calculations involving those four has effected the median calculation of groups involving the new value.\n",
        "<details>\n",
        "  <summary> See supporting data</summary>\n",
        "\n",
        "6472\n",
        "- 1LFD_A_B  –  DB38A\n",
        "- 310.0  |  **310.0** *(same ddG calc, seperated by temp)*\n",
        "- 3.8958503047001924 | 3.3114853574091185\n",
        "  \n",
        "6493\n",
        "- 4G0N_A_B  –  DA38A\n",
        "- 308.0  |  **308.0** *(same ddG calc, seperated by temp)*\n",
        "- 3.2996884744981614 | 2.9170490380241167\n",
        "  \n",
        "6665\n",
        "- 4G0N_A_B  –  DA38A \n",
        "- nan  |  **298.0**\n",
        "- 3.2996884744981614 | 2.9170490380241167\n",
        "  \n",
        "6666\n",
        "- 1C1Y_A_B  –  DA38A\n",
        "- nan  |  298.0\n",
        "- nan | 2.619152014020517\n",
        "  \n",
        "6667\n",
        "- 1LFD_A_B  –  DB38A \n",
        "- nan  |  **298.0**\n",
        "- 3.8958503047001924 | 3.3114853574091185\n",
        "  \n",
        "6668\n",
        "- 1LFD_A_B  –  YB32W\n",
        "- nan  |  298.0\n",
        "- nan | -0.21121814832220487\n",
        "  \n",
        "False\n",
        "</details>"
      ]
    },
    {
      "cell_type": "code",
      "metadata": {
        "id": "CaFAOU6IV4Za",
        "colab_type": "code",
        "colab": {}
      },
      "source": [
        "skempi = skempi_final\n",
        "key = 'ddgMedian' #'ddG' #'ddgMedian'\n",
        "for i in skempi.index.tolist():\n",
        "  try:\n",
        "    og = skempi_og[key][i]\n",
        "  except:\n",
        "    og = ''\n",
        "  try:\n",
        "    new = skempi_final[key][i]\n",
        "  except:\n",
        "    new = ''\n",
        "  if og!=new and (og!='' and new!=''):\n",
        "    print(i)\n",
        "    print('\\t', skempi['#Pdb'][i], '  ',skempi['Mutation(s)_cleaned'][i])\n",
        "    ##Indices match.\n",
        "    #print('\\t', skempi_og['#Pdb'][i], '  ',skempi_og['Mutation(s)_cleaned'][i])\n",
        "    print('\\t', skempi_og['Temperature'][i], '  ',skempi['Temperature'][i])\n",
        "    print('\\t', og, new)\n",
        "    \n",
        "skempi_og[key].equals(skempi_final[key])"
      ],
      "execution_count": 0,
      "outputs": []
    },
    {
      "cell_type": "markdown",
      "metadata": {
        "id": "7h771nJtW9jZ",
        "colab_type": "text"
      },
      "source": [
        "#Manual Recreation(Success)"
      ]
    },
    {
      "cell_type": "markdown",
      "metadata": {
        "id": "KceEV8Vecncb",
        "colab_type": "text"
      },
      "source": [
        "I do not understand why there are two duplicates in both outputs... \n",
        "\n",
        "It is neccisary to gain insight to this calculation to ensure the validity of my change and the dataset as a whole.\n",
        "\n",
        "NVM, figured it out. See section below, pretty simple.\n",
        "\n"
      ]
    },
    {
      "cell_type": "code",
      "metadata": {
        "id": "IYj6ZeuVcl5E",
        "colab_type": "code",
        "colab": {}
      },
      "source": [
        "skempi = Clean_Skempi('skempi_v2.0.csv')\n",
        "\n",
        "mutFix=[('4G0N_A_B','DA38A'),\n",
        "        ('1C1Y_A_B','DA38A'),\n",
        "        ('1LFD_A_B','DB38A'),\n",
        "        ('1LFD_A_B','YB32W')]"
      ],
      "execution_count": 0,
      "outputs": []
    },
    {
      "cell_type": "code",
      "metadata": {
        "id": "LIyBDpole3Yv",
        "colab_type": "code",
        "colab": {
          "base_uri": "https://localhost:8080/",
          "height": 85
        },
        "outputId": "0d1956fb-0b7c-45be-e44b-24b762e10ba9"
      },
      "source": [
        "from statistics import median \n",
        "\n",
        "\n",
        "pdbs = list(zip(*mutFix))[0]\n",
        "#[i[0] for i in pdbs mutFix]\n",
        "\n",
        "# Isolate relavent pdbs being fixed:\n",
        "test = skempi[skempi['#Pdb'].isin(pdbs)][['#Pdb','Mutation(s)_cleaned','Temperature','ddgMedian']]\n",
        "output = dict()\n",
        "for pdb in pdbs:\n",
        "  tmp=test[test['#Pdb']==pdb]\n",
        "  \n",
        "  # Group by\n",
        "  grouped = dict()\n",
        "  for index, row in tmp.iterrows():\n",
        "    key = (row[0],row[1])\n",
        "    if key in grouped:\n",
        "      grouped[key]+=[(row[3],row[2])] # ddg, tmp\n",
        "    else:\n",
        "      grouped[key]=[(row[3],row[2])]\n",
        "  \n",
        "  # Calc median, drop duplicates with set\n",
        "  medDct = dict()\n",
        "  for k,v in grouped.items():  \n",
        "    ddgs, temps = zip(*v)\n",
        "    medDct[k]=(median(ddgs), set(temps))\n",
        "  output = {**output, **medDct}\n",
        "    \n",
        "# find\n",
        "for k in mutFix:\n",
        "  print(k, output[k])\n",
        "  "
      ],
      "execution_count": 135,
      "outputs": [
        {
          "output_type": "stream",
          "text": [
            "('4G0N_A_B', 'DA38A') (2.9170490380241167, {298.0, 308.0})\n",
            "('1C1Y_A_B', 'DA38A') (2.619152014020517, {298.0})\n",
            "('1LFD_A_B', 'DB38A') (3.3114853574091185, {298.0, 310.0})\n",
            "('1LFD_A_B', 'YB32W') (-0.21121814832220487, {298.0})\n"
          ],
          "name": "stdout"
        }
      ]
    },
    {
      "cell_type": "markdown",
      "metadata": {
        "id": "kdYtjatg-uor",
        "colab_type": "text"
      },
      "source": [
        "**Coolio, outputs match!**\n",
        "\n",
        "this assumes the ddgMedian is supposed to be calculated accross diff temps, as it is so in OG and New. \n",
        "\n",
        "otherwise add to key under group and make minor tweaks. "
      ]
    },
    {
      "cell_type": "markdown",
      "metadata": {
        "id": "7lFknZbXv4E_",
        "colab_type": "text"
      },
      "source": [
        "#Temp in drop, not in Groupby (Problem Identified)"
      ]
    },
    {
      "cell_type": "markdown",
      "metadata": {
        "id": "XbfmjHaxwu9R",
        "colab_type": "text"
      },
      "source": [
        "'Temperature' is in drop_duplicates and not in the groupby. \n",
        "I want to verifying ddgMedian is supposed to calculate across different temperatures.\n",
        "\n",
        "Index| Mutkey,                      [Temp,   ddgMedian]\n",
        "\n",
        "–––––––––––––––––––––––––––––––––––––––––––––\n",
        "\n",
        "6472| 1LFD_A_B_DB38A,  [310.0 , 3.3114853574091185]\n",
        "\n",
        "6667| 1LFD_A_B_DB38A,  [298.0 , 3.3114853574091185]\n",
        "\n",
        "–––––––––––––––––––––––––––––––––––––––––––––\n",
        "\n",
        "6493| 4G0N_A_B_DA38A,  [308.0, 2.9170490380241167]\n",
        "\n",
        "6665| 4G0N_A_B_DA38A,  [298.0, 2.9170490380241167]\n",
        "\n",
        "*Result: shared 'ddgMedian' calculation registered to different 'Temps'*"
      ]
    },
    {
      "cell_type": "markdown",
      "metadata": {
        "id": "41faHmSTnP4j",
        "colab_type": "text"
      },
      "source": [
        "\n",
        "\n",
        "---\n",
        "\n",
        "\n",
        "6472 & 6493 appear as OG != New. \n",
        "\n",
        "But that doesnt explain their existence in the first place...\n",
        "\n",
        "The groupling for median was done on \\[pdb, mutations]. \n",
        "\n",
        "However, deleting duplicates includes temperature.\n",
        "\n",
        "The result is duplicate ddgs for different temp registers. "
      ]
    },
    {
      "cell_type": "code",
      "metadata": {
        "id": "19dmYBbCgqSF",
        "colab_type": "code",
        "colab": {
          "base_uri": "https://localhost:8080/",
          "height": 442
        },
        "outputId": "b307d04a-3441-4761-daa3-526b9a34fc44"
      },
      "source": [
        "key = 'ddgMedian' #'ddG' #'ddgMedian'\n",
        "for i in skempi.index.tolist():\n",
        "  try:\n",
        "    og = skempi_og[key][i]\n",
        "  except:\n",
        "    og = ''\n",
        "  try:\n",
        "    new = skempi_final[key][i]\n",
        "  except:\n",
        "    new = ''\n",
        "  if og!=new and (og!='' and new!=''):\n",
        "    print(i)\n",
        "    print('\\t', skempi['#Pdb'][i], '  ',skempi['Mutation(s)_cleaned'][i])\n",
        "    ##see temps\n",
        "    print('\\t', skempi_og['Temperature'][i], '  ',skempi['Temperature'][i])\n",
        "    print('\\t', og, new)\n",
        "    \n",
        "skempi_og[key].equals(skempi_final[key])"
      ],
      "execution_count": 100,
      "outputs": [
        {
          "output_type": "stream",
          "text": [
            "6472\n",
            "\t 1LFD_A_B    DB38A\n",
            "\t 310.0    310.0\n",
            "\t 3.8958503047001924 3.3114853574091185\n",
            "6493\n",
            "\t 4G0N_A_B    DA38A\n",
            "\t 308.0    308.0\n",
            "\t 3.2996884744981614 2.9170490380241167\n",
            "6665\n",
            "\t 4G0N_A_B    DA38A\n",
            "\t nan    298.0\n",
            "\t 3.2996884744981614 2.9170490380241167\n",
            "6666\n",
            "\t 1C1Y_A_B    DA38A\n",
            "\t nan    298.0\n",
            "\t nan 2.619152014020517\n",
            "6667\n",
            "\t 1LFD_A_B    DB38A\n",
            "\t nan    298.0\n",
            "\t 3.8958503047001924 3.3114853574091185\n",
            "6668\n",
            "\t 1LFD_A_B    YB32W\n",
            "\t nan    298.0\n",
            "\t nan -0.21121814832220487\n"
          ],
          "name": "stdout"
        },
        {
          "output_type": "execute_result",
          "data": {
            "text/plain": [
              "False"
            ]
          },
          "metadata": {
            "tags": []
          },
          "execution_count": 100
        }
      ]
    },
    {
      "cell_type": "code",
      "metadata": {
        "id": "mUrNNRL5yIrB",
        "colab_type": "code",
        "colab": {
          "base_uri": "https://localhost:8080/",
          "height": 34
        },
        "outputId": "894459c2-932c-430a-999d-b7d1a87b34ac"
      },
      "source": [
        "t = lambda x,y: x+y\n",
        "t(3,9)"
      ],
      "execution_count": 104,
      "outputs": [
        {
          "output_type": "execute_result",
          "data": {
            "text/plain": [
              "12"
            ]
          },
          "metadata": {
            "tags": []
          },
          "execution_count": 104
        }
      ]
    }
  ]
}