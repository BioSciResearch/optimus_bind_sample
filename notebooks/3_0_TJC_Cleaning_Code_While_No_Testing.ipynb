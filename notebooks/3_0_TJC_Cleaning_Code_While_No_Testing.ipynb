{
  "nbformat": 4,
  "nbformat_minor": 0,
  "metadata": {
    "colab": {
      "name": "3.0-TJC-Cleaning-Code-While-No-Testing.ipynb",
      "version": "0.3.2",
      "provenance": [],
      "include_colab_link": true
    },
    "kernelspec": {
      "name": "python3",
      "display_name": "Python 3"
    }
  },
  "cells": [
    {
      "cell_type": "markdown",
      "metadata": {
        "id": "view-in-github",
        "colab_type": "text"
      },
      "source": [
        "<a href=\"https://colab.research.google.com/github/tcardlab/optimus_bind_sample/blob/master/notebooks/3_0_TJC_Cleaning_Code_While_No_Testing.ipynb\" target=\"_parent\"><img src=\"https://colab.research.google.com/assets/colab-badge.svg\" alt=\"Open In Colab\"/></a>"
      ]
    },
    {
      "cell_type": "code",
      "metadata": {
        "id": "5orUnOTWg6cm",
        "colab_type": "code",
        "colab": {}
      },
      "source": [
        "import pandas as pd\n",
        "import numpy as np\n",
        "import re"
      ],
      "execution_count": 0,
      "outputs": []
    },
    {
      "cell_type": "code",
      "metadata": {
        "id": "aBZfvYmWhXUR",
        "colab_type": "code",
        "colab": {
          "base_uri": "https://localhost:8080/",
          "height": 204
        },
        "outputId": "30da2d22-5f13-4b85-b65d-692ba13fa714"
      },
      "source": [
        "link = 'https://life.bsc.es/pid/skempi2/database/download/skempi_v2.csv'\n",
        "\n",
        "'''Proper python retreival'''\n",
        "#from urllib.request import urlretrieve\n",
        "#csv_path, _ = urlretrieve(link,f'skempi_v2.0.csv')\n",
        "\n",
        "'''Direct import to Pandas'''\n",
        "#data = pd.read_csv(link, sep=';')\n",
        "#print(data)\n",
        "\n",
        "'''OS get'''\n",
        "!wget $link -O skempi_v2.0.csv #-O to rename"
      ],
      "execution_count": 2,
      "outputs": [
        {
          "output_type": "stream",
          "text": [
            "--2019-07-16 02:25:08--  https://life.bsc.es/pid/skempi2/database/download/skempi_v2.csv\n",
            "Resolving life.bsc.es (life.bsc.es)... 84.88.52.107\n",
            "Connecting to life.bsc.es (life.bsc.es)|84.88.52.107|:443... connected.\n",
            "HTTP request sent, awaiting response... 200 OK\n",
            "Length: 1602208 (1.5M) [text/csv]\n",
            "Saving to: ‘skempi_v2.0.csv’\n",
            "\n",
            "skempi_v2.0.csv     100%[===================>]   1.53M   354KB/s    in 5.3s    \n",
            "\n",
            "2019-07-16 02:25:14 (293 KB/s) - ‘skempi_v2.0.csv’ saved [1602208/1602208]\n",
            "\n"
          ],
          "name": "stdout"
        }
      ]
    },
    {
      "cell_type": "markdown",
      "metadata": {
        "id": "cyHaVBFVMErw",
        "colab_type": "text"
      },
      "source": [
        "#origional"
      ]
    },
    {
      "cell_type": "code",
      "metadata": {
        "id": "yyDNca80WPJF",
        "colab_type": "code",
        "colab": {}
      },
      "source": [
        "def SKEMPItoPandas(SKEMPI_loc):\n",
        "    '''\n",
        "    Purpose:\n",
        "        1. Loads SKEMPI CSV file.\n",
        "        2. Calculates ddG\n",
        "        3. For multiple measurements, keeps the median value\n",
        "        4. Eliminates entries with mutations on both sides of the interface\n",
        "    Input:\n",
        "        SKEMPI_loc : Location of SKEMPI CSV file\n",
        "    Output:\n",
        "        SKEMPI_df : Pandas dataframe    \n",
        "    '''\n",
        "    \n",
        "    # fix this\n",
        "    pd.options.mode.chained_assignment = None  # default='warn'\n",
        "\n",
        "    # Constants\n",
        "    R = 1.9872036e-3  # Ideal Gas Constant in kcal\n",
        "\n",
        "    SKEMPI_df = pd.read_csv(SKEMPI_loc, sep=';')\n",
        "\n",
        "    # Convert non numeric temperature comments to numeric values. Default is 298K \n",
        "    ConvertTemp = lambda x: int(re.search(r'\\d+', x).group(0) or 298)\n",
        "    BadTemps = SKEMPI_df.Temperature.str.isnumeric() == 0\n",
        "    SKEMPI_df['Temperature'].loc[BadTemps] = SKEMPI_df['Temperature'].loc[BadTemps].map(ConvertTemp)\n",
        "    SKEMPI_df['Temperature'] = pd.to_numeric(SKEMPI_df['Temperature'], errors='coerce')\n",
        "\n",
        "    # Drop missing values\n",
        "    SKEMPI_df.dropna(subset=['Affinity_wt_parsed'], inplace=True)\n",
        "    SKEMPI_df.dropna(subset=['Affinity_mut_parsed'], inplace=True)\n",
        "\n",
        "    # Calculate free energies\n",
        "    SKEMPI_df['dgWT'] = -R*SKEMPI_df['Temperature']*np.log(SKEMPI_df['Affinity_wt_parsed'])\n",
        "    SKEMPI_df['dgMut'] = -R*SKEMPI_df['Temperature']*np.log(SKEMPI_df['Affinity_mut_parsed'])\n",
        "    SKEMPI_df['ddG'] = SKEMPI_df['dgWT']-SKEMPI_df['dgMut']\n",
        "\n",
        "    # Create a key for unique mutations based on PDB and \n",
        "    SKEMPI_df['MutKey'] = SKEMPI_df['#Pdb']+'_'+SKEMPI_df['Mutation(s)_PDB']\n",
        "    # Replace multiple measurements of the same mutation with the group mean\n",
        "    # May consider grouping by experimental method as well\n",
        "    SKEMPI_df['ddgMedian'] = SKEMPI_df.groupby('MutKey')['ddG'].transform('median')        \n",
        "    SKEMPI_df = SKEMPI_df.drop_duplicates(subset=['MutKey', 'Temperature'], keep='first', inplace=False)\n",
        "\n",
        "    # Flag multiple mutations in the same protein\n",
        "    SKEMPI_df['NumMutations'] = SKEMPI_df['Mutation(s)_PDB'].str.count(',')+1 \n",
        "\n",
        "    # Extract Chains and remove cross chain mutations. Chain is the second position in the mutation code\n",
        "    SKEMPI_df['Prot1Chain'] = SKEMPI_df['#Pdb'].str.split('_').str[1]\n",
        "    SKEMPI_df['Prot2Chain'] = SKEMPI_df['#Pdb'].str.split('_').str[2]\n",
        "    SKEMPI_df['MutSplit'] = SKEMPI_df['Mutation(s)_PDB'].str.split(',')\n",
        "\n",
        "    def ChainCheck(df):\n",
        "        if df['NumMutations'] == 1:\n",
        "            CrossChain = False\n",
        "            return CrossChain\n",
        "        else:\n",
        "            Chain = df['MutSplit'][0][1]\n",
        "            if Chain in df['Prot1Chain']:\n",
        "                ChainSet = df['Prot1Chain']\n",
        "            elif Chain in df['Prot2Chain']:\n",
        "                ChainSet = df['Prot2Chain']\n",
        "            for i in range(len(df['MutSplit'])):\n",
        "                Chain = df['MutSplit'][i][1]\n",
        "                if Chain in ChainSet:\n",
        "                    CrossChain = False\n",
        "                else:\n",
        "                    CrossChain = True\n",
        "                    break\n",
        "        return CrossChain\n",
        "\n",
        "    SKEMPI_df['CrossChain'] = SKEMPI_df.apply(ChainCheck, axis=1)\n",
        "    SKEMPI_SingleSided = SKEMPI_df[SKEMPI_df.CrossChain == False]\n",
        "\n",
        "    NumProteins = SKEMPI_SingleSided['#Pdb'].nunique()\n",
        "    NumMutations = SKEMPI_SingleSided['#Pdb'].count()\n",
        "    print(\"There are %s unique single sided mutations in %s proteins\" % (NumMutations, NumProteins))             \n",
        "    return SKEMPI_SingleSided"
      ],
      "execution_count": 0,
      "outputs": []
    },
    {
      "cell_type": "code",
      "metadata": {
        "id": "pXl_gbDllji9",
        "colab_type": "code",
        "colab": {
          "base_uri": "https://localhost:8080/",
          "height": 34
        },
        "outputId": "1b17e228-890c-4edb-9df5-ecbdcc8db89b"
      },
      "source": [
        "og_output = SKEMPItoPandas('skempi_v2.0.csv')"
      ],
      "execution_count": 15,
      "outputs": [
        {
          "output_type": "stream",
          "text": [
            "There are 5454 unique single sided mutations in 343 proteins\n"
          ],
          "name": "stdout"
        }
      ]
    },
    {
      "cell_type": "markdown",
      "metadata": {
        "id": "-_8OVerLMHoI",
        "colab_type": "text"
      },
      "source": [
        "#Changed"
      ]
    },
    {
      "cell_type": "markdown",
      "metadata": {
        "id": "e-YYGpBlqwC4",
        "colab_type": "text"
      },
      "source": [
        "##v1.0\n"
      ]
    },
    {
      "cell_type": "code",
      "metadata": {
        "id": "cesDYu34l-66",
        "colab_type": "code",
        "colab": {}
      },
      "source": [
        "def ChainCheck(df):\n",
        "        if df['NumMutations'] == 1:\n",
        "            CrossChain = False\n",
        "            return CrossChain\n",
        "        else:\n",
        "            Chain = df['MutSplit'][0][1]\n",
        "            if Chain in df['Prot1Chain']:\n",
        "                ChainSet = df['Prot1Chain']\n",
        "            elif Chain in df['Prot2Chain']:\n",
        "                ChainSet = df['Prot2Chain']\n",
        "            for i in range(len(df['MutSplit'])):\n",
        "                Chain = df['MutSplit'][i][1]\n",
        "                if Chain in ChainSet:\n",
        "                    CrossChain = False\n",
        "                else:\n",
        "                    CrossChain = True\n",
        "                    break\n",
        "        return CrossChain\n",
        "\n",
        "def gibbsEq(Kd, tmp):\n",
        "  R = 1.9872036e-3  # Ideal Gas Constant in kcal\n",
        "  ΔG = -R * tmp * np.log(Kd) #log is ln in np\n",
        "  return ΔG\n",
        "\n",
        "def SKEMPItoPandas(SKEMPI_loc):\n",
        "    '''\n",
        "    Purpose:\n",
        "        1. Loads SKEMPI CSV file.\n",
        "        2. Calculates ddG\n",
        "        3. For multiple measurements, keeps the median value\n",
        "        4. Eliminates entries with mutations on both sides of the interface\n",
        "    Input:\n",
        "        SKEMPI_loc : Location of SKEMPI CSV file\n",
        "    Output:\n",
        "        SKEMPI_df : Pandas dataframe    \n",
        "    '''\n",
        "    \n",
        "    SKEMPI_df = pd.read_csv(SKEMPI_loc, sep=';')\n",
        "\n",
        "    # Convert non numeric temperature comments to numeric values. \n",
        "    # Default is 298K \n",
        "    SKEMPI_df['Temperature'] = SKEMPI_df['Temperature'].str.extract(r'(\\d+)')\n",
        "    SKEMPI_df['Temperature'] = pd.to_numeric(SKEMPI_df['Temperature'], \n",
        "                                             errors='coerce')\n",
        "    SKEMPI_df['Temperature'].fillna(298, inplace=True)\n",
        "    \n",
        "    # Drop missing values\n",
        "    SKEMPI_df.dropna(subset=['Affinity_wt_parsed'], inplace=True)\n",
        "    SKEMPI_df.dropna(subset=['Affinity_mut_parsed'], inplace=True)\n",
        "\n",
        "    # Calculate free energies\n",
        "    SKEMPI_df['dgWT'] = gibbsEq(SKEMPI_df['Affinity_wt_parsed'], \n",
        "                                SKEMPI_df['Temperature'])\n",
        "    SKEMPI_df['dgMut'] = gibbsEq(SKEMPI_df['Affinity_mut_parsed'], \n",
        "                                 SKEMPI_df['Temperature'])\n",
        "    SKEMPI_df['ddG'] = SKEMPI_df['dgWT']-SKEMPI_df['dgMut']\n",
        "\n",
        "    # Create a key for unique mutations based on PDB and \n",
        "    SKEMPI_df['MutKey'] = SKEMPI_df['#Pdb']+'_'+SKEMPI_df['Mutation(s)_PDB']\n",
        "    # Replace multiple measurements of the same mutation with the group mean\n",
        "    # May consider grouping by experimental method as well\n",
        "    SKEMPI_df['ddgMedian'] = SKEMPI_df.groupby('MutKey')['ddG'].transform('median')        \n",
        "    SKEMPI_df = SKEMPI_df.drop_duplicates(subset=['MutKey', 'Temperature'], \n",
        "                                          keep='first', inplace=False)\n",
        "\n",
        "    # Flag multiple mutations in the same protein\n",
        "    SKEMPI_df['MutSplit'] = SKEMPI_df['Mutation(s)_PDB'].str.split(',')\n",
        "    SKEMPI_df['NumMutations'] = SKEMPI_df['MutSplit'].apply(len)\n",
        "    \n",
        "    # Extract Chains and remove cross chain mutations. \n",
        "    # Chain is the second position in the mutation code\n",
        "    SKEMPI_df['Prot1Chain'] = SKEMPI_df['#Pdb'].str.split('_').str[1]\n",
        "    SKEMPI_df['Prot2Chain'] = SKEMPI_df['#Pdb'].str.split('_').str[2]\n",
        "    \n",
        "    SKEMPI_df['CrossChain'] = SKEMPI_df.apply(ChainCheck, axis=1)\n",
        "    SKEMPI_SingleSided = SKEMPI_df[SKEMPI_df.CrossChain == False]\n",
        "\n",
        "    NumProteins = SKEMPI_SingleSided['#Pdb'].nunique()\n",
        "    NumMutations = SKEMPI_SingleSided['#Pdb'].count()\n",
        "    print(\"There are %s unique single sided mutations in %s proteins\" % (NumMutations, NumProteins))             \n",
        "    return SKEMPI_SingleSided"
      ],
      "execution_count": 0,
      "outputs": []
    },
    {
      "cell_type": "code",
      "metadata": {
        "id": "lLyLmd8RmXNk",
        "colab_type": "code",
        "colab": {
          "base_uri": "https://localhost:8080/",
          "height": 34
        },
        "outputId": "0c0c97ef-45da-4282-c508-814e5f0300c2"
      },
      "source": [
        "new_output = SKEMPItoPandas('skempi_v2.0.csv')"
      ],
      "execution_count": 321,
      "outputs": [
        {
          "output_type": "stream",
          "text": [
            "There are 5454 unique single sided mutations in 343 proteins\n"
          ],
          "name": "stdout"
        }
      ]
    },
    {
      "cell_type": "code",
      "metadata": {
        "id": "KxbLm3kPom2e",
        "colab_type": "code",
        "colab": {}
      },
      "source": [
        "new_output"
      ],
      "execution_count": 0,
      "outputs": []
    },
    {
      "cell_type": "markdown",
      "metadata": {
        "id": "d7Oke5LhqzX0",
        "colab_type": "text"
      },
      "source": [
        "##v1.1 as class?"
      ]
    },
    {
      "cell_type": "code",
      "metadata": {
        "id": "8g9vAyiiquw0",
        "colab_type": "code",
        "colab": {}
      },
      "source": [
        "class test:\n",
        "  pass"
      ],
      "execution_count": 0,
      "outputs": []
    },
    {
      "cell_type": "markdown",
      "metadata": {
        "id": "cXLKAFKlMTWX",
        "colab_type": "text"
      },
      "source": [
        "#Work"
      ]
    },
    {
      "cell_type": "markdown",
      "metadata": {
        "id": "PIJyBoegMZMQ",
        "colab_type": "text"
      },
      "source": [
        "##Temp formatting"
      ]
    },
    {
      "cell_type": "code",
      "metadata": {
        "id": "T03UpwxXonj7",
        "colab_type": "code",
        "colab": {
          "base_uri": "https://localhost:8080/",
          "height": 309
        },
        "outputId": "a1a1bc48-d02d-4e87-82bc-9de2b4851c70"
      },
      "source": [
        "#initialize dataframes\n",
        "SKEMPI_df = pd.read_csv('skempi_v2.0.csv', sep=';')\n",
        "test = SKEMPI_df.copy()\n",
        "\n",
        "print('following entry has nan tmp')\n",
        "print(np.array(SKEMPI_df.iloc[[6665]]), '\\n')\n",
        "\n",
        "\n",
        "'''Origional method'''\n",
        "# Convert non numeric temperature comments to numeric values. Default is 298K \n",
        "ConvertTemp = lambda x: int(re.search(r'\\d+', x)[0] or 298)\n",
        "BadTemps = SKEMPI_df.Temperature.str.isnumeric() == False\n",
        "\n",
        "\n",
        "print(\"nan val tests 'False'? map not applied, thus unaltered\")\n",
        "print(BadTemps.iloc[[6665]], '\\n')\n",
        "\n",
        "SKEMPI_df['Temperature'].loc[BadTemps] = SKEMPI_df['Temperature'].loc[BadTemps].map(ConvertTemp)\n",
        "#SKEMPI_df['Temperature'] = SKEMPI_df['Temperature'].apply(ConvertTemp)\n",
        "SKEMPI_df['Temperature'] = pd.to_numeric(SKEMPI_df['Temperature'], errors='coerce')\n",
        "\n",
        "'''\n",
        "New Method:\n",
        "  -likely a tad slower as regex is applied to all rather than binry mapping\n",
        "  -no error \n",
        "  -handled nan issue\n",
        "'''\n",
        "test['Temperature'] = test['Temperature'].str.extract(r'(\\d+)')\n",
        "test['Temperature'] = pd.to_numeric(test['Temperature'], errors='coerce')\n",
        "test['Temperature'].fillna(298, inplace=True)\n",
        "\n",
        "\n",
        "SKEMPI_df.equals(og)"
      ],
      "execution_count": 269,
      "outputs": [
        {
          "output_type": "stream",
          "text": [
            "following entry has nan tmp\n",
            "[['4G0N_A_B' 'DA38A' 'DA38A' 'COR' nan\n",
            "  '4G0N_A_B,3KUD_A_B,1LFD_A_B,1GUA_A_B,1C1Y_A_B,1K8R_A_B,1HE8_A_B,1E96_A_B'\n",
            "  '1.3E-06' 1.3e-06 '1.8E-08' 1.8e-08 '8636102' 'H-Ras1' 'Raf-RBD' nan\n",
            "  nan nan nan nan nan nan nan nan nan nan nan nan nan 'IAFL' 2]] \n",
            "\n",
            "nan val tests 'False'? map not applied, thus unaltered\n",
            "6665    False\n",
            "Name: Temperature, dtype: bool \n",
            "\n"
          ],
          "name": "stdout"
        },
        {
          "output_type": "stream",
          "text": [
            "/usr/local/lib/python3.6/dist-packages/pandas/core/indexing.py:190: SettingWithCopyWarning: \n",
            "A value is trying to be set on a copy of a slice from a DataFrame\n",
            "\n",
            "See the caveats in the documentation: http://pandas.pydata.org/pandas-docs/stable/indexing.html#indexing-view-versus-copy\n",
            "  self._setitem_with_indexer(indexer, value)\n"
          ],
          "name": "stderr"
        },
        {
          "output_type": "execute_result",
          "data": {
            "text/plain": [
              "True"
            ]
          },
          "metadata": {
            "tags": []
          },
          "execution_count": 269
        }
      ]
    },
    {
      "cell_type": "code",
      "metadata": {
        "id": "cXsGP98m1QEs",
        "colab_type": "code",
        "colab": {
          "base_uri": "https://localhost:8080/",
          "height": 85
        },
        "outputId": "9dbdb857-549f-45bd-8834-48b1f9e86bc6"
      },
      "source": [
        "'''both versions are equal but include nan'''\n",
        "#print(SKEMPI_df['Temperature'].isnull().values.any())\n",
        "\n",
        "#print(SKEMPI_df[SKEMPI_df['Temperature'].isnull()]) #['Temperature'])\n",
        "#print(np.array(SKEMPI_df.iloc[[6665]]))\n",
        "\n",
        "for init, new in zip(SKEMPI_df['Temperature'], test['Temperature']):\n",
        "  if init!=new:\n",
        "    print(init, type(init),':' ,new, type(new))"
      ],
      "execution_count": 266,
      "outputs": [
        {
          "output_type": "stream",
          "text": [
            "nan <class 'float'> : 298.0 <class 'float'>\n",
            "nan <class 'float'> : 298.0 <class 'float'>\n",
            "nan <class 'float'> : 298.0 <class 'float'>\n",
            "nan <class 'float'> : 298.0 <class 'float'>\n"
          ],
          "name": "stdout"
        }
      ]
    },
    {
      "cell_type": "code",
      "metadata": {
        "id": "PjwoL-e168jU",
        "colab_type": "code",
        "colab": {
          "base_uri": "https://localhost:8080/",
          "height": 613
        },
        "outputId": "027a78e1-efda-4026-d182-43b09a39c071"
      },
      "source": [
        "'''strange, i cant reproduce the issue'''\n",
        "df = pd.DataFrame('', index=[0,1,2,3], columns=['A']) #str(np.nan)\n",
        "print('init empty data\\n', df)\n",
        "baddies=df[\"A\"].str.isnumeric() == False\n",
        "print('\\nfind non-numeric', baddies, sep='\\n')\n",
        "print('convert temps', df['A'].loc[baddies].map(ConvertTemp))\n",
        "print(pd.to_numeric(df[\"A\"], errors='coerce'))"
      ],
      "execution_count": 276,
      "outputs": [
        {
          "output_type": "stream",
          "text": [
            "init empty data\n",
            "   A\n",
            "0  \n",
            "1  \n",
            "2  \n",
            "3  \n",
            "\n",
            "find non-numeric\n",
            "0    True\n",
            "1    True\n",
            "2    True\n",
            "3    True\n",
            "Name: A, dtype: bool\n"
          ],
          "name": "stdout"
        },
        {
          "output_type": "error",
          "ename": "TypeError",
          "evalue": "ignored",
          "traceback": [
            "\u001b[0;31m---------------------------------------------------------------------------\u001b[0m",
            "\u001b[0;31mTypeError\u001b[0m                                 Traceback (most recent call last)",
            "\u001b[0;32m<ipython-input-276-9ab3bac94078>\u001b[0m in \u001b[0;36m<module>\u001b[0;34m()\u001b[0m\n\u001b[1;32m      4\u001b[0m \u001b[0mbaddies\u001b[0m\u001b[0;34m=\u001b[0m\u001b[0mdf\u001b[0m\u001b[0;34m[\u001b[0m\u001b[0;34m\"A\"\u001b[0m\u001b[0;34m]\u001b[0m\u001b[0;34m.\u001b[0m\u001b[0mstr\u001b[0m\u001b[0;34m.\u001b[0m\u001b[0misnumeric\u001b[0m\u001b[0;34m(\u001b[0m\u001b[0;34m)\u001b[0m \u001b[0;34m==\u001b[0m \u001b[0;32mFalse\u001b[0m\u001b[0;34m\u001b[0m\u001b[0;34m\u001b[0m\u001b[0m\n\u001b[1;32m      5\u001b[0m \u001b[0mprint\u001b[0m\u001b[0;34m(\u001b[0m\u001b[0;34m'\\nfind non-numeric'\u001b[0m\u001b[0;34m,\u001b[0m \u001b[0mbaddies\u001b[0m\u001b[0;34m,\u001b[0m \u001b[0msep\u001b[0m\u001b[0;34m=\u001b[0m\u001b[0;34m'\\n'\u001b[0m\u001b[0;34m)\u001b[0m\u001b[0;34m\u001b[0m\u001b[0;34m\u001b[0m\u001b[0m\n\u001b[0;32m----> 6\u001b[0;31m \u001b[0mprint\u001b[0m\u001b[0;34m(\u001b[0m\u001b[0;34m'convert temps'\u001b[0m\u001b[0;34m,\u001b[0m \u001b[0mdf\u001b[0m\u001b[0;34m[\u001b[0m\u001b[0;34m'A'\u001b[0m\u001b[0;34m]\u001b[0m\u001b[0;34m.\u001b[0m\u001b[0mloc\u001b[0m\u001b[0;34m[\u001b[0m\u001b[0mbaddies\u001b[0m\u001b[0;34m]\u001b[0m\u001b[0;34m.\u001b[0m\u001b[0mmap\u001b[0m\u001b[0;34m(\u001b[0m\u001b[0mConvertTemp\u001b[0m\u001b[0;34m)\u001b[0m\u001b[0;34m)\u001b[0m\u001b[0;34m\u001b[0m\u001b[0;34m\u001b[0m\u001b[0m\n\u001b[0m\u001b[1;32m      7\u001b[0m \u001b[0mprint\u001b[0m\u001b[0;34m(\u001b[0m\u001b[0mpd\u001b[0m\u001b[0;34m.\u001b[0m\u001b[0mto_numeric\u001b[0m\u001b[0;34m(\u001b[0m\u001b[0mdf\u001b[0m\u001b[0;34m[\u001b[0m\u001b[0;34m\"A\"\u001b[0m\u001b[0;34m]\u001b[0m\u001b[0;34m,\u001b[0m \u001b[0merrors\u001b[0m\u001b[0;34m=\u001b[0m\u001b[0;34m'coerce'\u001b[0m\u001b[0;34m)\u001b[0m\u001b[0;34m)\u001b[0m\u001b[0;34m\u001b[0m\u001b[0;34m\u001b[0m\u001b[0m\n",
            "\u001b[0;32m/usr/local/lib/python3.6/dist-packages/pandas/core/series.py\u001b[0m in \u001b[0;36mmap\u001b[0;34m(self, arg, na_action)\u001b[0m\n\u001b[1;32m   3380\u001b[0m         \"\"\"\n\u001b[1;32m   3381\u001b[0m         new_values = super(Series, self)._map_values(\n\u001b[0;32m-> 3382\u001b[0;31m             arg, na_action=na_action)\n\u001b[0m\u001b[1;32m   3383\u001b[0m         return self._constructor(new_values,\n\u001b[1;32m   3384\u001b[0m                                  index=self.index).__finalize__(self)\n",
            "\u001b[0;32m/usr/local/lib/python3.6/dist-packages/pandas/core/base.py\u001b[0m in \u001b[0;36m_map_values\u001b[0;34m(self, mapper, na_action)\u001b[0m\n\u001b[1;32m   1216\u001b[0m \u001b[0;34m\u001b[0m\u001b[0m\n\u001b[1;32m   1217\u001b[0m         \u001b[0;31m# mapper is a function\u001b[0m\u001b[0;34m\u001b[0m\u001b[0;34m\u001b[0m\u001b[0;34m\u001b[0m\u001b[0m\n\u001b[0;32m-> 1218\u001b[0;31m         \u001b[0mnew_values\u001b[0m \u001b[0;34m=\u001b[0m \u001b[0mmap_f\u001b[0m\u001b[0;34m(\u001b[0m\u001b[0mvalues\u001b[0m\u001b[0;34m,\u001b[0m \u001b[0mmapper\u001b[0m\u001b[0;34m)\u001b[0m\u001b[0;34m\u001b[0m\u001b[0;34m\u001b[0m\u001b[0m\n\u001b[0m\u001b[1;32m   1219\u001b[0m \u001b[0;34m\u001b[0m\u001b[0m\n\u001b[1;32m   1220\u001b[0m         \u001b[0;32mreturn\u001b[0m \u001b[0mnew_values\u001b[0m\u001b[0;34m\u001b[0m\u001b[0;34m\u001b[0m\u001b[0m\n",
            "\u001b[0;32mpandas/_libs/lib.pyx\u001b[0m in \u001b[0;36mpandas._libs.lib.map_infer\u001b[0;34m()\u001b[0m\n",
            "\u001b[0;32m<ipython-input-269-08a8bb36ac1f>\u001b[0m in \u001b[0;36m<lambda>\u001b[0;34m(x)\u001b[0m\n\u001b[1;32m      8\u001b[0m \u001b[0;34m'''Origional method'''\u001b[0m\u001b[0;34m\u001b[0m\u001b[0;34m\u001b[0m\u001b[0m\n\u001b[1;32m      9\u001b[0m \u001b[0;31m# Convert non numeric temperature comments to numeric values. Default is 298K\u001b[0m\u001b[0;34m\u001b[0m\u001b[0;34m\u001b[0m\u001b[0;34m\u001b[0m\u001b[0m\n\u001b[0;32m---> 10\u001b[0;31m \u001b[0mConvertTemp\u001b[0m \u001b[0;34m=\u001b[0m \u001b[0;32mlambda\u001b[0m \u001b[0mx\u001b[0m\u001b[0;34m:\u001b[0m \u001b[0mint\u001b[0m\u001b[0;34m(\u001b[0m\u001b[0mre\u001b[0m\u001b[0;34m.\u001b[0m\u001b[0msearch\u001b[0m\u001b[0;34m(\u001b[0m\u001b[0;34mr'\\d+'\u001b[0m\u001b[0;34m,\u001b[0m \u001b[0mx\u001b[0m\u001b[0;34m)\u001b[0m\u001b[0;34m[\u001b[0m\u001b[0;36m0\u001b[0m\u001b[0;34m]\u001b[0m \u001b[0;32mor\u001b[0m \u001b[0;36m298\u001b[0m\u001b[0;34m)\u001b[0m\u001b[0;34m\u001b[0m\u001b[0;34m\u001b[0m\u001b[0m\n\u001b[0m\u001b[1;32m     11\u001b[0m \u001b[0mBadTemps\u001b[0m \u001b[0;34m=\u001b[0m \u001b[0mSKEMPI_df\u001b[0m\u001b[0;34m.\u001b[0m\u001b[0mTemperature\u001b[0m\u001b[0;34m.\u001b[0m\u001b[0mstr\u001b[0m\u001b[0;34m.\u001b[0m\u001b[0misnumeric\u001b[0m\u001b[0;34m(\u001b[0m\u001b[0;34m)\u001b[0m \u001b[0;34m==\u001b[0m \u001b[0;32mFalse\u001b[0m\u001b[0;34m\u001b[0m\u001b[0;34m\u001b[0m\u001b[0m\n\u001b[1;32m     12\u001b[0m \u001b[0;34m\u001b[0m\u001b[0m\n",
            "\u001b[0;31mTypeError\u001b[0m: 'NoneType' object is not subscriptable"
          ]
        }
      ]
    },
    {
      "cell_type": "code",
      "metadata": {
        "id": "B87XJpu6NvEz",
        "colab_type": "code",
        "colab": {
          "base_uri": "https://localhost:8080/",
          "height": 153
        },
        "outputId": "62f5367c-bd5e-4526-bbf0-f8bf847194ec"
      },
      "source": [
        "test['Temperature'][6663:6670]"
      ],
      "execution_count": 278,
      "outputs": [
        {
          "output_type": "execute_result",
          "data": {
            "text/plain": [
              "6663    273.0\n",
              "6664    273.0\n",
              "6665    298.0\n",
              "6666    298.0\n",
              "6667    298.0\n",
              "6668    298.0\n",
              "6669    298.0\n",
              "Name: Temperature, dtype: float64"
            ]
          },
          "metadata": {
            "tags": []
          },
          "execution_count": 278
        }
      ]
    },
    {
      "cell_type": "markdown",
      "metadata": {
        "id": "MntAtFnaVIJj",
        "colab_type": "text"
      },
      "source": [
        "##other"
      ]
    },
    {
      "cell_type": "code",
      "metadata": {
        "id": "grZrc0dzVJOl",
        "colab_type": "code",
        "colab": {
          "base_uri": "https://localhost:8080/",
          "height": 561
        },
        "outputId": "85ea91f8-5824-4410-ef2a-2d62da2e02bc"
      },
      "source": [
        "SKEMPI_df['NumMutations'] = SKEMPI_df['Mutation(s)_PDB'].str.count(',')+1 \n",
        "\n",
        "largest = [0,0]\n",
        "for i,str_lst in enumerate(SKEMPI_df['Mutation(s)_PDB']):\n",
        "  lst=str_lst.split(',')\n",
        "  split_len = len(lst)\n",
        "  camma_len = SKEMPI_df['NumMutations'][i]\n",
        "  if split_len != camma_len:\n",
        "    print(i,lst, SKEMPI_df['NumMutations'][i], SKEMPI_df['Mutation(s)_PDB'][i], str_lst)\n",
        "    pass\n",
        "  longest = max(len(el) for el in lst)\n",
        "  if longest>largest[0]:\n",
        "    largest=[longest,i]\n",
        "  \n",
        "print(largest)\n",
        "print(SKEMPI_df.loc[largest[1]])"
      ],
      "execution_count": 309,
      "outputs": [
        {
          "output_type": "stream",
          "text": [
            "[7, 329]\n",
            "#Pdb                                    1DVF_AB_CD\n",
            "Mutation(s)_PDB                            RD100bA\n",
            "Mutation(s)_cleaned                         RD106A\n",
            "iMutation_Location(s)                          COR\n",
            "Hold_out_type                                AB/AG\n",
            "Hold_out_proteins                            AB/AG\n",
            "Affinity_mut (M)                          1.08E-05\n",
            "Affinity_mut_parsed                       1.08e-05\n",
            "Affinity_wt (M)                           1.08E-08\n",
            "Affinity_wt_parsed                        1.08e-08\n",
            "Reference                                  8993317\n",
            "Protein 1                       IgG1-kappa D1.3 Fv\n",
            "Protein 2                                  E5.2 Fv\n",
            "Temperature                                    298\n",
            "kon_mut (M^(-1)s^(-1))                         NaN\n",
            "kon_mut_parsed                                 NaN\n",
            "kon_wt (M^(-1)s^(-1))                          NaN\n",
            "kon_wt_parsed                                  NaN\n",
            "koff_mut (s^(-1))                              NaN\n",
            "koff_mut_parsed                                NaN\n",
            "koff_wt (s^(-1))                               NaN\n",
            "koff_wt_parsed                                 NaN\n",
            "dH_mut (kcal mol^(-1))                         NaN\n",
            "dH_wt (kcal mol^(-1))                          NaN\n",
            "dS_mut (cal mol^(-1) K^(-1))                   NaN\n",
            "dS_wt (cal mol^(-1) K^(-1))                    NaN\n",
            "Notes                                          NaN\n",
            "Method                                         SPR\n",
            "SKEMPI version                                   1\n",
            "NumMutations                                     1\n",
            "Name: 329, dtype: object\n"
          ],
          "name": "stdout"
        }
      ]
    },
    {
      "cell_type": "code",
      "metadata": {
        "id": "Dte0TLrljNE1",
        "colab_type": "code",
        "colab": {
          "base_uri": "https://localhost:8080/",
          "height": 1000
        },
        "outputId": "5d6c61a1-7e4e-44dc-cb02-4c15b42edb44"
      },
      "source": [
        ""
      ],
      "execution_count": 319,
      "outputs": [
        {
          "output_type": "execute_result",
          "data": {
            "text/plain": [
              "0        5\n",
              "1        5\n",
              "2        5\n",
              "3        5\n",
              "4        5\n",
              "5        5\n",
              "6        5\n",
              "7        5\n",
              "8        5\n",
              "9        5\n",
              "10       5\n",
              "11       5\n",
              "12       5\n",
              "13       5\n",
              "14       5\n",
              "15       5\n",
              "16       5\n",
              "17       5\n",
              "18       5\n",
              "19      11\n",
              "20       5\n",
              "21       5\n",
              "22       5\n",
              "23      11\n",
              "24      11\n",
              "25       5\n",
              "26       5\n",
              "27       5\n",
              "28       5\n",
              "29       5\n",
              "        ..\n",
              "7055     5\n",
              "7056     5\n",
              "7057    11\n",
              "7058     5\n",
              "7059     5\n",
              "7060     5\n",
              "7061     5\n",
              "7062     5\n",
              "7063     5\n",
              "7064     5\n",
              "7065     5\n",
              "7066     5\n",
              "7067     5\n",
              "7068     5\n",
              "7069     5\n",
              "7070     5\n",
              "7071     5\n",
              "7072     5\n",
              "7073     5\n",
              "7074     5\n",
              "7075     5\n",
              "7076    11\n",
              "7077     4\n",
              "7078     4\n",
              "7079     4\n",
              "7080     4\n",
              "7081     5\n",
              "7082     5\n",
              "7083     5\n",
              "7084    10\n",
              "Name: Mutation(s)_PDB, Length: 7085, dtype: int64"
            ]
          },
          "metadata": {
            "tags": []
          },
          "execution_count": 319
        }
      ]
    }
  ]
}