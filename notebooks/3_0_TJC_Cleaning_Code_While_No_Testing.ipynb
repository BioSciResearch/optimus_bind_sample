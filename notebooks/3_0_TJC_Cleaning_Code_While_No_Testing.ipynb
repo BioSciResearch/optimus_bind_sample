{
  "nbformat": 4,
  "nbformat_minor": 0,
  "metadata": {
    "colab": {
      "name": "3.0-TJC-Cleaning-Code-While-No-Testing.ipynb",
      "version": "0.3.2",
      "provenance": [],
      "collapsed_sections": [
        "e-YYGpBlqwC4",
        "U_CxKYl956ew",
        "w3KZYUu358Ma",
        "tztDpsCNxjvo",
        "PIJyBoegMZMQ",
        "MntAtFnaVIJj",
        "iVCZM_HWf9VT"
      ],
      "include_colab_link": true
    },
    "kernelspec": {
      "name": "python3",
      "display_name": "Python 3"
    }
  },
  "cells": [
    {
      "cell_type": "markdown",
      "metadata": {
        "id": "view-in-github",
        "colab_type": "text"
      },
      "source": [
        "<a href=\"https://colab.research.google.com/github/tcardlab/optimus_bind_sample/blob/develop/notebooks/3_0_TJC_Cleaning_Code_While_No_Testing.ipynb\" target=\"_parent\"><img src=\"https://colab.research.google.com/assets/colab-badge.svg\" alt=\"Open In Colab\"/></a>"
      ]
    },
    {
      "cell_type": "markdown",
      "metadata": {
        "id": "sTLbt4BPvA4b",
        "colab_type": "text"
      },
      "source": [
        "I'm reviewing and cleaning up SKEMPItoPandas and found 2 quirks.\n",
        "\n",
        "- Skempi_df['Temperature'][6665:9]=''\n",
        "   for whatever reason, these blanks did not default to 298.0 and are nan\n",
        "   \n",
        "- Unfortunately, using df.fillna to patch those 4 values introduce changes. All values of temperature test as equal, but in the calculation the results are different. I am uncertain which output you would consider correct.\n",
        "\n",
        "**Original values vs df.fillna(298)**\n",
        "\n",
        "```\n",
        "ddgMedian\n",
        "expected (tmp was nan in original):\n",
        "6665 4G0N_A_B   [3.2996884744981614 vs 2.9170490380241167] \n",
        "6666  1C1Y_A_B   [nan vs 2.619152014020517]\n",
        "6667  1LFD_A_B   [3.8958503047001924 vs 3.3114853574091185] \n",
        "6668  1LFD_A_B   [nan vs -0.21121814832220487] \n",
        "unexpected(same pdb #'s):\n",
        "6472  1LFD_A_B   [3.8958503047001924 vs 3.3114853574091185]  310.0\n",
        "6493 4G0N_A_B   [3.2996884744981614 vs 2.9170490380241167]   308.0\n",
        "```\n",
        "\n",
        "\n",
        "is it possible that changes to nan affected the median calculation\n",
        "```df.groupby(...)['ddG'].transform('median')``` \n",
        "thus creating two unexpected outputs with similar pdb#'s?\n",
        "\n",
        "The worst-case scenario is we use df.dropna for temperature too. I have tested it and it produces consistent results."
      ]
    },
    {
      "cell_type": "code",
      "metadata": {
        "id": "5orUnOTWg6cm",
        "colab_type": "code",
        "colab": {}
      },
      "source": [
        "import pandas as pd\n",
        "import numpy as np\n",
        "import re"
      ],
      "execution_count": 0,
      "outputs": []
    },
    {
      "cell_type": "code",
      "metadata": {
        "id": "aBZfvYmWhXUR",
        "colab_type": "code",
        "colab": {
          "base_uri": "https://localhost:8080/",
          "height": 204
        },
        "outputId": "ff16a7c8-9b84-4e21-9cc6-1fc95346901a"
      },
      "source": [
        "link = 'https://life.bsc.es/pid/skempi2/database/download/skempi_v2.csv'\n",
        "\n",
        "'''Proper python retreival'''\n",
        "#from urllib.request import urlretrieve\n",
        "#csv_path, _ = urlretrieve(link,f'skempi_v2.0.csv')\n",
        "\n",
        "'''Direct import to Pandas'''\n",
        "#data = pd.read_csv(link, sep=';')\n",
        "#print(data)\n",
        "\n",
        "'''OS get'''\n",
        "!wget $link -O skempi_v2.0.csv #-O to rename"
      ],
      "execution_count": 4,
      "outputs": [
        {
          "output_type": "stream",
          "text": [
            "--2019-07-18 09:11:24--  https://life.bsc.es/pid/skempi2/database/download/skempi_v2.csv\n",
            "Resolving life.bsc.es (life.bsc.es)... 84.88.52.107\n",
            "Connecting to life.bsc.es (life.bsc.es)|84.88.52.107|:443... connected.\n",
            "HTTP request sent, awaiting response... 200 OK\n",
            "Length: 1602208 (1.5M) [text/csv]\n",
            "Saving to: ‘skempi_v2.0.csv’\n",
            "\n",
            "skempi_v2.0.csv     100%[===================>]   1.53M   493KB/s    in 3.2s    \n",
            "\n",
            "2019-07-18 09:11:28 (493 KB/s) - ‘skempi_v2.0.csv’ saved [1602208/1602208]\n",
            "\n"
          ],
          "name": "stdout"
        }
      ]
    },
    {
      "cell_type": "markdown",
      "metadata": {
        "id": "cyHaVBFVMErw",
        "colab_type": "text"
      },
      "source": [
        "#original"
      ]
    },
    {
      "cell_type": "code",
      "metadata": {
        "id": "yyDNca80WPJF",
        "colab_type": "code",
        "colab": {}
      },
      "source": [
        "def SKEMPItoPandas(SKEMPI_loc):\n",
        "    '''\n",
        "    Purpose:\n",
        "        1. Loads SKEMPI CSV file.\n",
        "        2. Calculates ddG\n",
        "        3. For multiple measurements, keeps the median value\n",
        "        4. Eliminates entries with mutations on both sides of the interface\n",
        "    Input:\n",
        "        SKEMPI_loc : Location of SKEMPI CSV file\n",
        "    Output:\n",
        "        SKEMPI_df : Pandas dataframe    \n",
        "    '''\n",
        "    \n",
        "    # fix this\n",
        "    pd.options.mode.chained_assignment = None  # default='warn'\n",
        "\n",
        "    # Constants\n",
        "    R = 1.9872036e-3  # Ideal Gas Constant in kcal\n",
        "\n",
        "    SKEMPI_df = pd.read_csv(SKEMPI_loc, sep=';')\n",
        "\n",
        "    # Convert non numeric temperature comments to numeric values. Default is 298K \n",
        "    ConvertTemp = lambda x: int(re.search(r'\\d+', x).group(0) or 298)\n",
        "    BadTemps = SKEMPI_df.Temperature.str.isnumeric() == 0\n",
        "    SKEMPI_df['Temperature'].loc[BadTemps] = SKEMPI_df['Temperature'].loc[BadTemps].map(ConvertTemp)\n",
        "    SKEMPI_df['Temperature'] = pd.to_numeric(SKEMPI_df['Temperature'], errors='coerce')\n",
        "\n",
        "    # Drop missing values\n",
        "    #SKEMPI_df.dropna(subset=['Temperature'], inplace=True)\n",
        "    SKEMPI_df.dropna(subset=['Affinity_wt_parsed'], inplace=True)\n",
        "    SKEMPI_df.dropna(subset=['Affinity_mut_parsed'], inplace=True)\n",
        "\n",
        "    # Calculate free energies\n",
        "    SKEMPI_df['dgWT'] = -R*SKEMPI_df['Temperature']*np.log(SKEMPI_df['Affinity_wt_parsed'])\n",
        "    SKEMPI_df['dgMut'] = -R*SKEMPI_df['Temperature']*np.log(SKEMPI_df['Affinity_mut_parsed'])\n",
        "    SKEMPI_df['ddG'] = SKEMPI_df['dgWT']-SKEMPI_df['dgMut']\n",
        "\n",
        "    # Create a key for unique mutations based on PDB and \n",
        "    SKEMPI_df['MutKey'] = SKEMPI_df['#Pdb']+'_'+SKEMPI_df['Mutation(s)_PDB']\n",
        "    # Replace multiple measurements of the same mutation with the group mean\n",
        "    # May consider grouping by experimental method as well\n",
        "    SKEMPI_df['ddgMedian'] = SKEMPI_df.groupby('MutKey')['ddG'].transform('median')        \n",
        "    SKEMPI_df = SKEMPI_df.drop_duplicates(subset=['MutKey', 'Temperature'], keep='first', inplace=False)\n",
        "\n",
        "    # Flag multiple mutations in the same protein\n",
        "    SKEMPI_df['NumMutations'] = SKEMPI_df['Mutation(s)_PDB'].str.count(',')+1 \n",
        "\n",
        "    # Extract Chains and remove cross chain mutations. Chain is the second position in the mutation code\n",
        "    SKEMPI_df['Prot1Chain'] = SKEMPI_df['#Pdb'].str.split('_').str[1]\n",
        "    SKEMPI_df['Prot2Chain'] = SKEMPI_df['#Pdb'].str.split('_').str[2]\n",
        "    SKEMPI_df['MutSplit'] = SKEMPI_df['Mutation(s)_PDB'].str.split(',')\n",
        "\n",
        "    def ChainCheck(df):\n",
        "        if df['NumMutations'] == 1:\n",
        "            CrossChain = False\n",
        "            return CrossChain\n",
        "        else:\n",
        "            Chain = df['MutSplit'][0][1]\n",
        "            if Chain in df['Prot1Chain']:\n",
        "                ChainSet = df['Prot1Chain']\n",
        "            elif Chain in df['Prot2Chain']:\n",
        "                ChainSet = df['Prot2Chain']\n",
        "            for i in range(len(df['MutSplit'])):\n",
        "                Chain = df['MutSplit'][i][1]\n",
        "                if Chain in ChainSet:\n",
        "                    CrossChain = False\n",
        "                else:\n",
        "                    CrossChain = True\n",
        "                    break\n",
        "        return CrossChain\n",
        "\n",
        "    SKEMPI_df['CrossChain'] = SKEMPI_df.apply(ChainCheck, axis=1)\n",
        "    SKEMPI_SingleSided = SKEMPI_df[SKEMPI_df.CrossChain == False]\n",
        "\n",
        "    NumProteins = SKEMPI_SingleSided['#Pdb'].nunique()\n",
        "    NumMutations = SKEMPI_SingleSided['#Pdb'].count()\n",
        "    print(\"There are %s unique single sided mutations in %s proteins\" % (NumMutations, NumProteins))             \n",
        "    return SKEMPI_SingleSided"
      ],
      "execution_count": 0,
      "outputs": []
    },
    {
      "cell_type": "code",
      "metadata": {
        "id": "pXl_gbDllji9",
        "colab_type": "code",
        "colab": {
          "base_uri": "https://localhost:8080/",
          "height": 34
        },
        "outputId": "1b17e228-890c-4edb-9df5-ecbdcc8db89b"
      },
      "source": [
        "og_output = SKEMPItoPandas('skempi_v2.0.csv')"
      ],
      "execution_count": 15,
      "outputs": [
        {
          "output_type": "stream",
          "text": [
            "There are 5454 unique single sided mutations in 343 proteins\n"
          ],
          "name": "stdout"
        }
      ]
    },
    {
      "cell_type": "markdown",
      "metadata": {
        "id": "-_8OVerLMHoI",
        "colab_type": "text"
      },
      "source": [
        "#Changed"
      ]
    },
    {
      "cell_type": "markdown",
      "metadata": {
        "id": "e-YYGpBlqwC4",
        "colab_type": "text"
      },
      "source": [
        "##v1.0\n"
      ]
    },
    {
      "cell_type": "code",
      "metadata": {
        "id": "cesDYu34l-66",
        "colab_type": "code",
        "colab": {}
      },
      "source": [
        "def ChainCheck(df):\n",
        "        if df['NumMutations'] == 1:\n",
        "            CrossChain = False\n",
        "            return CrossChain\n",
        "        else:\n",
        "            Chain = df['MutSplit'][0][1]\n",
        "            if Chain in df['Prot1Chain']:\n",
        "                ChainSet = df['Prot1Chain']\n",
        "            elif Chain in df['Prot2Chain']:\n",
        "                ChainSet = df['Prot2Chain']\n",
        "            for i in range(len(df['MutSplit'])):\n",
        "                Chain = df['MutSplit'][i][1]\n",
        "                if Chain in ChainSet:\n",
        "                    CrossChain = False\n",
        "                else:\n",
        "                    CrossChain = True\n",
        "                    break\n",
        "        return CrossChain\n",
        "\n",
        "def gibbsEq(Kd, tmp):\n",
        "  R = 1.9872036e-3  # Ideal Gas Constant in kcal\n",
        "  ΔG = -R * tmp * np.log(Kd) #log is ln in np\n",
        "  return ΔG\n",
        "\n",
        "def SKEMPItoPandas1(SKEMPI_loc):\n",
        "    '''\n",
        "    Purpose:\n",
        "        1. Loads SKEMPI CSV file.\n",
        "        2. Calculates ddG\n",
        "        3. For multiple measurements, keeps the median value\n",
        "        4. Eliminates entries with mutations on both sides of the interface\n",
        "    Input:\n",
        "        SKEMPI_loc : Location of SKEMPI CSV file\n",
        "    Output:\n",
        "        SKEMPI_df : Pandas dataframe    \n",
        "    '''\n",
        "    \n",
        "    SKEMPI_df = pd.read_csv(SKEMPI_loc, sep=';')\n",
        "\n",
        "    # Convert non numeric temperature comments to numeric values. \n",
        "    # Default is 298K \n",
        "    SKEMPI_df['Temperature'] = SKEMPI_df['Temperature'].str.extract(r'(\\d+)')\n",
        "    SKEMPI_df['Temperature'] = pd.to_numeric(SKEMPI_df['Temperature'], \n",
        "                                             errors='coerce')\n",
        "    SKEMPI_df['Temperature'].fillna(298, inplace=True)\n",
        "    \n",
        "    # Drop missing values\n",
        "    #SKEMPI_df.dropna(subset=['Temperature'], inplace=True)\n",
        "    SKEMPI_df.dropna(subset=['Affinity_wt_parsed'], inplace=True)\n",
        "    SKEMPI_df.dropna(subset=['Affinity_mut_parsed'], inplace=True)\n",
        "\n",
        "    # Calculate free energies\n",
        "    SKEMPI_df['dgWT'] = gibbsEq(SKEMPI_df['Affinity_wt_parsed'], \n",
        "                                SKEMPI_df['Temperature'])\n",
        "    SKEMPI_df['dgMut'] = gibbsEq(SKEMPI_df['Affinity_mut_parsed'], \n",
        "                                 SKEMPI_df['Temperature'])\n",
        "    SKEMPI_df['ddG'] = SKEMPI_df['dgWT']-SKEMPI_df['dgMut']\n",
        "\n",
        "    # Create a key for unique mutations based on PDB and \n",
        "    SKEMPI_df['MutKey'] = SKEMPI_df['#Pdb']+'_'+SKEMPI_df['Mutation(s)_PDB']\n",
        "    # Replace multiple measurements of the same mutation with the group mean\n",
        "    # May consider grouping by experimental method as well\n",
        "    SKEMPI_df['ddgMedian'] = SKEMPI_df.groupby('MutKey')['ddG'].transform('median')        \n",
        "    SKEMPI_df = SKEMPI_df.drop_duplicates(subset=['MutKey', 'Temperature'], \n",
        "                                          keep='first', inplace=False)\n",
        "\n",
        "    # Flag multiple mutations in the same protein\n",
        "    SKEMPI_df['MutSplit'] = SKEMPI_df['Mutation(s)_PDB'].str.split(',')\n",
        "    SKEMPI_df['NumMutations'] = SKEMPI_df['MutSplit'].apply(len)\n",
        "    \n",
        "    # Extract Chains and remove cross chain mutations. \n",
        "    # Chain is the second position in the mutation code\n",
        "    SKEMPI_df['Prot1Chain'] = SKEMPI_df['#Pdb'].str.split('_').str[1]\n",
        "    SKEMPI_df['Prot2Chain'] = SKEMPI_df['#Pdb'].str.split('_').str[2]\n",
        "    \n",
        "    SKEMPI_df['CrossChain'] = SKEMPI_df.apply(ChainCheck, axis=1)\n",
        "    SKEMPI_SingleSided = SKEMPI_df[SKEMPI_df.CrossChain == False]\n",
        "\n",
        "    NumProteins = SKEMPI_SingleSided['#Pdb'].nunique()\n",
        "    NumMutations = SKEMPI_SingleSided['#Pdb'].count()\n",
        "    print(\"There are %s unique single sided mutations in %s proteins\" % (NumMutations, NumProteins))             \n",
        "    return SKEMPI_SingleSided"
      ],
      "execution_count": 0,
      "outputs": []
    },
    {
      "cell_type": "code",
      "metadata": {
        "id": "lLyLmd8RmXNk",
        "colab_type": "code",
        "colab": {
          "base_uri": "https://localhost:8080/",
          "height": 34
        },
        "outputId": "0a392c2b-f5c4-46ba-ebfb-c33fce02b452"
      },
      "source": [
        "new_output = SKEMPItoPandas1('skempi_v2.0.csv')"
      ],
      "execution_count": 9,
      "outputs": [
        {
          "output_type": "stream",
          "text": [
            "There are 5454 unique single sided mutations in 343 proteins\n"
          ],
          "name": "stdout"
        }
      ]
    },
    {
      "cell_type": "code",
      "metadata": {
        "id": "KxbLm3kPom2e",
        "colab_type": "code",
        "colab": {}
      },
      "source": [
        "new_output"
      ],
      "execution_count": 0,
      "outputs": []
    },
    {
      "cell_type": "markdown",
      "metadata": {
        "id": "d7Oke5LhqzX0",
        "colab_type": "text"
      },
      "source": [
        "##v1.1 as class?"
      ]
    },
    {
      "cell_type": "markdown",
      "metadata": {
        "id": "U_CxKYl956ew",
        "colab_type": "text"
      },
      "source": [
        "###Base Case"
      ]
    },
    {
      "cell_type": "markdown",
      "metadata": {
        "id": "NigEaknU1QW6",
        "colab_type": "text"
      },
      "source": [
        "https://www.kaggle.com/vinceniko/custom-pandas-subclass"
      ]
    },
    {
      "cell_type": "code",
      "metadata": {
        "id": "AdidrLSz1O09",
        "colab_type": "code",
        "colab": {}
      },
      "source": [
        "import pandas as pd\n",
        "\n",
        "\n",
        "class Pandas_Subclass(pd.DataFrame):\n",
        "    \"\"\"\n",
        "    A way to create a Pandas subclass which initializes from another Pandas object without passing it into the class constructor.\n",
        "    Allows complete overwriting of parent class constructor.\n",
        "    Allows custom methods to be added onto Pandas objects (which can be created within the constructer itself).\n",
        "    Ie. pass in a file_path to the class constructor which then calls pd.read_csv within __init__ which then assigns the returned DataFrame to self.\n",
        "    Params:\n",
        "        file_path (str): file_path passed into pd.read_csv().\n",
        "    \"\"\"\n",
        "\n",
        "    def __init__(self, file_path):\n",
        "        super().__init__(pd.read_csv(file_path))  # initialize subclass from DataFrame instance\n",
        "        # self.__dict__.update(pd.read_csv(file_path).__dict__)  # the unpythonic way to do it\n",
        "\n",
        "    def custom_method(self):\n",
        "        print(self)  # returns .csv as Dataframe\n",
        "        print(type(self))  # returns <class '__main__.Pandas_Subclass'>\n",
        "\n",
        "\n",
        "if __name__ == '__main__':\n",
        "    df = Pandas_Subclass('../input/winemag-data_first150k.csv')\n",
        "    df.custom_method()"
      ],
      "execution_count": 0,
      "outputs": []
    },
    {
      "cell_type": "markdown",
      "metadata": {
        "id": "w3KZYUu358Ma",
        "colab_type": "text"
      },
      "source": [
        "###Initial Attempt"
      ]
    },
    {
      "cell_type": "code",
      "metadata": {
        "id": "8g9vAyiiquw0",
        "colab_type": "code",
        "colab": {
          "base_uri": "https://localhost:8080/",
          "height": 34
        },
        "outputId": "a1f17d03-3de2-48ad-f821-9a6967d2ba35"
      },
      "source": [
        "def ChainCheck(df):\n",
        "    '''\n",
        "    No idea what is happening here, too many if's to think about atm...\n",
        "    '''\n",
        "    if df['NumMutations'] == 1:\n",
        "      crossChain = False\n",
        "      return crossChain\n",
        "    else:\n",
        "      Chain = df['MutSplit'][0][1]\n",
        "      if Chain in df['Prot1Chain']:\n",
        "        ChainSet = df['Prot1Chain']\n",
        "      elif Chain in df['Prot2Chain']:\n",
        "        ChainSet = df['Prot2Chain']\n",
        "      for i in range(len(df['MutSplit'])):\n",
        "        Chain = df['MutSplit'][i][1]\n",
        "        if Chain in ChainSet:\n",
        "          crossChain = False\n",
        "        else:\n",
        "          crossChain = True\n",
        "          break\n",
        "    return crossChain\n",
        "\n",
        "class MutantDataSet(pd.DataFrame):\n",
        "  '''\n",
        "  Subclassed Pandsas DataFrame\n",
        "  \n",
        "  Not sure what to think yet....\n",
        "  '''\n",
        "  #WHY cant I get this to work?\n",
        "  def __init__(self, data, sep=',', index=None, columns=None, dtype=None, \n",
        "               copy=True,):\n",
        "    '''Initialize subclass from DataFrame instance.'''\n",
        "    #from csv\n",
        "    if type(data)==str:\n",
        "      data=pd.read_csv(data, sep=sep)\n",
        "    super(MutantDataSet, self).__init__(data=data,\n",
        "                                        index=index,\n",
        "                                        columns=columns,\n",
        "                                        dtype=dtype,\n",
        "                                        copy=copy)\n",
        "\n",
        "#  def __init__(self, data, index=None, columns=None, dtype=str, \n",
        "#               copy=True, sep=';'):\n",
        "#        super(MutantDataSet, self).__init__(data=pd.read_csv(data, sep=sep),\n",
        "#                                            index=index,\n",
        "#                                            columns=columns,\n",
        "#                                            dtype=dtype,\n",
        "#                                            copy=copy)\n",
        "\n",
        "  def Mutations(self, row):\n",
        "    '''Returns dictionary of mutation identifiers.'''\n",
        "    keys = ['initAA', 'chain', 'loc', 'mutAA']  # code key\n",
        "    mut_codes = self.loc[row]['Mutation(s)_cleaned'].split(',')\n",
        "    unzip_code = zip(*[re.findall('(\\d+|.)', mut) for mut in mut_codes])\n",
        "    mut_dct = dict(zip(keys, unzip_code))\n",
        "    return mut_dct\n",
        "  \n",
        "  def to_numeric(self, keys):\n",
        "    '''\n",
        "    converts column of single or list of keys to numeric values\n",
        "    '''\n",
        "    self[keys] = self[keys].apply(pd.to_numeric, errors='coerce')\n",
        "    return self[keys]\n",
        "  \n",
        "  def to_numeric2(self, keys):\n",
        "    '''\n",
        "    converts column of single or list of keys to numeric values\n",
        "    not as good\n",
        "    '''\n",
        "    keys = [keys] if type(keys)==str else keys\n",
        "    for k in keys:\n",
        "      self[k] = pd.to_numeric(self[k], errors='coerce')\n",
        "    return self\n",
        "  \n",
        "  def gibbsEq(self, Kd_key, tmp_key='Temperature'): \n",
        "    R = 1.9872036e-3  # Ideal Gas Constant in kcal\n",
        "    ΔG = -R * self[tmp_key] * np.log(self[Kd_key]) #log is ln in np\n",
        "    return ΔG\n",
        "  \n",
        "  def ddG(self, wild, mutant, tmp_key='Temperature'):\n",
        "    self['dgWT'] = self.gibbsEq(wild, tmp_key)\n",
        "    self['dgMut'] = self.gibbsEq(mutant, tmp_key)\n",
        "    self['ddG'] = self['dgWT']-self['dgMut']\n",
        "    return self\n",
        "  \n",
        "  def grouped_avg(self, group_keys, avg_key):\n",
        "    '''\n",
        "    DANGEROUS! not sure if median value will be returned to correct indecies\n",
        "    '''\n",
        "    averaged = self.groupby(group_keys)[avg_key].transform('median')\n",
        "    return averaged\n",
        "    \n",
        "  def find_cross_chains(self):\n",
        "    self['Prot1Chain'] = self['#Pdb'].str.split('_').str[1]\n",
        "    self['Prot2Chain'] = self['#Pdb'].str.split('_').str[2]\n",
        "    crossChain = self.apply(ChainCheck, axis=1)\n",
        "    return crossChain\n",
        "    \n",
        "  @property\n",
        "  def _constructor(self):\n",
        "    return MutantDataSet # Class Name\n",
        "\n",
        "\n",
        "'''\n",
        "1) clean each dataset to create consistant MutantDataSet's\n",
        "  1a) store indeviduals in ~/data/intermediate \n",
        "2) combine into uniform MutantDataSet \n",
        "  2a) store in ~/data/final  \n",
        "'''\n",
        "\n",
        "#1 – clean skempi\n",
        "def clean_Skempi(path):\n",
        "  #initialize class\n",
        "  skempi = MutantDataSet(path, sep=';')  # not working atm...\n",
        "  #skempi_df = pd.read_csv(path, sep=';')\n",
        "  #skempi = MutantDataSet(skempi_df)\n",
        "  \n",
        "  # Convert non-numeric temperature comments to numeric values. Default is 298K \n",
        "  skempi['Temperature'] = skempi['Temperature'].str.extract(r'(\\d+)')\n",
        "  skempi['Temperature'] = skempi.to_numeric('Temperature')\n",
        "  skempi['Temperature'].fillna(298, inplace=True) #6665-6668 blank\n",
        "  \n",
        "  # Calculate free energies\n",
        "  dropna_lst = ['Affinity_wt_parsed','Affinity_mut_parsed']\n",
        "  skempi.dropna(subset=dropna_lst, inplace=True)\n",
        "  skempi = skempi.ddG('Affinity_wt_parsed', 'Affinity_mut_parsed')\n",
        "  \n",
        "  #Average and duplicate ddG/tmp values\n",
        "  group_keys = ['#Pdb', 'Mutation(s)_PDB']\n",
        "  skempi['ddG'] = skempi.grouped_avg(group_keys, 'ddG')\n",
        "  skempi = skempi.drop_duplicates(subset=[*group_keys,'Temperature'], \n",
        "                                  keep='first', inplace=False)\n",
        "  \n",
        "  # Flag multiple mutations in the same protein\n",
        "  skempi['MutSplit'] = skempi['Mutation(s)_PDB'].str.split(',')\n",
        "  skempi['NumMutations'] = skempi['MutSplit'].apply(len)\n",
        "  \n",
        "  # Extract Chains and remove cross chain mutations. \n",
        "  skempi['CrossChain'] = skempi.find_cross_chains()\n",
        "  SKEMPI_SingleSided = skempi[skempi.CrossChain == False]\n",
        "  return SKEMPI_SingleSided\n",
        "\n",
        "#import os\n",
        "#path=os.path.abspath('skempi_v2.0.csv')\n",
        "skempi_final = clean_Skempi(path)\n",
        "\n",
        "#skempi_final = clean_Skempi('skempi_v2.0.csv')\n",
        "NumProteins = skempi_final['#Pdb'].nunique()\n",
        "NumMutations = skempi_final['#Pdb'].count()\n",
        "print(\"There are %s unique single sided mutations in %s proteins\" % \n",
        "      (NumMutations, NumProteins))  \n",
        "\n",
        "#1a – store skempi in ~/data/intermediate\n",
        "\n",
        "\n",
        "#1 – clean Other \n",
        "  #other = MutantDataSet('other.csv')\n",
        "  #1a – store Other in ~/data/intermediate\n",
        "\n",
        "\n",
        "#2 – combine \n",
        "  #2a – store in ~/data/final  \n"
      ],
      "execution_count": 210,
      "outputs": [
        {
          "output_type": "stream",
          "text": [
            "There are 5454 unique single sided mutations in 343 proteins\n"
          ],
          "name": "stdout"
        }
      ]
    },
    {
      "cell_type": "markdown",
      "metadata": {
        "id": "EB1l0mrZx-Ev",
        "colab_type": "text"
      },
      "source": [
        "####tests"
      ]
    },
    {
      "cell_type": "code",
      "metadata": {
        "id": "9a7_n2mXO3TZ",
        "colab_type": "code",
        "colab": {
          "base_uri": "https://localhost:8080/",
          "height": 409
        },
        "outputId": "3b2fd58d-3e2b-46d3-9e60-5bf8dbc1259b"
      },
      "source": [
        "#skempi = MutantDataSet('skempi_v2.0.csv', sep=';')\n",
        "#skempi.to_numeric()\n",
        "\n",
        "skempi_df = pd.read_csv('skempi_v2.0.csv', sep=';')\n",
        "skempi = MutantDataSet(skempi_df)\n",
        "\n",
        "'''To numeric test'''\n",
        "test1=skempi\n",
        "skempi=skempi.to_numeric(\"Temperature\")\n",
        "test1=skempi.to_numeric2(\"Temperature\")\n",
        "print(skempi.equals(test1))\n",
        "\n",
        "'''Drop multiple at the same time test.'''\n",
        "test2=skempi\n",
        "skempi.dropna(subset=['Affinity_wt_parsed'], inplace=True)\n",
        "skempi.dropna(subset=['Affinity_mut_parsed'], inplace=True)\n",
        "\n",
        "test2.dropna(subset=['Affinity_wt_parsed','Affinity_mut_parsed'], inplace=True)\n",
        "print(skempi.equals(test2))\n",
        "\n",
        "'''Calculate free energies'''\n",
        "skempi['dgWT'] = gibbsEq(skempi, 'Affinity_wt_parsed', 'Temperature')\n",
        "skempi['dgMut'] = skempi.gibbsEq('Affinity_mut_parsed', 'Temperature')\n",
        "SKEMPI_df['dgWT'] = gibbsEq(SKEMPI_df['Affinity_wt_parsed'], SKEMPI_df['Temperature'])"
      ],
      "execution_count": 170,
      "outputs": [
        {
          "output_type": "error",
          "ename": "AttributeError",
          "evalue": "ignored",
          "traceback": [
            "\u001b[0;31m---------------------------------------------------------------------------\u001b[0m",
            "\u001b[0;31mAttributeError\u001b[0m                            Traceback (most recent call last)",
            "\u001b[0;32m<ipython-input-170-59b09c6bcfe7>\u001b[0m in \u001b[0;36m<module>\u001b[0;34m()\u001b[0m\n\u001b[1;32m      1\u001b[0m \u001b[0;34m\u001b[0m\u001b[0m\n\u001b[1;32m      2\u001b[0m \u001b[0mskempi_df\u001b[0m \u001b[0;34m=\u001b[0m \u001b[0mpd\u001b[0m\u001b[0;34m.\u001b[0m\u001b[0mread_csv\u001b[0m\u001b[0;34m(\u001b[0m\u001b[0;34m'skempi_v2.0.csv'\u001b[0m\u001b[0;34m,\u001b[0m \u001b[0msep\u001b[0m\u001b[0;34m=\u001b[0m\u001b[0;34m';'\u001b[0m\u001b[0;34m)\u001b[0m\u001b[0;34m\u001b[0m\u001b[0;34m\u001b[0m\u001b[0m\n\u001b[0;32m----> 3\u001b[0;31m \u001b[0mskempi\u001b[0m \u001b[0;34m=\u001b[0m \u001b[0mMutantDataSet\u001b[0m\u001b[0;34m(\u001b[0m\u001b[0mskempi_df\u001b[0m\u001b[0;34m)\u001b[0m\u001b[0;34m\u001b[0m\u001b[0;34m\u001b[0m\u001b[0m\n\u001b[0m\u001b[1;32m      4\u001b[0m \u001b[0;34m\u001b[0m\u001b[0m\n\u001b[1;32m      5\u001b[0m \u001b[0;34m'''To numeric test'''\u001b[0m\u001b[0;34m\u001b[0m\u001b[0;34m\u001b[0m\u001b[0m\n",
            "\u001b[0;32m<ipython-input-169-0a411664b99d>\u001b[0m in \u001b[0;36m__init__\u001b[0;34m(self, data_path, sep)\u001b[0m\n\u001b[1;32m     14\u001b[0m     \u001b[0;32melif\u001b[0m \u001b[0mtype\u001b[0m\u001b[0;34m(\u001b[0m\u001b[0mdata_path\u001b[0m\u001b[0;34m)\u001b[0m\u001b[0;34m==\u001b[0m\u001b[0mstr\u001b[0m\u001b[0;34m:\u001b[0m\u001b[0;34m\u001b[0m\u001b[0;34m\u001b[0m\u001b[0m\n\u001b[1;32m     15\u001b[0m       \u001b[0msuper\u001b[0m\u001b[0;34m(\u001b[0m\u001b[0;34m)\u001b[0m\u001b[0;34m.\u001b[0m\u001b[0m__init__\u001b[0m\u001b[0;34m(\u001b[0m\u001b[0mdata\u001b[0m\u001b[0;34m=\u001b[0m\u001b[0mpd\u001b[0m\u001b[0;34m.\u001b[0m\u001b[0mread_csv\u001b[0m\u001b[0;34m(\u001b[0m\u001b[0mdata_path\u001b[0m\u001b[0;34m,\u001b[0m \u001b[0msep\u001b[0m\u001b[0;34m=\u001b[0m\u001b[0msep\u001b[0m\u001b[0;34m)\u001b[0m\u001b[0;34m)\u001b[0m\u001b[0;34m\u001b[0m\u001b[0;34m\u001b[0m\u001b[0m\n\u001b[0;32m---> 16\u001b[0;31m     \u001b[0mprint\u001b[0m\u001b[0;34m(\u001b[0m\u001b[0mself\u001b[0m\u001b[0;34m)\u001b[0m\u001b[0;34m\u001b[0m\u001b[0;34m\u001b[0m\u001b[0m\n\u001b[0m\u001b[1;32m     17\u001b[0m \u001b[0;34m\u001b[0m\u001b[0m\n\u001b[1;32m     18\u001b[0m \u001b[0;31m#  def __init__(self, data, index=None, columns=None, dtype=str,\u001b[0m\u001b[0;34m\u001b[0m\u001b[0;34m\u001b[0m\u001b[0;34m\u001b[0m\u001b[0m\n",
            "\u001b[0;32m/usr/local/lib/python3.6/dist-packages/pandas/core/base.py\u001b[0m in \u001b[0;36m__str__\u001b[0;34m(self)\u001b[0m\n\u001b[1;32m     55\u001b[0m \u001b[0;34m\u001b[0m\u001b[0m\n\u001b[1;32m     56\u001b[0m         \u001b[0;32mif\u001b[0m \u001b[0mcompat\u001b[0m\u001b[0;34m.\u001b[0m\u001b[0mPY3\u001b[0m\u001b[0;34m:\u001b[0m\u001b[0;34m\u001b[0m\u001b[0;34m\u001b[0m\u001b[0m\n\u001b[0;32m---> 57\u001b[0;31m             \u001b[0;32mreturn\u001b[0m \u001b[0mself\u001b[0m\u001b[0;34m.\u001b[0m\u001b[0m__unicode__\u001b[0m\u001b[0;34m(\u001b[0m\u001b[0;34m)\u001b[0m\u001b[0;34m\u001b[0m\u001b[0;34m\u001b[0m\u001b[0m\n\u001b[0m\u001b[1;32m     58\u001b[0m         \u001b[0;32mreturn\u001b[0m \u001b[0mself\u001b[0m\u001b[0;34m.\u001b[0m\u001b[0m__bytes__\u001b[0m\u001b[0;34m(\u001b[0m\u001b[0;34m)\u001b[0m\u001b[0;34m\u001b[0m\u001b[0;34m\u001b[0m\u001b[0m\n\u001b[1;32m     59\u001b[0m \u001b[0;34m\u001b[0m\u001b[0m\n",
            "\u001b[0;32m/usr/local/lib/python3.6/dist-packages/pandas/core/frame.py\u001b[0m in \u001b[0;36m__unicode__\u001b[0;34m(self)\u001b[0m\n\u001b[1;32m    632\u001b[0m             \u001b[0mwidth\u001b[0m \u001b[0;34m=\u001b[0m \u001b[0;32mNone\u001b[0m\u001b[0;34m\u001b[0m\u001b[0;34m\u001b[0m\u001b[0m\n\u001b[1;32m    633\u001b[0m         self.to_string(buf=buf, max_rows=max_rows, max_cols=max_cols,\n\u001b[0;32m--> 634\u001b[0;31m                        line_width=width, show_dimensions=show_dimensions)\n\u001b[0m\u001b[1;32m    635\u001b[0m \u001b[0;34m\u001b[0m\u001b[0m\n\u001b[1;32m    636\u001b[0m         \u001b[0;32mreturn\u001b[0m \u001b[0mbuf\u001b[0m\u001b[0;34m.\u001b[0m\u001b[0mgetvalue\u001b[0m\u001b[0;34m(\u001b[0m\u001b[0;34m)\u001b[0m\u001b[0;34m\u001b[0m\u001b[0;34m\u001b[0m\u001b[0m\n",
            "\u001b[0;32m/usr/local/lib/python3.6/dist-packages/pandas/core/frame.py\u001b[0m in \u001b[0;36mto_string\u001b[0;34m(self, buf, columns, col_space, header, index, na_rep, formatters, float_format, sparsify, index_names, justify, max_rows, max_cols, show_dimensions, decimal, line_width)\u001b[0m\n\u001b[1;32m    718\u001b[0m                                            \u001b[0mshow_dimensions\u001b[0m\u001b[0;34m=\u001b[0m\u001b[0mshow_dimensions\u001b[0m\u001b[0;34m,\u001b[0m\u001b[0;34m\u001b[0m\u001b[0;34m\u001b[0m\u001b[0m\n\u001b[1;32m    719\u001b[0m                                            \u001b[0mdecimal\u001b[0m\u001b[0;34m=\u001b[0m\u001b[0mdecimal\u001b[0m\u001b[0;34m,\u001b[0m\u001b[0;34m\u001b[0m\u001b[0;34m\u001b[0m\u001b[0m\n\u001b[0;32m--> 720\u001b[0;31m                                            line_width=line_width)\n\u001b[0m\u001b[1;32m    721\u001b[0m         \u001b[0mformatter\u001b[0m\u001b[0;34m.\u001b[0m\u001b[0mto_string\u001b[0m\u001b[0;34m(\u001b[0m\u001b[0;34m)\u001b[0m\u001b[0;34m\u001b[0m\u001b[0;34m\u001b[0m\u001b[0m\n\u001b[1;32m    722\u001b[0m \u001b[0;34m\u001b[0m\u001b[0m\n",
            "\u001b[0;32m/usr/local/lib/python3.6/dist-packages/pandas/io/formats/format.py\u001b[0m in \u001b[0;36m__init__\u001b[0;34m(self, frame, buf, columns, col_space, header, index, na_rep, formatters, justify, float_format, sparsify, index_names, line_width, max_rows, max_cols, show_dimensions, decimal, table_id, render_links, **kwds)\u001b[0m\n\u001b[1;32m    408\u001b[0m         \u001b[0mself\u001b[0m\u001b[0;34m.\u001b[0m\u001b[0mmax_cols\u001b[0m \u001b[0;34m=\u001b[0m \u001b[0mmax_cols\u001b[0m\u001b[0;34m\u001b[0m\u001b[0;34m\u001b[0m\u001b[0m\n\u001b[1;32m    409\u001b[0m         self.max_rows_displayed = min(max_rows or len(self.frame),\n\u001b[0;32m--> 410\u001b[0;31m                                       len(self.frame))\n\u001b[0m\u001b[1;32m    411\u001b[0m         \u001b[0mself\u001b[0m\u001b[0;34m.\u001b[0m\u001b[0mshow_dimensions\u001b[0m \u001b[0;34m=\u001b[0m \u001b[0mshow_dimensions\u001b[0m\u001b[0;34m\u001b[0m\u001b[0;34m\u001b[0m\u001b[0m\n\u001b[1;32m    412\u001b[0m         \u001b[0mself\u001b[0m\u001b[0;34m.\u001b[0m\u001b[0mtable_id\u001b[0m \u001b[0;34m=\u001b[0m \u001b[0mtable_id\u001b[0m\u001b[0;34m\u001b[0m\u001b[0;34m\u001b[0m\u001b[0m\n",
            "\u001b[0;32m/usr/local/lib/python3.6/dist-packages/pandas/core/frame.py\u001b[0m in \u001b[0;36m__len__\u001b[0;34m(self)\u001b[0m\n\u001b[1;32m    939\u001b[0m         \u001b[0mReturns\u001b[0m \u001b[0mlength\u001b[0m \u001b[0mof\u001b[0m \u001b[0minfo\u001b[0m \u001b[0maxis\u001b[0m\u001b[0;34m,\u001b[0m \u001b[0mbut\u001b[0m \u001b[0mhere\u001b[0m \u001b[0mwe\u001b[0m \u001b[0muse\u001b[0m \u001b[0mthe\u001b[0m \u001b[0mindex\u001b[0m\u001b[0;34m.\u001b[0m\u001b[0;34m\u001b[0m\u001b[0;34m\u001b[0m\u001b[0m\n\u001b[1;32m    940\u001b[0m         \"\"\"\n\u001b[0;32m--> 941\u001b[0;31m         \u001b[0;32mreturn\u001b[0m \u001b[0mlen\u001b[0m\u001b[0;34m(\u001b[0m\u001b[0mself\u001b[0m\u001b[0;34m.\u001b[0m\u001b[0mindex\u001b[0m\u001b[0;34m)\u001b[0m\u001b[0;34m\u001b[0m\u001b[0;34m\u001b[0m\u001b[0m\n\u001b[0m\u001b[1;32m    942\u001b[0m \u001b[0;34m\u001b[0m\u001b[0m\n\u001b[1;32m    943\u001b[0m     \u001b[0;32mdef\u001b[0m \u001b[0mdot\u001b[0m\u001b[0;34m(\u001b[0m\u001b[0mself\u001b[0m\u001b[0;34m,\u001b[0m \u001b[0mother\u001b[0m\u001b[0;34m)\u001b[0m\u001b[0;34m:\u001b[0m\u001b[0;34m\u001b[0m\u001b[0;34m\u001b[0m\u001b[0m\n",
            "\u001b[0;32m/usr/local/lib/python3.6/dist-packages/pandas/core/generic.py\u001b[0m in \u001b[0;36m__getattr__\u001b[0;34m(self, name)\u001b[0m\n\u001b[1;32m   5061\u001b[0m         if (name in self._internal_names_set or name in self._metadata or\n\u001b[1;32m   5062\u001b[0m                 name in self._accessors):\n\u001b[0;32m-> 5063\u001b[0;31m             \u001b[0;32mreturn\u001b[0m \u001b[0mobject\u001b[0m\u001b[0;34m.\u001b[0m\u001b[0m__getattribute__\u001b[0m\u001b[0;34m(\u001b[0m\u001b[0mself\u001b[0m\u001b[0;34m,\u001b[0m \u001b[0mname\u001b[0m\u001b[0;34m)\u001b[0m\u001b[0;34m\u001b[0m\u001b[0;34m\u001b[0m\u001b[0m\n\u001b[0m\u001b[1;32m   5064\u001b[0m         \u001b[0;32melse\u001b[0m\u001b[0;34m:\u001b[0m\u001b[0;34m\u001b[0m\u001b[0;34m\u001b[0m\u001b[0m\n\u001b[1;32m   5065\u001b[0m             \u001b[0;32mif\u001b[0m \u001b[0mself\u001b[0m\u001b[0;34m.\u001b[0m\u001b[0m_info_axis\u001b[0m\u001b[0;34m.\u001b[0m\u001b[0m_can_hold_identifiers_and_holds_name\u001b[0m\u001b[0;34m(\u001b[0m\u001b[0mname\u001b[0m\u001b[0;34m)\u001b[0m\u001b[0;34m:\u001b[0m\u001b[0;34m\u001b[0m\u001b[0;34m\u001b[0m\u001b[0m\n",
            "\u001b[0;32mpandas/_libs/properties.pyx\u001b[0m in \u001b[0;36mpandas._libs.properties.AxisProperty.__get__\u001b[0;34m()\u001b[0m\n",
            "\u001b[0;32m/usr/local/lib/python3.6/dist-packages/pandas/core/generic.py\u001b[0m in \u001b[0;36m__getattr__\u001b[0;34m(self, name)\u001b[0m\n\u001b[1;32m   5061\u001b[0m         if (name in self._internal_names_set or name in self._metadata or\n\u001b[1;32m   5062\u001b[0m                 name in self._accessors):\n\u001b[0;32m-> 5063\u001b[0;31m             \u001b[0;32mreturn\u001b[0m \u001b[0mobject\u001b[0m\u001b[0;34m.\u001b[0m\u001b[0m__getattribute__\u001b[0m\u001b[0;34m(\u001b[0m\u001b[0mself\u001b[0m\u001b[0;34m,\u001b[0m \u001b[0mname\u001b[0m\u001b[0;34m)\u001b[0m\u001b[0;34m\u001b[0m\u001b[0;34m\u001b[0m\u001b[0m\n\u001b[0m\u001b[1;32m   5064\u001b[0m         \u001b[0;32melse\u001b[0m\u001b[0;34m:\u001b[0m\u001b[0;34m\u001b[0m\u001b[0;34m\u001b[0m\u001b[0m\n\u001b[1;32m   5065\u001b[0m             \u001b[0;32mif\u001b[0m \u001b[0mself\u001b[0m\u001b[0;34m.\u001b[0m\u001b[0m_info_axis\u001b[0m\u001b[0;34m.\u001b[0m\u001b[0m_can_hold_identifiers_and_holds_name\u001b[0m\u001b[0;34m(\u001b[0m\u001b[0mname\u001b[0m\u001b[0;34m)\u001b[0m\u001b[0;34m:\u001b[0m\u001b[0;34m\u001b[0m\u001b[0;34m\u001b[0m\u001b[0m\n",
            "\u001b[0;31mAttributeError\u001b[0m: 'MutantDataSet' object has no attribute '_data'"
          ]
        }
      ]
    },
    {
      "cell_type": "markdown",
      "metadata": {
        "id": "aWF10QRlzI61",
        "colab_type": "text"
      },
      "source": [
        "###Final"
      ]
    },
    {
      "cell_type": "markdown",
      "metadata": {
        "id": "GAKRLz6oTCt3",
        "colab_type": "text"
      },
      "source": [
        "for unknown reasons \n",
        "\n",
        "```skempi['Temperature'].fillna(value=298, inplace=True)```\n",
        "\n",
        "introduces knew changes outside on nan values\n",
        "\n",
        "it may be reasonable to add **Temperature** to the **dropna_lst**"
      ]
    },
    {
      "cell_type": "code",
      "metadata": {
        "id": "mWYvXsoIzIrL",
        "colab_type": "code",
        "colab": {
          "base_uri": "https://localhost:8080/",
          "height": 34
        },
        "outputId": "3fd10288-fa1c-4247-c852-baa18bd4f89a"
      },
      "source": [
        "def ChainCheck(df):\n",
        "    '''\n",
        "    No idea what is happening here, too many if's to think about atm...\n",
        "    should be method, but not working... i'figure it out later\n",
        "    '''\n",
        "    if df['NumMutations'] == 1:\n",
        "      crossChain = False\n",
        "      return crossChain\n",
        "    else:\n",
        "      Chain = df['MutSplit'][0][1]\n",
        "      if Chain in df['Prot1Chain']:\n",
        "        ChainSet = df['Prot1Chain']\n",
        "      elif Chain in df['Prot2Chain']:\n",
        "        ChainSet = df['Prot2Chain']\n",
        "      for i in range(len(df['MutSplit'])):\n",
        "        Chain = df['MutSplit'][i][1]\n",
        "        if Chain in ChainSet:\n",
        "          crossChain = False\n",
        "        else:\n",
        "          crossChain = True\n",
        "          break\n",
        "    return crossChain\n",
        "\n",
        "class MutantDataSet(pd.DataFrame):\n",
        "  '''\n",
        "  Subclassed Pandsas DataFrame\n",
        "  \n",
        "  Not sure what to think yet....\n",
        "  '''\n",
        "  def __init__(self, data, sep=',', index=None, columns=None, dtype=None, \n",
        "               copy=True,):\n",
        "    '''Initialize subclass from DataFrame instance or csv path.'''\n",
        "    if type(data)==str:\n",
        "      data=pd.read_csv(data, sep=sep)\n",
        "    super(MutantDataSet, self).__init__(data=data,\n",
        "                                        index=index,\n",
        "                                        columns=columns,\n",
        "                                        dtype=dtype,\n",
        "                                        copy=copy)\n",
        "\n",
        "  def Mutations(self, row):\n",
        "    '''Returns dictionary of mutation identifiers.'''\n",
        "    keys = ['initAA', 'chain', 'loc', 'mutAA']  # code key\n",
        "    mut_codes = self.loc[row]['Mutation(s)_cleaned'].split(',')\n",
        "    unzip_code = zip(*[re.findall('(\\d+|.)', mut) for mut in mut_codes])\n",
        "    mut_dct = dict(zip(keys, unzip_code))\n",
        "    return mut_dct\n",
        "  \n",
        "  def to_numeric(self, keys):\n",
        "    '''\n",
        "    converts column of single or list of keys to numeric values\n",
        "    '''\n",
        "    self[keys] = self[keys].apply(pd.to_numeric, errors='coerce')\n",
        "    return self[keys]\n",
        "  \n",
        "  def gibbsEq(self, Kd_key, tmp_key='Temperature'): \n",
        "    R = 1.9872036e-3  # Ideal Gas Constant in kcal\n",
        "    ΔG = -R * self[tmp_key] * np.log(self[Kd_key]) #log is ln in np\n",
        "    return ΔG\n",
        "  \n",
        "  def solve_ddG(self, wild, mutant, tmp_key='Temperature'):\n",
        "    self['dgWT'] = self.gibbsEq(wild, tmp_key)\n",
        "    self['dgMut'] = self.gibbsEq(mutant, tmp_key)\n",
        "    self['ddG'] = self['dgWT']-self['dgMut']\n",
        "    return self\n",
        "  \n",
        "  def grouped_avg(self, group_keys, avg_key): \n",
        "    '''\n",
        "    rename to grouped_med...\n",
        "    '''\n",
        "    averaged = self.groupby(group_keys)[avg_key].transform('median')\n",
        "    return averaged  # returns series\n",
        "    \n",
        "  def find_cross_chains(self):\n",
        "    self['Prot1Chain'] = self['#Pdb'].str.split('_').str[1]\n",
        "    self['Prot2Chain'] = self['#Pdb'].str.split('_').str[2]\n",
        "    crossChain = self.apply(ChainCheck, axis=1)\n",
        "    return crossChain\n",
        "    \n",
        "  @property\n",
        "  def _constructor(self):\n",
        "    return MutantDataSet # Class Name\n",
        "\n",
        "\n",
        "'''\n",
        "1) clean each dataset to create consistant MutantDataSet's\n",
        "  1a) store indeviduals in ~/data/intermediate \n",
        "2) combine into uniform MutantDataSet \n",
        "  2a) store in ~/data/final  \n",
        "'''\n",
        "\n",
        "#1 – clean skempi\n",
        "def clean_Skempi(path):\n",
        "# Initialize class\n",
        "  skempi = MutantDataSet(path, sep=';')\n",
        "\n",
        "# Convert non-numeric temperature comments to numeric values. Default is 298K \n",
        "  skempi['Temperature'] = skempi['Temperature'].str.extract(r'(\\d+)')\n",
        "  skempi['Temperature'] = skempi.to_numeric('Temperature')\n",
        "  skempi['Temperature'].fillna(value=298, inplace=True) #6665-6668 blank  ### TOGGLE ME ###\n",
        "  \n",
        "# Calculate free energies\n",
        "  dropna_lst = ['Affinity_wt_parsed','Affinity_mut_parsed'] #, 'Temperature']\n",
        "  skempi.dropna(subset=dropna_lst, inplace=True)\n",
        "  skempi = skempi.solve_ddG('Affinity_wt_parsed', 'Affinity_mut_parsed')\n",
        "\n",
        "# Median and duplicate ddG/tmp values\n",
        "  group_keys = ['#Pdb', 'Mutation(s)_PDB']\n",
        "  skempi['ddgMedian'] = skempi.groupby(group_keys)['ddG'].transform('median')\n",
        "  #skempi['ddgMedian'] = skempi.grouped_avg(group_keys, 'ddG')\n",
        "  skempi = skempi.drop_duplicates(subset=[*group_keys,'Temperature'], \n",
        "                                  keep='first', inplace=False)\n",
        "\n",
        "# Flag multiple mutations in the same protein\n",
        "  skempi['MutSplit'] = skempi['Mutation(s)_PDB'].str.split(',')\n",
        "  skempi['NumMutations'] = skempi['MutSplit'].apply(len)\n",
        "\n",
        "# Extract Chains and remove cross chain mutations. \n",
        "  skempi['CrossChain'] = skempi.find_cross_chains()\n",
        "  SKEMPI_SingleSided = skempi[skempi.CrossChain == False]\n",
        "  return SKEMPI_SingleSided\n",
        "\n",
        "skempi_final = clean_Skempi('skempi_v2.0.csv')\n",
        "NumProteins = skempi_final['#Pdb'].nunique()\n",
        "NumMutations = skempi_final['#Pdb'].count()\n",
        "print(\"There are %s unique single sided mutations in %s proteins\" % \n",
        "      (NumMutations, NumProteins))  \n",
        "\n",
        "#1a – store skempi in ~/data/intermediate\n",
        "##skempi_final.to_csv('~/data/intermediate')\n",
        "\n",
        "#1 – clean Other \n",
        "  #other = MutantDataSet('other.csv')\n",
        "  #1a – store Other in ~/data/intermediate\n",
        "\n",
        "\n",
        "#2 – combine \n",
        "  #2a – store in ~/data/final  \n"
      ],
      "execution_count": 100,
      "outputs": [
        {
          "output_type": "stream",
          "text": [
            "There are 5454 unique single sided mutations in 343 proteins\n"
          ],
          "name": "stdout"
        }
      ]
    },
    {
      "cell_type": "code",
      "metadata": {
        "id": "gp0l3P4kXi5I",
        "colab_type": "code",
        "colab": {}
      },
      "source": [
        "#skempi_final[['#Pdb',\t'Mutation(s)_PDB',\t'Mutation(s)_cleaned']]\n",
        "#skempi_final.get(['#Pdb',\t'Mutation(s)_PDB',\t'Mutation(s)_cleaned'])\n",
        "#skempi_final\n",
        "\n",
        "#skempi_final['ddG']\n",
        "skempi_final.ddG"
      ],
      "execution_count": 0,
      "outputs": []
    },
    {
      "cell_type": "markdown",
      "metadata": {
        "id": "tztDpsCNxjvo",
        "colab_type": "text"
      },
      "source": [
        "##Alternative"
      ]
    },
    {
      "cell_type": "markdown",
      "metadata": {
        "id": "F-IETj-ixpHv",
        "colab_type": "text"
      },
      "source": [
        "An alternative is to keep mut-class seperate from initial dataframe. then transfer only required columns \n",
        "\n",
        "I change my mind. its better to just index a list of cols from the output."
      ]
    },
    {
      "cell_type": "markdown",
      "metadata": {
        "id": "SEjc1hW4YtRF",
        "colab_type": "text"
      },
      "source": [
        "#Final Comparison"
      ]
    },
    {
      "cell_type": "markdown",
      "metadata": {
        "id": "-08HicRKfu93",
        "colab_type": "text"
      },
      "source": [
        "Only difference was the recently discovered bug. All checks out!\n",
        "\n",
        "(their index is different due to deletions from the original dataframe)"
      ]
    },
    {
      "cell_type": "code",
      "metadata": {
        "id": "kzGnUnweYv-c",
        "colab_type": "code",
        "colab": {
          "base_uri": "https://localhost:8080/",
          "height": 663
        },
        "outputId": "5292df4a-1dc2-482f-bb54-1af04220226b"
      },
      "source": [
        "keylst = ['#Pdb',\n",
        " 'Mutation(s)_PDB',\n",
        " 'Mutation(s)_cleaned',\n",
        " 'iMutation_Location(s)',\n",
        " 'Affinity_mut_parsed',\n",
        " 'Affinity_wt_parsed',\n",
        " 'Reference',\n",
        " 'Protein 1',\n",
        " 'Protein 2',\n",
        " 'Temperature', \n",
        " 'dgWT',\n",
        " 'dgMut',\n",
        " 'ddG',\n",
        " 'ddgMedian',\n",
        " 'MutSplit',\n",
        " 'NumMutations',\n",
        " 'Prot1Chain',\n",
        " 'Prot2Chain',\n",
        " 'CrossChain']\n",
        "  \n",
        "\n",
        "path = 'skempi_v2.0.csv'\n",
        "print('Print Test')\n",
        "#OG\n",
        "OG = SKEMPItoPandas(path).get(keylst)\n",
        "\n",
        "#v1.0\n",
        "v1 = SKEMPItoPandas1(path).get(keylst)\n",
        "\n",
        "#v1.1Final\n",
        "v2 = clean_Skempi(path).get(keylst)\n",
        "NumProteins = v2['#Pdb'].nunique()\n",
        "NumMutations = v2['#Pdb'].count()\n",
        "print(\"There are %s unique single sided mutations in %s proteins\\n\" % \n",
        "      (NumMutations, NumProteins)) \n",
        "\n",
        "print('Equivalency Test')\n",
        "print('\\tToggle df[tmp].fillna(298) in v1.1 to switch equivalence with OG & v1')\n",
        "print('OG==v1?\\n\\t',OG.equals(v1), '– failure due to nan temp bug')\n",
        "print('OG==v1.1?\\n\\t',OG.equals(v2), '– no mutKey, no nan tmp')\n",
        "print('v1==v1.1?\\n\\t',v1.equals(v2), '– may fail as mutkey DNE in v1.1\\n')\n",
        "\n",
        "print('Test index equivalence')\n",
        "print(OG.index.equals(v1.index))\n",
        "print(OG.index.equals(v2.index))\n",
        "print(v1.index.equals(v2.index))\n",
        "print()\n",
        "\n",
        "print('Find Differences')\n",
        "for i in OG.index.values:\n",
        "  a0, a1, a2 = OG['ddgMedian'][i], v1['ddgMedian'][i], v2['ddgMedian'][i]\n",
        "  if a0!=a1 or a0!=a2: # or a1!=a2:\n",
        "    print(i, a0, a1, a2)\n",
        "    print('\\t', OG['#Pdb'][i], v1['#Pdb'][i], v2['#Pdb'][i])\n",
        "    print('\\t', OG.Temperature[i], v1.Temperature[i], v2.Temperature[i])\n",
        "    #x=OG\n",
        "    #print('\\t', f\"-R*{x['Temperature'][i]}*np.log({x['Affinity_wt_parsed'][i]})\")\n",
        "    #print('\\t', f\"-R*{x['Temperature'][i]}*np.log({x['Affinity_mut_parsed'][i]})\")"
      ],
      "execution_count": 101,
      "outputs": [
        {
          "output_type": "stream",
          "text": [
            "Print Test\n",
            "There are 5454 unique single sided mutations in 343 proteins\n",
            "There are 5454 unique single sided mutations in 343 proteins\n",
            "There are 5454 unique single sided mutations in 343 proteins\n",
            "\n",
            "Equivalency Test\n",
            "\tToggle df[tmp].fillna(298) in v1.1 to switch equivalence with OG & v1\n",
            "OG==v1?\n",
            "\t False – failure due to nan temp bug\n",
            "OG==v1.1?\n",
            "\t False – no mutKey, no nan tmp\n",
            "v1==v1.1?\n",
            "\t True – may fail as mutkey DNE in v1.1\n",
            "\n",
            "Test index equivalence\n",
            "True\n",
            "True\n",
            "True\n",
            "\n",
            "Find Differences\n",
            "6472 3.8958503047001924 3.3114853574091185 3.3114853574091185\n",
            "\t 1LFD_A_B 1LFD_A_B 1LFD_A_B\n",
            "\t 310.0 310.0 310.0\n",
            "6493 3.2996884744981614 2.9170490380241167 2.9170490380241167\n",
            "\t 4G0N_A_B 4G0N_A_B 4G0N_A_B\n",
            "\t 308.0 308.0 308.0\n",
            "6665 3.2996884744981614 2.9170490380241167 2.9170490380241167\n",
            "\t 4G0N_A_B 4G0N_A_B 4G0N_A_B\n",
            "\t nan 298.0 298.0\n",
            "6666 nan 2.619152014020517 2.619152014020517\n",
            "\t 1C1Y_A_B 1C1Y_A_B 1C1Y_A_B\n",
            "\t nan 298.0 298.0\n",
            "6667 3.8958503047001924 3.3114853574091185 3.3114853574091185\n",
            "\t 1LFD_A_B 1LFD_A_B 1LFD_A_B\n",
            "\t nan 298.0 298.0\n",
            "6668 nan -0.21121814832220487 -0.21121814832220487\n",
            "\t 1LFD_A_B 1LFD_A_B 1LFD_A_B\n",
            "\t nan 298.0 298.0\n"
          ],
          "name": "stdout"
        }
      ]
    },
    {
      "cell_type": "code",
      "metadata": {
        "id": "2kKmAR-dZFzc",
        "colab_type": "code",
        "colab": {
          "base_uri": "https://localhost:8080/",
          "height": 34
        },
        "outputId": "d147beb9-1871-4b13-e0e9-e65f53f8609f"
      },
      "source": [
        "R = 1.9872036e-3\n",
        "a = -R*298.0*np.log(4.4e-09)\n",
        "b =\t-R*298.0*np.log(3e-11)\n",
        "a-b"
      ],
      "execution_count": 102,
      "outputs": [
        {
          "output_type": "execute_result",
          "data": {
            "text/plain": [
              "-2.9539233176897675"
            ]
          },
          "metadata": {
            "tags": []
          },
          "execution_count": 102
        }
      ]
    },
    {
      "cell_type": "code",
      "metadata": {
        "id": "DsRiCWbFEpeP",
        "colab_type": "code",
        "colab": {
          "base_uri": "https://localhost:8080/",
          "height": 714
        },
        "outputId": "33567bd6-bc02-400f-9fcb-fc2e8423b730"
      },
      "source": [
        "#per col,item comparison\n",
        "init = OG\n",
        "compare = v2\n",
        "\n",
        "keys =['#Pdb',\n",
        " 'Mutation(s)_PDB',\n",
        " 'Mutation(s)_cleaned',\n",
        " 'iMutation_Location(s)',\n",
        " 'Affinity_mut_parsed',\n",
        " 'Affinity_wt_parsed',\n",
        " 'Reference',\n",
        " 'Protein 1',\n",
        " 'Protein 2',\n",
        " 'Temperature', \n",
        " 'dgWT',\n",
        " 'dgMut',\n",
        " 'ddG',\n",
        " 'ddgMedian',\n",
        " 'MutSplit',\n",
        " 'NumMutations',\n",
        " 'Prot1Chain',\n",
        " 'Prot2Chain',\n",
        " 'CrossChain']\n",
        "  \n",
        "for col in keys: #list(init) #nan has weird bool behavior, ignoring bad columns\n",
        "  try:\n",
        "    print(col)\n",
        "    for i, val1, val2 in zip(init.index, init[col], compare[col]):\n",
        "      if val1 != val2:\n",
        "        print(i, val1, val2, init['#Pdb'][i], compare['#Pdb'][i])\n",
        "  except:\n",
        "    pass"
      ],
      "execution_count": 104,
      "outputs": [
        {
          "output_type": "stream",
          "text": [
            "#Pdb\n",
            "Mutation(s)_PDB\n",
            "Mutation(s)_cleaned\n",
            "iMutation_Location(s)\n",
            "Affinity_mut_parsed\n",
            "Affinity_wt_parsed\n",
            "Reference\n",
            "Protein 1\n",
            "Protein 2\n",
            "Temperature\n",
            "6665 nan 298.0 4G0N_A_B 4G0N_A_B\n",
            "6666 nan 298.0 1C1Y_A_B 1C1Y_A_B\n",
            "6667 nan 298.0 1LFD_A_B 1LFD_A_B\n",
            "6668 nan 298.0 1LFD_A_B 1LFD_A_B\n",
            "dgWT\n",
            "6665 nan 10.560402211067585 4G0N_A_B 4G0N_A_B\n",
            "6666 nan 8.073392834256607 1C1Y_A_B 1C1Y_A_B\n",
            "6667 nan 8.181361230354135 1LFD_A_B 1LFD_A_B\n",
            "6668 nan 8.181361230354135 1LFD_A_B 1LFD_A_B\n",
            "dgMut\n",
            "6665 nan 8.025992609517512 4G0N_A_B 4G0N_A_B\n",
            "6666 nan 5.45424082023609 1C1Y_A_B 1C1Y_A_B\n",
            "6667 nan 5.45424082023609 1LFD_A_B 1LFD_A_B\n",
            "6668 nan 8.39257937867634 1LFD_A_B 1LFD_A_B\n",
            "ddG\n",
            "6665 nan 2.534409601550072 4G0N_A_B 4G0N_A_B\n",
            "6666 nan 2.619152014020517 1C1Y_A_B 1C1Y_A_B\n",
            "6667 nan 2.7271204101180446 1LFD_A_B 1LFD_A_B\n",
            "6668 nan -0.21121814832220487 1LFD_A_B 1LFD_A_B\n",
            "ddgMedian\n",
            "6472 3.8958503047001924 3.3114853574091185 1LFD_A_B 1LFD_A_B\n",
            "6493 3.2996884744981614 2.9170490380241167 4G0N_A_B 4G0N_A_B\n",
            "6665 3.2996884744981614 2.9170490380241167 4G0N_A_B 4G0N_A_B\n",
            "6666 nan 2.619152014020517 1C1Y_A_B 1C1Y_A_B\n",
            "6667 3.8958503047001924 3.3114853574091185 1LFD_A_B 1LFD_A_B\n",
            "6668 nan -0.21121814832220487 1LFD_A_B 1LFD_A_B\n",
            "MutSplit\n",
            "NumMutations\n",
            "Prot1Chain\n",
            "Prot2Chain\n",
            "CrossChain\n"
          ],
          "name": "stdout"
        }
      ]
    },
    {
      "cell_type": "markdown",
      "metadata": {
        "id": "cXLKAFKlMTWX",
        "colab_type": "text"
      },
      "source": [
        "#Work"
      ]
    },
    {
      "cell_type": "markdown",
      "metadata": {
        "id": "PIJyBoegMZMQ",
        "colab_type": "text"
      },
      "source": [
        "##Temp formatting"
      ]
    },
    {
      "cell_type": "code",
      "metadata": {
        "id": "T03UpwxXonj7",
        "colab_type": "code",
        "colab": {
          "base_uri": "https://localhost:8080/",
          "height": 368
        },
        "outputId": "2ebc8979-2903-48ae-ffde-229ca0c7f26e"
      },
      "source": [
        "#initialize dataframes\n",
        "SKEMPI_df = pd.read_csv('skempi_v2.0.csv', sep=';')\n",
        "test = SKEMPI_df.copy()\n",
        "\n",
        "print('following entry has nan tmp')\n",
        "print(np.array(SKEMPI_df.iloc[[6665]]), '\\n')\n",
        "\n",
        "\n",
        "'''Origional method'''\n",
        "# Convert non numeric temperature comments to numeric values. Default is 298K \n",
        "ConvertTemp = lambda x: int(re.search(r'\\d+', x)[0] or 298)\n",
        "BadTemps = SKEMPI_df.Temperature.str.isnumeric() == False\n",
        "\n",
        "\n",
        "print(\"nan val tests 'False'? map not applied, thus unaltered\")\n",
        "print(BadTemps.iloc[[6665]], '\\n')\n",
        "\n",
        "SKEMPI_df['Temperature'].loc[BadTemps] = SKEMPI_df['Temperature'].loc[BadTemps].map(ConvertTemp)\n",
        "#SKEMPI_df['Temperature'] = SKEMPI_df['Temperature'].apply(ConvertTemp)\n",
        "SKEMPI_df['Temperature'] = pd.to_numeric(SKEMPI_df['Temperature'], errors='coerce')\n",
        "\n",
        "'''\n",
        "New Method:\n",
        "  -likely a tad slower as regex is applied to all rather than binry mapping\n",
        "  -no error \n",
        "  -handled nan issue\n",
        "'''\n",
        "test['Temperature'] = test['Temperature'].str.extract(r'(\\d+)')\n",
        "test['Temperature'] = pd.to_numeric(test['Temperature'], errors='coerce')\n",
        "test['Temperature'].fillna(298, inplace=True)\n",
        "\n",
        "\n",
        "SKEMPI_df.equals(og)"
      ],
      "execution_count": 35,
      "outputs": [
        {
          "output_type": "stream",
          "text": [
            "following entry has nan tmp\n",
            "[['4G0N_A_B' 'DA38A' 'DA38A' 'COR' nan\n",
            "  '4G0N_A_B,3KUD_A_B,1LFD_A_B,1GUA_A_B,1C1Y_A_B,1K8R_A_B,1HE8_A_B,1E96_A_B'\n",
            "  '1.3E-06' 1.3e-06 '1.8E-08' 1.8e-08 '8636102' 'H-Ras1' 'Raf-RBD' nan\n",
            "  nan nan nan nan nan nan nan nan nan nan nan nan nan 'IAFL' 2]] \n",
            "\n",
            "nan val tests 'False'? map not applied, thus unaltered\n",
            "6665    False\n",
            "Name: Temperature, dtype: bool \n",
            "\n"
          ],
          "name": "stdout"
        },
        {
          "output_type": "error",
          "ename": "NameError",
          "evalue": "ignored",
          "traceback": [
            "\u001b[0;31m---------------------------------------------------------------------------\u001b[0m",
            "\u001b[0;31mNameError\u001b[0m                                 Traceback (most recent call last)",
            "\u001b[0;32m<ipython-input-35-b998700a4c46>\u001b[0m in \u001b[0;36m<module>\u001b[0;34m()\u001b[0m\n\u001b[1;32m     30\u001b[0m \u001b[0;34m\u001b[0m\u001b[0m\n\u001b[1;32m     31\u001b[0m \u001b[0;34m\u001b[0m\u001b[0m\n\u001b[0;32m---> 32\u001b[0;31m \u001b[0mSKEMPI_df\u001b[0m\u001b[0;34m.\u001b[0m\u001b[0mequals\u001b[0m\u001b[0;34m(\u001b[0m\u001b[0mog\u001b[0m\u001b[0;34m)\u001b[0m\u001b[0;34m\u001b[0m\u001b[0;34m\u001b[0m\u001b[0m\n\u001b[0m",
            "\u001b[0;31mNameError\u001b[0m: name 'og' is not defined"
          ]
        }
      ]
    },
    {
      "cell_type": "code",
      "metadata": {
        "id": "cXsGP98m1QEs",
        "colab_type": "code",
        "colab": {
          "base_uri": "https://localhost:8080/",
          "height": 85
        },
        "outputId": "9dbdb857-549f-45bd-8834-48b1f9e86bc6"
      },
      "source": [
        "'''both versions are equal but include nan'''\n",
        "#print(SKEMPI_df['Temperature'].isnull().values.any())\n",
        "\n",
        "#print(SKEMPI_df[SKEMPI_df['Temperature'].isnull()]) #['Temperature'])\n",
        "#print(np.array(SKEMPI_df.iloc[[6665]]))\n",
        "\n",
        "for init, new in zip(SKEMPI_df['Temperature'], test['Temperature']):\n",
        "  if init!=new:\n",
        "    print(init, type(init),':' ,new, type(new))"
      ],
      "execution_count": 266,
      "outputs": [
        {
          "output_type": "stream",
          "text": [
            "nan <class 'float'> : 298.0 <class 'float'>\n",
            "nan <class 'float'> : 298.0 <class 'float'>\n",
            "nan <class 'float'> : 298.0 <class 'float'>\n",
            "nan <class 'float'> : 298.0 <class 'float'>\n"
          ],
          "name": "stdout"
        }
      ]
    },
    {
      "cell_type": "code",
      "metadata": {
        "id": "PjwoL-e168jU",
        "colab_type": "code",
        "colab": {
          "base_uri": "https://localhost:8080/",
          "height": 613
        },
        "outputId": "027a78e1-efda-4026-d182-43b09a39c071"
      },
      "source": [
        "'''strange, i cant reproduce the issue'''\n",
        "df = pd.DataFrame('', index=[0,1,2,3], columns=['A']) #str(np.nan)\n",
        "print('init empty data\\n', df)\n",
        "baddies=df[\"A\"].str.isnumeric() == False\n",
        "print('\\nfind non-numeric', baddies, sep='\\n')\n",
        "print('convert temps', df['A'].loc[baddies].map(ConvertTemp))\n",
        "print(pd.to_numeric(df[\"A\"], errors='coerce'))"
      ],
      "execution_count": 276,
      "outputs": [
        {
          "output_type": "stream",
          "text": [
            "init empty data\n",
            "   A\n",
            "0  \n",
            "1  \n",
            "2  \n",
            "3  \n",
            "\n",
            "find non-numeric\n",
            "0    True\n",
            "1    True\n",
            "2    True\n",
            "3    True\n",
            "Name: A, dtype: bool\n"
          ],
          "name": "stdout"
        },
        {
          "output_type": "error",
          "ename": "TypeError",
          "evalue": "ignored",
          "traceback": [
            "\u001b[0;31m---------------------------------------------------------------------------\u001b[0m",
            "\u001b[0;31mTypeError\u001b[0m                                 Traceback (most recent call last)",
            "\u001b[0;32m<ipython-input-276-9ab3bac94078>\u001b[0m in \u001b[0;36m<module>\u001b[0;34m()\u001b[0m\n\u001b[1;32m      4\u001b[0m \u001b[0mbaddies\u001b[0m\u001b[0;34m=\u001b[0m\u001b[0mdf\u001b[0m\u001b[0;34m[\u001b[0m\u001b[0;34m\"A\"\u001b[0m\u001b[0;34m]\u001b[0m\u001b[0;34m.\u001b[0m\u001b[0mstr\u001b[0m\u001b[0;34m.\u001b[0m\u001b[0misnumeric\u001b[0m\u001b[0;34m(\u001b[0m\u001b[0;34m)\u001b[0m \u001b[0;34m==\u001b[0m \u001b[0;32mFalse\u001b[0m\u001b[0;34m\u001b[0m\u001b[0;34m\u001b[0m\u001b[0m\n\u001b[1;32m      5\u001b[0m \u001b[0mprint\u001b[0m\u001b[0;34m(\u001b[0m\u001b[0;34m'\\nfind non-numeric'\u001b[0m\u001b[0;34m,\u001b[0m \u001b[0mbaddies\u001b[0m\u001b[0;34m,\u001b[0m \u001b[0msep\u001b[0m\u001b[0;34m=\u001b[0m\u001b[0;34m'\\n'\u001b[0m\u001b[0;34m)\u001b[0m\u001b[0;34m\u001b[0m\u001b[0;34m\u001b[0m\u001b[0m\n\u001b[0;32m----> 6\u001b[0;31m \u001b[0mprint\u001b[0m\u001b[0;34m(\u001b[0m\u001b[0;34m'convert temps'\u001b[0m\u001b[0;34m,\u001b[0m \u001b[0mdf\u001b[0m\u001b[0;34m[\u001b[0m\u001b[0;34m'A'\u001b[0m\u001b[0;34m]\u001b[0m\u001b[0;34m.\u001b[0m\u001b[0mloc\u001b[0m\u001b[0;34m[\u001b[0m\u001b[0mbaddies\u001b[0m\u001b[0;34m]\u001b[0m\u001b[0;34m.\u001b[0m\u001b[0mmap\u001b[0m\u001b[0;34m(\u001b[0m\u001b[0mConvertTemp\u001b[0m\u001b[0;34m)\u001b[0m\u001b[0;34m)\u001b[0m\u001b[0;34m\u001b[0m\u001b[0;34m\u001b[0m\u001b[0m\n\u001b[0m\u001b[1;32m      7\u001b[0m \u001b[0mprint\u001b[0m\u001b[0;34m(\u001b[0m\u001b[0mpd\u001b[0m\u001b[0;34m.\u001b[0m\u001b[0mto_numeric\u001b[0m\u001b[0;34m(\u001b[0m\u001b[0mdf\u001b[0m\u001b[0;34m[\u001b[0m\u001b[0;34m\"A\"\u001b[0m\u001b[0;34m]\u001b[0m\u001b[0;34m,\u001b[0m \u001b[0merrors\u001b[0m\u001b[0;34m=\u001b[0m\u001b[0;34m'coerce'\u001b[0m\u001b[0;34m)\u001b[0m\u001b[0;34m)\u001b[0m\u001b[0;34m\u001b[0m\u001b[0;34m\u001b[0m\u001b[0m\n",
            "\u001b[0;32m/usr/local/lib/python3.6/dist-packages/pandas/core/series.py\u001b[0m in \u001b[0;36mmap\u001b[0;34m(self, arg, na_action)\u001b[0m\n\u001b[1;32m   3380\u001b[0m         \"\"\"\n\u001b[1;32m   3381\u001b[0m         new_values = super(Series, self)._map_values(\n\u001b[0;32m-> 3382\u001b[0;31m             arg, na_action=na_action)\n\u001b[0m\u001b[1;32m   3383\u001b[0m         return self._constructor(new_values,\n\u001b[1;32m   3384\u001b[0m                                  index=self.index).__finalize__(self)\n",
            "\u001b[0;32m/usr/local/lib/python3.6/dist-packages/pandas/core/base.py\u001b[0m in \u001b[0;36m_map_values\u001b[0;34m(self, mapper, na_action)\u001b[0m\n\u001b[1;32m   1216\u001b[0m \u001b[0;34m\u001b[0m\u001b[0m\n\u001b[1;32m   1217\u001b[0m         \u001b[0;31m# mapper is a function\u001b[0m\u001b[0;34m\u001b[0m\u001b[0;34m\u001b[0m\u001b[0;34m\u001b[0m\u001b[0m\n\u001b[0;32m-> 1218\u001b[0;31m         \u001b[0mnew_values\u001b[0m \u001b[0;34m=\u001b[0m \u001b[0mmap_f\u001b[0m\u001b[0;34m(\u001b[0m\u001b[0mvalues\u001b[0m\u001b[0;34m,\u001b[0m \u001b[0mmapper\u001b[0m\u001b[0;34m)\u001b[0m\u001b[0;34m\u001b[0m\u001b[0;34m\u001b[0m\u001b[0m\n\u001b[0m\u001b[1;32m   1219\u001b[0m \u001b[0;34m\u001b[0m\u001b[0m\n\u001b[1;32m   1220\u001b[0m         \u001b[0;32mreturn\u001b[0m \u001b[0mnew_values\u001b[0m\u001b[0;34m\u001b[0m\u001b[0;34m\u001b[0m\u001b[0m\n",
            "\u001b[0;32mpandas/_libs/lib.pyx\u001b[0m in \u001b[0;36mpandas._libs.lib.map_infer\u001b[0;34m()\u001b[0m\n",
            "\u001b[0;32m<ipython-input-269-08a8bb36ac1f>\u001b[0m in \u001b[0;36m<lambda>\u001b[0;34m(x)\u001b[0m\n\u001b[1;32m      8\u001b[0m \u001b[0;34m'''Origional method'''\u001b[0m\u001b[0;34m\u001b[0m\u001b[0;34m\u001b[0m\u001b[0m\n\u001b[1;32m      9\u001b[0m \u001b[0;31m# Convert non numeric temperature comments to numeric values. Default is 298K\u001b[0m\u001b[0;34m\u001b[0m\u001b[0;34m\u001b[0m\u001b[0;34m\u001b[0m\u001b[0m\n\u001b[0;32m---> 10\u001b[0;31m \u001b[0mConvertTemp\u001b[0m \u001b[0;34m=\u001b[0m \u001b[0;32mlambda\u001b[0m \u001b[0mx\u001b[0m\u001b[0;34m:\u001b[0m \u001b[0mint\u001b[0m\u001b[0;34m(\u001b[0m\u001b[0mre\u001b[0m\u001b[0;34m.\u001b[0m\u001b[0msearch\u001b[0m\u001b[0;34m(\u001b[0m\u001b[0;34mr'\\d+'\u001b[0m\u001b[0;34m,\u001b[0m \u001b[0mx\u001b[0m\u001b[0;34m)\u001b[0m\u001b[0;34m[\u001b[0m\u001b[0;36m0\u001b[0m\u001b[0;34m]\u001b[0m \u001b[0;32mor\u001b[0m \u001b[0;36m298\u001b[0m\u001b[0;34m)\u001b[0m\u001b[0;34m\u001b[0m\u001b[0;34m\u001b[0m\u001b[0m\n\u001b[0m\u001b[1;32m     11\u001b[0m \u001b[0mBadTemps\u001b[0m \u001b[0;34m=\u001b[0m \u001b[0mSKEMPI_df\u001b[0m\u001b[0;34m.\u001b[0m\u001b[0mTemperature\u001b[0m\u001b[0;34m.\u001b[0m\u001b[0mstr\u001b[0m\u001b[0;34m.\u001b[0m\u001b[0misnumeric\u001b[0m\u001b[0;34m(\u001b[0m\u001b[0;34m)\u001b[0m \u001b[0;34m==\u001b[0m \u001b[0;32mFalse\u001b[0m\u001b[0;34m\u001b[0m\u001b[0;34m\u001b[0m\u001b[0m\n\u001b[1;32m     12\u001b[0m \u001b[0;34m\u001b[0m\u001b[0m\n",
            "\u001b[0;31mTypeError\u001b[0m: 'NoneType' object is not subscriptable"
          ]
        }
      ]
    },
    {
      "cell_type": "code",
      "metadata": {
        "id": "B87XJpu6NvEz",
        "colab_type": "code",
        "colab": {
          "base_uri": "https://localhost:8080/",
          "height": 153
        },
        "outputId": "62f5367c-bd5e-4526-bbf0-f8bf847194ec"
      },
      "source": [
        "test['Temperature'][6663:6670]"
      ],
      "execution_count": 278,
      "outputs": [
        {
          "output_type": "execute_result",
          "data": {
            "text/plain": [
              "6663    273.0\n",
              "6664    273.0\n",
              "6665    298.0\n",
              "6666    298.0\n",
              "6667    298.0\n",
              "6668    298.0\n",
              "6669    298.0\n",
              "Name: Temperature, dtype: float64"
            ]
          },
          "metadata": {
            "tags": []
          },
          "execution_count": 278
        }
      ]
    },
    {
      "cell_type": "markdown",
      "metadata": {
        "id": "MntAtFnaVIJj",
        "colab_type": "text"
      },
      "source": [
        "##other"
      ]
    },
    {
      "cell_type": "code",
      "metadata": {
        "id": "grZrc0dzVJOl",
        "colab_type": "code",
        "colab": {
          "base_uri": "https://localhost:8080/",
          "height": 561
        },
        "outputId": "85ea91f8-5824-4410-ef2a-2d62da2e02bc"
      },
      "source": [
        "SKEMPI_df['NumMutations'] = SKEMPI_df['Mutation(s)_PDB'].str.count(',')+1 \n",
        "\n",
        "largest = [0,0]\n",
        "for i,str_lst in enumerate(SKEMPI_df['Mutation(s)_PDB']):\n",
        "  lst=str_lst.split(',')\n",
        "  split_len = len(lst)\n",
        "  camma_len = SKEMPI_df['NumMutations'][i]\n",
        "  if split_len != camma_len:\n",
        "    print(i,lst, SKEMPI_df['NumMutations'][i], SKEMPI_df['Mutation(s)_PDB'][i], str_lst)\n",
        "    pass\n",
        "  longest = max(len(el) for el in lst)\n",
        "  if longest>largest[0]:\n",
        "    largest=[longest,i]\n",
        "  \n",
        "print(largest)\n",
        "print(SKEMPI_df.loc[largest[1]])"
      ],
      "execution_count": 309,
      "outputs": [
        {
          "output_type": "stream",
          "text": [
            "[7, 329]\n",
            "#Pdb                                    1DVF_AB_CD\n",
            "Mutation(s)_PDB                            RD100bA\n",
            "Mutation(s)_cleaned                         RD106A\n",
            "iMutation_Location(s)                          COR\n",
            "Hold_out_type                                AB/AG\n",
            "Hold_out_proteins                            AB/AG\n",
            "Affinity_mut (M)                          1.08E-05\n",
            "Affinity_mut_parsed                       1.08e-05\n",
            "Affinity_wt (M)                           1.08E-08\n",
            "Affinity_wt_parsed                        1.08e-08\n",
            "Reference                                  8993317\n",
            "Protein 1                       IgG1-kappa D1.3 Fv\n",
            "Protein 2                                  E5.2 Fv\n",
            "Temperature                                    298\n",
            "kon_mut (M^(-1)s^(-1))                         NaN\n",
            "kon_mut_parsed                                 NaN\n",
            "kon_wt (M^(-1)s^(-1))                          NaN\n",
            "kon_wt_parsed                                  NaN\n",
            "koff_mut (s^(-1))                              NaN\n",
            "koff_mut_parsed                                NaN\n",
            "koff_wt (s^(-1))                               NaN\n",
            "koff_wt_parsed                                 NaN\n",
            "dH_mut (kcal mol^(-1))                         NaN\n",
            "dH_wt (kcal mol^(-1))                          NaN\n",
            "dS_mut (cal mol^(-1) K^(-1))                   NaN\n",
            "dS_wt (cal mol^(-1) K^(-1))                    NaN\n",
            "Notes                                          NaN\n",
            "Method                                         SPR\n",
            "SKEMPI version                                   1\n",
            "NumMutations                                     1\n",
            "Name: 329, dtype: object\n"
          ],
          "name": "stdout"
        }
      ]
    },
    {
      "cell_type": "markdown",
      "metadata": {
        "id": "iVCZM_HWf9VT",
        "colab_type": "text"
      },
      "source": [
        "##why didnt this work???"
      ]
    },
    {
      "cell_type": "markdown",
      "metadata": {
        "id": "ITOe4k6RmHVG",
        "colab_type": "text"
      },
      "source": [
        "OG version my have error. when grouping + avg is commented out on my version they test as equivalent. \n",
        "```\n",
        "#skempi['ddG'] = skempi.groupby(group_keys)['ddG'].transform('median')\n",
        "\n",
        "skempi = skempi.drop_duplicates(subset=['#Pdb', 'Mutation(s)_PDB', 'Temperature'], keep='first', inplace=False)\n",
        "```\n",
        "EDIT: I didnt realize it OG was getting stored to ddgMedian. i was comparing it to before the averaging, hence commenting out my averageing step tested as equal. \n",
        "\n",
        "**testing ddgMedian to my overwritten ddG passes. Both are correct.**"
      ]
    },
    {
      "cell_type": "code",
      "metadata": {
        "id": "KZMm-vdBhRFx",
        "colab_type": "code",
        "colab": {
          "base_uri": "https://localhost:8080/",
          "height": 34
        },
        "outputId": "044ce65e-0d5a-4601-8960-cec459388b66"
      },
      "source": [
        "def ChainCheck(df):\n",
        "        if df['NumMutations'] == 1:\n",
        "            CrossChain = False\n",
        "            return CrossChain\n",
        "        else:\n",
        "            Chain = df['MutSplit'][0][1]\n",
        "            if Chain in df['Prot1Chain']:\n",
        "                ChainSet = df['Prot1Chain']\n",
        "            elif Chain in df['Prot2Chain']:\n",
        "                ChainSet = df['Prot2Chain']\n",
        "            for i in range(len(df['MutSplit'])):\n",
        "                Chain = df['MutSplit'][i][1]\n",
        "                if Chain in ChainSet:\n",
        "                    CrossChain = False\n",
        "                else:\n",
        "                    CrossChain = True\n",
        "                    break\n",
        "        return CrossChain\n",
        "\n",
        "def gibbsEq(Kd, tmp):\n",
        "  R = 1.9872036e-3  # Ideal Gas Constant in kcal\n",
        "  ΔG = -R * tmp * np.log(Kd) #log is ln in np\n",
        "  return ΔG\n",
        "\n",
        "#v1.0 function exploded\n",
        "'''\n",
        "Purpose:\n",
        "    1. Loads SKEMPI CSV file.\n",
        "    2. Calculates ddG\n",
        "    3. For multiple measurements, keeps the median value\n",
        "    4. Eliminates entries with mutations on both sides of the interface\n",
        "Input:\n",
        "    SKEMPI_loc : Location of SKEMPI CSV file\n",
        "Output:\n",
        "    SKEMPI_df : Pandas dataframe    \n",
        "'''\n",
        "\n",
        "SKEMPI_df = pd.read_csv('skempi_v2.0.csv', sep=';')\n",
        "\n",
        "\n",
        "# Convert non numeric temperature comments to numeric values. \n",
        "# Default is 298K \n",
        "SKEMPI_df['Temperature'] = SKEMPI_df['Temperature'].str.extract(r'(\\d+)')\n",
        "SKEMPI_df['Temperature'] = pd.to_numeric(SKEMPI_df['Temperature'], \n",
        "                                         errors='coerce')\n",
        "SKEMPI_df['Temperature'].fillna(298, inplace=True)\n",
        "\n",
        "# Drop missing values\n",
        "SKEMPI_df.dropna(subset=['Affinity_wt_parsed'], inplace=True)\n",
        "SKEMPI_df.dropna(subset=['Affinity_mut_parsed'], inplace=True)\n",
        "\n",
        "# Calculate free energies\n",
        "SKEMPI_df['dgWT'] = gibbsEq(SKEMPI_df['Affinity_wt_parsed'], \n",
        "                            SKEMPI_df['Temperature'])\n",
        "SKEMPI_df['dgMut'] = gibbsEq(SKEMPI_df['Affinity_mut_parsed'], \n",
        "                             SKEMPI_df['Temperature'])\n",
        "SKEMPI_df['ddG'] = SKEMPI_df['dgWT']-SKEMPI_df['dgMut']\n",
        "\n",
        "################################################################################\n",
        "# initialize diplucate\n",
        "skempi=SKEMPI_df\n",
        "\n",
        "# OG version\n",
        "SKEMPI_df['MutKey'] = SKEMPI_df['#Pdb']+'_'+SKEMPI_df['Mutation(s)_PDB']\n",
        "SKEMPI_df['ddgMedian'] = SKEMPI_df.groupby('MutKey')['ddG'].transform('median')        \n",
        "SKEMPI_df = SKEMPI_df.drop_duplicates(subset=['MutKey', 'Temperature'], \n",
        "                                      keep='first', inplace=False)   \n",
        "\n",
        "def grouped_avg(df, group_keys, avg_key):\n",
        "  '''\n",
        "  DANGEROUS! not sure if median value will be returned to correct indecies\n",
        "  '''\n",
        "  averaged = df.groupby(group_keys)[avg_key].transform('median')\n",
        "  return averaged  # returns series\n",
        "\n",
        "#my version\n",
        "group_keys = ['#Pdb', 'Mutation(s)_PDB']\n",
        "## explicit version\n",
        "#skempi['ddG'] = skempi.groupby(group_keys)['ddG'].transform('median')\n",
        "#skempi = skempi.drop_duplicates(subset=['#Pdb', 'Mutation(s)_PDB', 'Temperature'], keep='first', inplace=False)\n",
        "## condensed version\n",
        "skempi['ddG'] = grouped_avg(skempi, group_keys, 'ddG')\n",
        "skempi = skempi.drop_duplicates(subset=[*group_keys, 'Temperature'], keep='first', inplace=False)\n",
        "\n",
        "print('Find Differences')\n",
        "for i, v in enumerate(zip(SKEMPI_df['ddgMedian'], skempi.ddG)): #'ddgMedian' #'ddG'\n",
        "  if v[0] != v[1]:\n",
        "    print(i, v[0], v[1])"
      ],
      "execution_count": 364,
      "outputs": [
        {
          "output_type": "stream",
          "text": [
            "Find Differences\n"
          ],
          "name": "stdout"
        }
      ]
    },
    {
      "cell_type": "code",
      "metadata": {
        "id": "j7mkLdgBw6k5",
        "colab_type": "code",
        "colab": {
          "base_uri": "https://localhost:8080/",
          "height": 34
        },
        "outputId": "303ed88f-3b02-46c3-d579-5fe4df72dcec"
      },
      "source": [
        "def ChainCheck(df):\n",
        "        if df['NumMutations'] == 1:\n",
        "            CrossChain = False\n",
        "            return CrossChain\n",
        "        else:\n",
        "            Chain = df['MutSplit'][0][1]\n",
        "            if Chain in df['Prot1Chain']:\n",
        "                ChainSet = df['Prot1Chain']\n",
        "            elif Chain in df['Prot2Chain']:\n",
        "                ChainSet = df['Prot2Chain']\n",
        "            for i in range(len(df['MutSplit'])):\n",
        "                Chain = df['MutSplit'][i][1]\n",
        "                if Chain in ChainSet:\n",
        "                    CrossChain = False\n",
        "                else:\n",
        "                    CrossChain = True\n",
        "                    break\n",
        "        return CrossChain\n",
        "\n",
        "def gibbsEq(Kd, tmp):\n",
        "  R = 1.9872036e-3  # Ideal Gas Constant in kcal\n",
        "  ΔG = -R * tmp * np.log(Kd) #log is ln in np\n",
        "  return ΔG\n",
        "\n",
        "#v1.0 function exploded\n",
        "'''\n",
        "Purpose:\n",
        "    1. Loads SKEMPI CSV file.\n",
        "    2. Calculates ddG\n",
        "    3. For multiple measurements, keeps the median value\n",
        "    4. Eliminates entries with mutations on both sides of the interface\n",
        "Input:\n",
        "    SKEMPI_loc : Location of SKEMPI CSV file\n",
        "Output:\n",
        "    SKEMPI_df : Pandas dataframe    \n",
        "'''\n",
        "\n",
        "SKEMPI_df = pd.read_csv('skempi_v2.0.csv', sep=';')\n",
        "\n",
        "\n",
        "# Convert non numeric temperature comments to numeric values. \n",
        "# Default is 298K \n",
        "SKEMPI_df['Temperature'] = SKEMPI_df['Temperature'].str.extract(r'(\\d+)')\n",
        "SKEMPI_df['Temperature'] = pd.to_numeric(SKEMPI_df['Temperature'], \n",
        "                                         errors='coerce')\n",
        "SKEMPI_df['Temperature'].fillna(298, inplace=True)\n",
        "\n",
        "# Drop missing values\n",
        "SKEMPI_df.dropna(subset=['Affinity_wt_parsed'], inplace=True)\n",
        "SKEMPI_df.dropna(subset=['Affinity_mut_parsed'], inplace=True)\n",
        "\n",
        "################################################################################\n",
        "# initialize diplucate\n",
        "skempi=SKEMPI_df\n",
        "\n",
        "# OG version\n",
        "R = 1.9872036e-3  # Ideal Gas Constant in kcal\n",
        "SKEMPI_df['dgWT'] = -R*SKEMPI_df['Temperature']*np.log(SKEMPI_df['Affinity_wt_parsed'])\n",
        "SKEMPI_df['dgMut'] = -R*SKEMPI_df['Temperature']*np.log(SKEMPI_df['Affinity_mut_parsed'])\n",
        "SKEMPI_df['ddG'] = SKEMPI_df['dgWT']-SKEMPI_df['dgMut']\n",
        "\n",
        "\n",
        "\n",
        "skempi['dgWT'] = gibbsEq(SKEMPI_df['Affinity_wt_parsed'], \n",
        "                            SKEMPI_df['Temperature'])\n",
        "skempi['dgMut'] = gibbsEq(SKEMPI_df['Affinity_mut_parsed'], \n",
        "                             SKEMPI_df['Temperature'])\n",
        "skempi['ddG'] = SKEMPI_df['dgWT']-SKEMPI_df['dgMut']\n",
        "\n",
        "print('Find Differences')\n",
        "for i, v in enumerate(zip(SKEMPI_df.ddG, skempi.ddG)):\n",
        "  if v[0] != v[1]:\n",
        "    print(i, v[0], v[1])"
      ],
      "execution_count": 365,
      "outputs": [
        {
          "output_type": "stream",
          "text": [
            "Find Differences\n"
          ],
          "name": "stdout"
        }
      ]
    },
    {
      "cell_type": "code",
      "metadata": {
        "id": "ckT8CIpt5AT9",
        "colab_type": "code",
        "colab": {
          "base_uri": "https://localhost:8080/",
          "height": 102
        },
        "outputId": "cb66943b-eccf-426c-be33-602247118387"
      },
      "source": [
        "skempi = MutantDataSet('skempi_v2.0.csv', sep=';')\n",
        "\n",
        "######### new version #######\n",
        "# Convert non-numeric temperature comments to numeric values. Default is 298K \n",
        "skempi['Temperature'] = skempi['Temperature'].str.extract(r'(\\d+)')\n",
        "skempi['Temperature'] = skempi.to_numeric('Temperature')\n",
        "skempi['Temperature'].fillna(298, inplace=True) #6665-6668 blank\n",
        "\n",
        "# Drop missing values\n",
        "skempi.dropna(subset=['Affinity_wt_parsed'], inplace=True)\n",
        "skempi.dropna(subset=['Affinity_mut_parsed'], inplace=True)\n",
        "\n",
        "skempi['dgWT'] = -R*skempi['Temperature']*np.log(skempi['Affinity_wt_parsed'])\n",
        "skempi['dgMut'] = -R*skempi['Temperature']*np.log(skempi['Affinity_mut_parsed'])\n",
        "skempi['ddG'] = skempi['dgWT']-skempi['dgMut']\n",
        "\n",
        "\n",
        "######### og version #######\n",
        "og_skempi = MutantDataSet('skempi_v2.0.csv', sep=';')\n",
        "# Convert non-numeric temperature comments to numeric values. Default is 298K \n",
        "og_skempi['Temperature'] = og_skempi['Temperature'].str.extract(r'(\\d+)')\n",
        "og_skempi['Temperature'] = og_skempi.to_numeric('Temperature')\n",
        "#og_skempi['Temperature'].fillna(298, inplace=True) #6665-6668 blank\n",
        "\n",
        "# Drop missing values\n",
        "og_skempi.dropna(subset=['Affinity_wt_parsed'], inplace=True)\n",
        "og_skempi.dropna(subset=['Affinity_mut_parsed'], inplace=True)\n",
        "\n",
        "og_skempi['dgWT'] = -R*og_skempi['Temperature']*np.log(og_skempi['Affinity_wt_parsed'])\n",
        "og_skempi['dgMut'] = -R*og_skempi['Temperature']*np.log(og_skempi['Affinity_mut_parsed'])\n",
        "og_skempi['ddG'] = og_skempi['dgWT']-og_skempi['dgMut']\n",
        "    \n",
        "    \n",
        "print('Find Differences')\n",
        "for i, v in enumerate(zip(og_skempi.ddG, skempi.ddG)):\n",
        "  if v[0]!=v[1]:\n",
        "    try:\n",
        "      print(i, v[0], v[1])\n",
        "    except:\n",
        "      pass"
      ],
      "execution_count": 530,
      "outputs": [
        {
          "output_type": "stream",
          "text": [
            "Find Differences\n",
            "6392 nan 2.534409601550072\n",
            "6393 nan 2.619152014020517\n",
            "6394 nan 2.7271204101180446\n",
            "6395 nan -0.21121814832220487\n"
          ],
          "name": "stdout"
        }
      ]
    }
  ]
}