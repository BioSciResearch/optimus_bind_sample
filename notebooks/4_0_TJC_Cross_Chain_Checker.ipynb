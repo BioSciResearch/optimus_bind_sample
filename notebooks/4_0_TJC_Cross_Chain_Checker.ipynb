{
  "nbformat": 4,
  "nbformat_minor": 0,
  "metadata": {
    "colab": {
      "name": "4.0-TJC-Cross-Chain-Checker.ipynb",
      "version": "0.3.2",
      "provenance": [],
      "collapsed_sections": [],
      "include_colab_link": true
    },
    "kernelspec": {
      "name": "python3",
      "display_name": "Python 3"
    }
  },
  "cells": [
    {
      "cell_type": "markdown",
      "metadata": {
        "id": "view-in-github",
        "colab_type": "text"
      },
      "source": [
        "<a href=\"https://colab.research.google.com/github/tcardlab/optimus_bind_sample/blob/develop/notebooks/4_0_TJC_Cross_Chain_Checker.ipynb\" target=\"_parent\"><img src=\"https://colab.research.google.com/assets/colab-badge.svg\" alt=\"Open In Colab\"/></a>"
      ]
    },
    {
      "cell_type": "code",
      "metadata": {
        "id": "9dDSRAsDjXLG",
        "colab_type": "code",
        "colab": {
          "base_uri": "https://localhost:8080/",
          "height": 204
        },
        "outputId": "ba67a09a-c7fd-4a2f-aa06-94b94155d2c9"
      },
      "source": [
        "import pandas as pd\n",
        "import numpy as np\n",
        "import re\n",
        "\n",
        "csv_link = 'https://life.bsc.es/pid/skempi2/database/download/skempi_v2.csv'\n",
        "!wget $csv_link -O skempi_v2.0.csv #-O to rename\n",
        "skempi = pd.read_csv('skempi_v2.0.csv', sep=';')"
      ],
      "execution_count": 1,
      "outputs": [
        {
          "output_type": "stream",
          "text": [
            "--2019-07-23 06:45:21--  https://life.bsc.es/pid/skempi2/database/download/skempi_v2.csv\n",
            "Resolving life.bsc.es (life.bsc.es)... 84.88.52.107\n",
            "Connecting to life.bsc.es (life.bsc.es)|84.88.52.107|:443... connected.\n",
            "HTTP request sent, awaiting response... 200 OK\n",
            "Length: 1602208 (1.5M) [text/csv]\n",
            "Saving to: ‘skempi_v2.0.csv’\n",
            "\n",
            "skempi_v2.0.csv     100%[===================>]   1.53M   394KB/s    in 5.1s    \n",
            "\n",
            "2019-07-23 06:45:27 (309 KB/s) - ‘skempi_v2.0.csv’ saved [1602208/1602208]\n",
            "\n"
          ],
          "name": "stdout"
        }
      ]
    },
    {
      "cell_type": "markdown",
      "metadata": {
        "id": "BKv19V27jz08",
        "colab_type": "text"
      },
      "source": [
        "#Origional"
      ]
    },
    {
      "cell_type": "code",
      "metadata": {
        "id": "vqmZnBPJV95G",
        "colab_type": "code",
        "outputId": "9d030088-87c9-461a-f928-19fe43114f46",
        "colab": {
          "base_uri": "https://localhost:8080/",
          "height": 34
        }
      },
      "source": [
        "def SKEMPItoPandas(SKEMPI_loc):\n",
        "    #fix this\n",
        "    pd.options.mode.chained_assignment = None  # default='warn'\n",
        "    \n",
        "    #Constants\n",
        "    R=1.9872036e-3 #Ideal Gas Constant in kcal\n",
        "    \n",
        "    SKEMPI_df = pd.read_csv(SKEMPI_loc,sep=';')\n",
        "   \n",
        "    #Convert non numeric temperature comments to numeric values. Default is 298 K \n",
        "    ConvertTemp = lambda x: int(re.search(r'\\d+', x).group(0) or 298)\n",
        "    BadTemps=SKEMPI_df.Temperature.str.isnumeric()==0\n",
        "    SKEMPI_df['Temperature'].loc[BadTemps]=SKEMPI_df['Temperature'].loc[BadTemps].map(ConvertTemp)\n",
        "    SKEMPI_df['Temperature']=pd.to_numeric(SKEMPI_df['Temperature'], errors='coerce')\n",
        "    \n",
        "    #Drop missing values\n",
        "    SKEMPI_df.dropna(subset=['Affinity_wt_parsed'], inplace=True)\n",
        "    SKEMPI_df.dropna(subset=['Affinity_mut_parsed'], inplace=True)\n",
        "    \n",
        "    #Calculate free energies\n",
        "    SKEMPI_df['dgWT']=-R*SKEMPI_df['Temperature']*np.log(SKEMPI_df['Affinity_wt_parsed'])\n",
        "    SKEMPI_df['dgMut']=-R*SKEMPI_df['Temperature']*np.log(SKEMPI_df['Affinity_mut_parsed'])\n",
        "    SKEMPI_df['ddG']=SKEMPI_df['dgWT']-SKEMPI_df['dgMut']\n",
        "    \n",
        "    #Create a key for unique mutations based on PDB and \n",
        "    SKEMPI_df['MutKey']=SKEMPI_df['#Pdb']+'_'+SKEMPI_df['Mutation(s)_PDB']\n",
        "    #Replace multiple measurements of the same mutation with the group mean\n",
        "    #May consider grouping by experimental method as well            \n",
        "    SKEMPI_df['ddgMedian'] = SKEMPI_df.groupby('MutKey')['ddG'].transform('median')        \n",
        "    SKEMPI_df=SKEMPI_df.drop_duplicates(subset=['MutKey','Temperature'], keep='first', inplace=False)\n",
        "    \n",
        "    #Flag multiple mutations in the same protein\n",
        "    SKEMPI_df['NumMutations']=SKEMPI_df['Mutation(s)_PDB'].str.count(',')+1 \n",
        "    \n",
        "    #Extract Chains and remove cross chain mutations. Chain is the second position in the mutation code\n",
        "    SKEMPI_df['Prot1Chain']=SKEMPI_df['#Pdb'].str.split('_').str[1]\n",
        "    SKEMPI_df['Prot2Chain']=SKEMPI_df['#Pdb'].str.split('_').str[2]\n",
        "    SKEMPI_df['MutSplit']=SKEMPI_df['Mutation(s)_PDB'].str.split(',')\n",
        "    def ChainCheck(df):\n",
        "        if df['NumMutations'] == 1:\n",
        "            CrossChain= False\n",
        "            return CrossChain\n",
        "        else:\n",
        "            Chain= df['MutSplit'][0][1]\n",
        "            if Chain in df['Prot1Chain']:\n",
        "                ChainSet=df['Prot1Chain']\n",
        "            elif Chain in df['Prot2Chain']:\n",
        "                ChainSet=df['Prot2Chain']\n",
        "            for i in range(len(df['MutSplit'])):\n",
        "                Chain= df['MutSplit'][i][1]\n",
        "                if Chain in ChainSet:\n",
        "                    CrossChain= False\n",
        "                else:\n",
        "                    CrossChain= True\n",
        "                    break\n",
        "        return CrossChain\n",
        "    SKEMPI_df['CrossChain']=SKEMPI_df.apply(ChainCheck, axis=1)        \n",
        "    SKEMPI_SingleSided=SKEMPI_df[SKEMPI_df.CrossChain == False]        \n",
        "    \n",
        "    NumProteins=SKEMPI_SingleSided['#Pdb'].nunique()\n",
        "    NumMutations=SKEMPI_SingleSided['#Pdb'].count()\n",
        "    print(\"There are %s unique single sided mutations in %s proteins\" % (NumMutations, NumProteins))             \n",
        "    return SKEMPI_SingleSided\n",
        "  \n",
        "skempi_og = SKEMPItoPandas('skempi_v2.0.csv')"
      ],
      "execution_count": 2,
      "outputs": [
        {
          "output_type": "stream",
          "text": [
            "There are 5454 unique single sided mutations in 343 proteins\n"
          ],
          "name": "stdout"
        }
      ]
    },
    {
      "cell_type": "markdown",
      "metadata": {
        "id": "GijcQfovaY91",
        "colab_type": "text"
      },
      "source": [
        "#Rewrite cross chain checker"
      ]
    },
    {
      "cell_type": "code",
      "metadata": {
        "id": "BiiNO1GWk4zx",
        "colab_type": "code",
        "colab": {
          "base_uri": "https://localhost:8080/",
          "height": 68
        },
        "outputId": "eecc2d28-04ee-4fe8-bd58-f5a62f522862"
      },
      "source": [
        "print(set('ABC'))\n",
        "print(bool(set('')))\n",
        "print(bool(set('1')))"
      ],
      "execution_count": 3,
      "outputs": [
        {
          "output_type": "stream",
          "text": [
            "{'C', 'B', 'A'}\n",
            "False\n",
            "True\n"
          ],
          "name": "stdout"
        }
      ]
    },
    {
      "cell_type": "code",
      "metadata": {
        "id": "oXbowdonawjx",
        "colab_type": "code",
        "outputId": "f79bc609-8a81-4c92-d26f-d588659bf0d9",
        "colab": {
          "base_uri": "https://localhost:8080/",
          "height": 51
        }
      },
      "source": [
        "Prot1Chain, Prot2Chain = '1REW_AB_C'.split('_')[1:]    \n",
        "MutSplit = ['DA19A','DB19A']\n",
        "\n",
        "def tester(MutSplit, Prot1Chain, Prot2Chain):\n",
        "  mutated_chains = set(i[1] for i in MutSplit)\n",
        "  prot1, prot2 = set(Prot1Chain), set(Prot2Chain)\n",
        "  print(mutated_chains-prot1, mutated_chains-prot2)\n",
        "  if len(MutSplit) == 1:\n",
        "      # Single mutant cannot be cross-chain\n",
        "      return False\n",
        "  elif bool(mutated_chains-prot1) != bool(mutated_chains-prot2):\n",
        "      # mutations not unique to single protein\n",
        "      return False\n",
        "  else:\n",
        "      # Mutated chains are specific to one protein\n",
        "      return True\n",
        "    \n",
        "tester(MutSplit, Prot1Chain, Prot2Chain)"
      ],
      "execution_count": 4,
      "outputs": [
        {
          "output_type": "stream",
          "text": [
            "set() {'B', 'A'}\n"
          ],
          "name": "stdout"
        },
        {
          "output_type": "execute_result",
          "data": {
            "text/plain": [
              "False"
            ]
          },
          "metadata": {
            "tags": []
          },
          "execution_count": 4
        }
      ]
    },
    {
      "cell_type": "code",
      "metadata": {
        "id": "SHz4GGTRTuY3",
        "colab_type": "code",
        "colab": {}
      },
      "source": [
        "class MutantDataset(pd.DataFrame):\n",
        "    '''<Subclassed Pandsas DataFrame>\n",
        "        Given the potential of multiple sources for mutant datasets,\n",
        "        this calss serves to improve clarity, debugging, and reusability\n",
        "\n",
        "        Needs repr\n",
        "    '''\n",
        "    def __init__(self, data, sep=',', index=None, columns=None, dtype=None,\n",
        "                 copy=True,):\n",
        "        '''Initialize subclass from DataFrame instance or csv path.'''\n",
        "        if type(data) == str:\n",
        "            data = pd.read_csv(data, sep=sep)\n",
        "        super(MutantDataset, self).__init__(data=data,\n",
        "                                            index=index,\n",
        "                                            columns=columns,\n",
        "                                            dtype=dtype,\n",
        "                                            copy=copy)\n",
        "\n",
        "    def Mutations(self, row):\n",
        "        '''Returns dictionary of mutation identifiers.'''\n",
        "        keys = ['initAA', 'chain', 'loc', 'mutAA']  # code key\n",
        "        mut_codes = self.loc[row]['Mutation(s)_cleaned'].split(',')\n",
        "        unzip_code = zip(*[re.findall('(\\d+|.)', mut) for mut in mut_codes])\n",
        "        mut_dct = dict(zip(keys, unzip_code))\n",
        "        return mut_dct\n",
        "\n",
        "    def to_numeric(self, keys):\n",
        "        '''converts column of single or list of keys to numeric'''\n",
        "        self[keys] = self[keys].apply(pd.to_numeric, errors='coerce')\n",
        "        return self[keys]\n",
        "\n",
        "    def gibbsEq(self, Kd_key, tmp_key='Temperature'):\n",
        "        '''Gibbs Free Energy = -R * Temp * ln(kd)'''\n",
        "        R = 1.9872036e-3  # Ideal Gas Constant in kcal\n",
        "        ΔG = -R * self[tmp_key] * np.log(self[Kd_key])  # log is ln in np\n",
        "        return ΔG\n",
        "\n",
        "    def solve_ddG(self, wild, mutant, tmp_key='Temperature'):\n",
        "        '''ddG is the changes in affinity upon mutation:\n",
        "              ddG = dG_Mutant-dG_wild_Type\n",
        "        '''\n",
        "        self['dgWT'] = self.gibbsEq(wild, tmp_key)\n",
        "        self['dgMut'] = self.gibbsEq(mutant, tmp_key)\n",
        "        self['ddG'] = self['dgWT']-self['dgMut']\n",
        "        return self\n",
        "\n",
        "    def _ChainCheck(self, df):\n",
        "        '''Utalizes subtracted sets to identify if\n",
        "           mutated chains are unique to a single protein\n",
        "        '''\n",
        "        mutated_chains = set(i[1] for i in df['MutSplit'])\n",
        "        prot1, prot2 = set(df['Prot1Chain']), set(df['Prot2Chain'])\n",
        "        if df['NumMutations'] == 1 or len(mutated_chains)==1:\n",
        "            # Single mutant is unique to one protien, not cross chain\n",
        "            return False\n",
        "        elif bool(mutated_chains-prot1) != bool(mutated_chains-prot2):\n",
        "            # given bool normalization this functions as xor\n",
        "            # A chain remains after subrtaction,\n",
        "            # mutations not unique to single protein, cross chain\n",
        "            return False\n",
        "        else:\n",
        "            # Mutated chains are specific to one protein\n",
        "            return True\n",
        "\n",
        "    def find_cross_chains(self):\n",
        "        '''checks if mutation occur on more than one protein'''\n",
        "        self['Prot1Chain'] = self['#Pdb'].str.split('_').str[1]\n",
        "        self['Prot2Chain'] = self['#Pdb'].str.split('_').str[2]\n",
        "        crossChain = self.apply(self._ChainCheck, axis=1)\n",
        "        return crossChain\n",
        "\n",
        "    @property\n",
        "    def _constructor(self):\n",
        "        return MutantDataset  # Class Name\n",
        "\n",
        "\n",
        "def Clean_Skempi(path):\n",
        "    '''\n",
        "    Purpose:\n",
        "        1. Loads SKEMPI CSV file.\n",
        "        2. Calculates ddG\n",
        "        3. For multiple measurements, keeps the median value\n",
        "        4. Eliminates entries with mutations on both sides of the interface\n",
        "    Input:\n",
        "        path : Location of SKEMPI CSV file\n",
        "    Output:\n",
        "        SKEMPI_SingleSided : MutantDataset(pd.DataFrame)\n",
        "    Note:\n",
        "        Content and order subject to change with additional datasets.\n",
        "        It is foreseeable that some steps may occur post combination.\n",
        "    '''\n",
        "  # Initialize class\n",
        "    skempi = MutantDataset(path, sep=';')\n",
        "\n",
        "  # Convert 'Temperature' comments/str's to numeric values. Default is 298\n",
        "    skempi['Temperature'] = skempi['Temperature'].str.extract(r'(\\d+)')\n",
        "    skempi['Temperature'] = skempi.to_numeric('Temperature')\n",
        "    skempi['Temperature'].fillna(value=298, inplace=True)  # 6665-6668 blank\n",
        "\n",
        "  # Calculate free energies\n",
        "    dropna_lst = ['Affinity_wt_parsed', 'Affinity_mut_parsed']\n",
        "    skempi.dropna(subset=dropna_lst, inplace=True)\n",
        "    skempi = skempi.solve_ddG('Affinity_wt_parsed', 'Affinity_mut_parsed')\n",
        "\n",
        "  # Median and duplicate ddG/tmp values\n",
        "    group_keys = ['#Pdb', 'Mutation(s)_PDB']\n",
        "    skempi['ddgMedian'] = skempi.groupby(group_keys)['ddG'].transform('median')\n",
        "    skempi = skempi.drop_duplicates(subset=[*group_keys, 'Temperature'],\n",
        "                                    keep='first', inplace=False)\n",
        "\n",
        "  # Flag multiple mutations in the same protein\n",
        "    skempi['MutSplit'] = skempi['Mutation(s)_PDB'].str.split(',')\n",
        "    skempi['NumMutations'] = skempi['MutSplit'].apply(len)\n",
        "\n",
        "  # Extract Chains and remove cross chain mutations.\n",
        "    skempi['CrossChain'] = skempi.find_cross_chains()\n",
        "    SKEMPI_SingleSided = skempi[skempi.CrossChain == False]\n",
        "    return SKEMPI_SingleSided\n"
      ],
      "execution_count": 0,
      "outputs": []
    },
    {
      "cell_type": "code",
      "metadata": {
        "id": "GCkUhGXRUNkG",
        "colab_type": "code",
        "outputId": "ce007168-5906-4650-a91e-73f12cf94cdd",
        "colab": {
          "base_uri": "https://localhost:8080/",
          "height": 34
        }
      },
      "source": [
        "skempi_final = Clean_Skempi('skempi_v2.0.csv')\n",
        "NumProteins = skempi_final['#Pdb'].nunique()\n",
        "NumMutations = skempi_final['#Pdb'].count()\n",
        "print(f'There are {NumMutations} unique single sided'\n",
        "      f'mutations in {NumProteins} proteins')"
      ],
      "execution_count": 6,
      "outputs": [
        {
          "output_type": "stream",
          "text": [
            "There are 5454 unique single sidedmutations in 343 proteins\n"
          ],
          "name": "stdout"
        }
      ]
    },
    {
      "cell_type": "markdown",
      "metadata": {
        "id": "AzK31z3ZkRLR",
        "colab_type": "text"
      },
      "source": [
        "All checks out, outputs match on a per index basis"
      ]
    },
    {
      "cell_type": "code",
      "metadata": {
        "id": "udcDH1Ooky8-",
        "colab_type": "code",
        "colab": {
          "base_uri": "https://localhost:8080/",
          "height": 34
        },
        "outputId": "03c74442-09b4-4f34-d96e-8622a1953b73"
      },
      "source": [
        "for i in skempi.index.tolist():\n",
        "  try:\n",
        "    og = skempi_og['CrossChain'][i]\n",
        "  except:\n",
        "    og = ''\n",
        "  try:\n",
        "    new = skempi_final['CrossChain'][i]\n",
        "  except:\n",
        "    new = ''\n",
        "  if og!=new and (og!='' and new!=''):\n",
        "    print(i)\n",
        "    print('\\t', skempi['#Pdb'][i], '  ',skempi['Mutation(s)_cleaned'][i])\n",
        "    print('\\t', og, new)\n",
        "    \n",
        "skempi_og['CrossChain'].equals(skempi_final['CrossChain'])"
      ],
      "execution_count": 7,
      "outputs": [
        {
          "output_type": "execute_result",
          "data": {
            "text/plain": [
              "True"
            ]
          },
          "metadata": {
            "tags": []
          },
          "execution_count": 7
        }
      ]
    }
  ]
}